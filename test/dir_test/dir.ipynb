{
 "cells": [
  {
   "cell_type": "code",
   "execution_count": null,
   "metadata": {},
   "outputs": [],
   "source": [
    "import sys, os\n",
    "sys.path.insert(1, os.getcwd()) \n",
    "sys.path.append(\"..\")\n",
    "sys.path.append(os.path.join(\"..\", \"..\"))\n",
    "\n",
    "from .. import modules"
   ]
  }
 ],
 "metadata": {
  "kernelspec": {
   "display_name": "Python 3.10.4 ('booklet')",
   "language": "python",
   "name": "python3"
  },
  "language_info": {
   "name": "python",
   "version": "3.10.4"
  },
  "orig_nbformat": 4,
  "vscode": {
   "interpreter": {
    "hash": "91501f0736b8e0b8fe6ca1efc9c080be7a2563742115aab8b326d1c7edbef68c"
   }
  }
 },
 "nbformat": 4,
 "nbformat_minor": 2
}
