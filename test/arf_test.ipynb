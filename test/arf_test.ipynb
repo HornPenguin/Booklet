{
 "cells": [
  {
   "cell_type": "code",
   "execution_count": 1,
   "metadata": {},
   "outputs": [],
   "source": [
    "from __future__ import annotations\n",
    "import numpy as np\n",
    "import math, sys, os\n",
    "from itertools import permutations\n",
    "sys.path.insert(1, os.getcwd()) \n",
    "sys.path.append(\"..\")\n",
    "\n",
    "from src import routines, textdata\n",
    "import PyPDF2 as pypdf"
   ]
  },
  {
   "cell_type": "code",
   "execution_count": 2,
   "metadata": {},
   "outputs": [],
   "source": [
    "testfilename= \"Arfken_pdf.pdf\""
   ]
  },
  {
   "cell_type": "code",
   "execution_count": 12,
   "metadata": {},
   "outputs": [],
   "source": [
    "rpdf = pypdf.PdfFileReader(testfilename)"
   ]
  },
  {
   "cell_type": "code",
   "execution_count": 13,
   "metadata": {},
   "outputs": [],
   "source": [
    "zeropage = rpdf.getPage(0)\n",
    "wpdf = pypdf.PdfFileWriter()\n",
    "wpdf.add_page(zeropage)\n",
    "\n",
    "with open('./warf.pdf', 'wb') as f:\n",
    "    wpdf.write(f)"
   ]
  },
  {
   "cell_type": "code",
   "execution_count": 21,
   "metadata": {},
   "outputs": [],
   "source": [
    "inputfile = \"Arfken_pdf.pdf\"\n",
    "outputfile = \"HP_\" + inputfile\n",
    "pagerange=\"3-17\"\n",
    "leaves = [4, 1, 4]\n",
    "fold = False\n",
    "riffle = True\n",
    "format = [False, 210,297]\n",
    "imposition =True\n",
    "blank = [\"back\", 1]\n",
    "split = False\n",
    "sigproof = [False, \"#112233\"]\n",
    "trim = True\n",
    "registration = True\n",
    "cmyk = False"
   ]
  },
  {
   "cell_type": "code",
   "execution_count": 22,
   "metadata": {},
   "outputs": [
    {
     "name": "stdout",
     "output_type": "stream",
     "text": [
      "page range: [3, 4, 5, 6, 7, 8, 9, 10, 11, 12, 13, 14, 15, 16, 17]\n",
      "leaves composition: [4, 1, 4]\n",
      "composition: (1, 1)\n",
      "layout = (1, 2)\n",
      "Output pages 16\n",
      "0 0x2+0 16\n",
      "1 0x2+1 16\n",
      "2 1x2+0 16\n",
      "3 1x2+1 16\n",
      "4 2x2+0 16\n",
      "5 2x2+1 16\n",
      "6 3x2+0 16\n",
      "7 3x2+1 16\n",
      "8 4x2+0 16\n",
      "9 4x2+1 16\n",
      "10 5x2+0 16\n",
      "11 5x2+1 16\n",
      "12 6x2+0 16\n",
      "13 6x2+1 16\n",
      "14 7x2+0 16\n",
      "15 7x2+1 16\n",
      "16 8x2+0 16\n"
     ]
    },
    {
     "ename": "IndexError",
     "evalue": "sequence index out of range",
     "output_type": "error",
     "traceback": [
      "\u001b[1;31m---------------------------------------------------------------------------\u001b[0m",
      "\u001b[1;31mIndexError\u001b[0m                                Traceback (most recent call last)",
      "\u001b[1;32mc:\\Users\\Hyunseong\\Documents\\GitHub\\Booklet\\test\\arf_test.ipynb 셀 6\u001b[0m in \u001b[0;36m<cell line: 1>\u001b[1;34m()\u001b[0m\n\u001b[1;32m----> <a href='vscode-notebook-cell:/c%3A/Users/Hyunseong/Documents/GitHub/Booklet/test/arf_test.ipynb#ch0000005?line=0'>1</a>\u001b[0m routines\u001b[39m.\u001b[39;49mPDFsig\u001b[39m.\u001b[39;49mgenerate_signature(inputfile\u001b[39m=\u001b[39;49minputfile,\n\u001b[0;32m      <a href='vscode-notebook-cell:/c%3A/Users/Hyunseong/Documents/GitHub/Booklet/test/arf_test.ipynb#ch0000005?line=1'>2</a>\u001b[0m                             outputfile\u001b[39m=\u001b[39;49moutputfile,\n\u001b[0;32m      <a href='vscode-notebook-cell:/c%3A/Users/Hyunseong/Documents/GitHub/Booklet/test/arf_test.ipynb#ch0000005?line=2'>3</a>\u001b[0m                             pagerange\u001b[39m=\u001b[39;49mpagerange,\n\u001b[0;32m      <a href='vscode-notebook-cell:/c%3A/Users/Hyunseong/Documents/GitHub/Booklet/test/arf_test.ipynb#ch0000005?line=3'>4</a>\u001b[0m                             leaves\u001b[39m=\u001b[39;49mleaves,\n\u001b[0;32m      <a href='vscode-notebook-cell:/c%3A/Users/Hyunseong/Documents/GitHub/Booklet/test/arf_test.ipynb#ch0000005?line=4'>5</a>\u001b[0m                             fold\u001b[39m=\u001b[39;49mfold,\n\u001b[0;32m      <a href='vscode-notebook-cell:/c%3A/Users/Hyunseong/Documents/GitHub/Booklet/test/arf_test.ipynb#ch0000005?line=5'>6</a>\u001b[0m                             riffle\u001b[39m=\u001b[39;49mriffle,\n\u001b[0;32m      <a href='vscode-notebook-cell:/c%3A/Users/Hyunseong/Documents/GitHub/Booklet/test/arf_test.ipynb#ch0000005?line=6'>7</a>\u001b[0m                             \u001b[39mformat\u001b[39;49m\u001b[39m=\u001b[39;49m \u001b[39mformat\u001b[39;49m,\n\u001b[0;32m      <a href='vscode-notebook-cell:/c%3A/Users/Hyunseong/Documents/GitHub/Booklet/test/arf_test.ipynb#ch0000005?line=7'>8</a>\u001b[0m                             imposition\u001b[39m=\u001b[39;49mimposition,\n\u001b[0;32m      <a href='vscode-notebook-cell:/c%3A/Users/Hyunseong/Documents/GitHub/Booklet/test/arf_test.ipynb#ch0000005?line=8'>9</a>\u001b[0m                             blank\u001b[39m=\u001b[39;49mblank,\n\u001b[0;32m     <a href='vscode-notebook-cell:/c%3A/Users/Hyunseong/Documents/GitHub/Booklet/test/arf_test.ipynb#ch0000005?line=9'>10</a>\u001b[0m                             split\u001b[39m=\u001b[39;49msplit,\n\u001b[0;32m     <a href='vscode-notebook-cell:/c%3A/Users/Hyunseong/Documents/GitHub/Booklet/test/arf_test.ipynb#ch0000005?line=10'>11</a>\u001b[0m                             sigproof\u001b[39m=\u001b[39;49msigproof, \u001b[39m#Printing marks\u001b[39;49;00m\n\u001b[0;32m     <a href='vscode-notebook-cell:/c%3A/Users/Hyunseong/Documents/GitHub/Booklet/test/arf_test.ipynb#ch0000005?line=11'>12</a>\u001b[0m                             trim\u001b[39m=\u001b[39;49mtrim,\n\u001b[0;32m     <a href='vscode-notebook-cell:/c%3A/Users/Hyunseong/Documents/GitHub/Booklet/test/arf_test.ipynb#ch0000005?line=12'>13</a>\u001b[0m                             registration\u001b[39m=\u001b[39;49mregistration,\n\u001b[0;32m     <a href='vscode-notebook-cell:/c%3A/Users/Hyunseong/Documents/GitHub/Booklet/test/arf_test.ipynb#ch0000005?line=13'>14</a>\u001b[0m                             cmyk\u001b[39m=\u001b[39;49mcmyk\n\u001b[0;32m     <a href='vscode-notebook-cell:/c%3A/Users/Hyunseong/Documents/GitHub/Booklet/test/arf_test.ipynb#ch0000005?line=14'>15</a>\u001b[0m                             )\n",
      "File \u001b[1;32mc:\\Users\\Hyunseong\\Documents\\GitHub\\Booklet\\test\\..\\src\\routines.py:867\u001b[0m, in \u001b[0;36mPDFsig.generate_signature\u001b[1;34m(cls, inputfile, outputfile, pagerange, leaves, fold, riffle, format, imposition, blank, split, sigproof, trim, registration, cmyk)\u001b[0m\n\u001b[0;32m    865\u001b[0m l \u001b[39m=\u001b[39m i\u001b[39m*\u001b[39m\u001b[39mint\u001b[39m(ns\u001b[39m/\u001b[39m\u001b[39m2\u001b[39m) \u001b[39m+\u001b[39m k\n\u001b[0;32m    866\u001b[0m \u001b[39mprint\u001b[39m(l, \u001b[39mf\u001b[39m\u001b[39m'\u001b[39m\u001b[39m{\u001b[39;00mi\u001b[39m}\u001b[39;00m\u001b[39mx\u001b[39m\u001b[39m{\u001b[39;00m\u001b[39mint\u001b[39m(ns\u001b[39m/\u001b[39m\u001b[39m2\u001b[39m)\u001b[39m}\u001b[39;00m\u001b[39m+\u001b[39m\u001b[39m{\u001b[39;00mk\u001b[39m}\u001b[39;00m\u001b[39m'\u001b[39m,\u001b[39mlen\u001b[39m(output_pdf\u001b[39m.\u001b[39mpages))\n\u001b[1;32m--> 867\u001b[0m page_wm \u001b[39m=\u001b[39m output_pdf\u001b[39m.\u001b[39mpages[l]\n\u001b[0;32m    868\u001b[0m x, y \u001b[39m=\u001b[39m position(k\u001b[39m+\u001b[39m\u001b[39m1\u001b[39m, layout)\n\u001b[0;32m    869\u001b[0m tx \u001b[39m=\u001b[39m nd \u001b[39m+\u001b[39m(pFormat_width \u001b[39m+\u001b[39m d)\u001b[39m*\u001b[39mx\n",
      "File \u001b[1;32mc:\\Users\\Hyunseong\\miniconda3\\envs\\booklet\\lib\\site-packages\\PyPDF2\\_page.py:1483\u001b[0m, in \u001b[0;36m_VirtualList.__getitem__\u001b[1;34m(self, index)\u001b[0m\n\u001b[0;32m   1481\u001b[0m     index \u001b[39m=\u001b[39m len_self \u001b[39m+\u001b[39m index\n\u001b[0;32m   1482\u001b[0m \u001b[39mif\u001b[39;00m index \u001b[39m<\u001b[39m \u001b[39m0\u001b[39m \u001b[39mor\u001b[39;00m index \u001b[39m>\u001b[39m\u001b[39m=\u001b[39m len_self:\n\u001b[1;32m-> 1483\u001b[0m     \u001b[39mraise\u001b[39;00m \u001b[39mIndexError\u001b[39;00m(\u001b[39m\"\u001b[39m\u001b[39msequence index out of range\u001b[39m\u001b[39m\"\u001b[39m)\n\u001b[0;32m   1484\u001b[0m \u001b[39mreturn\u001b[39;00m \u001b[39mself\u001b[39m\u001b[39m.\u001b[39mget_function(index)\n",
      "\u001b[1;31mIndexError\u001b[0m: sequence index out of range"
     ]
    }
   ],
   "source": [
    "routines.PDFsig.generate_signature(inputfile=inputfile,\n",
    "                            outputfile=outputfile,\n",
    "                            pagerange=pagerange,\n",
    "                            leaves=leaves,\n",
    "                            fold=fold,\n",
    "                            riffle=riffle,\n",
    "                            format= format,\n",
    "                            imposition=imposition,\n",
    "                            blank=blank,\n",
    "                            split=split,\n",
    "                            sigproof=sigproof, #Printing marks\n",
    "                            trim=trim,\n",
    "                            registration=registration,\n",
    "                            cmyk=cmyk\n",
    "                            )"
   ]
  },
  {
   "cell_type": "code",
   "execution_count": null,
   "metadata": {},
   "outputs": [],
   "source": []
  }
 ],
 "metadata": {
  "kernelspec": {
   "display_name": "Python 3.10.4 ('booklet')",
   "language": "python",
   "name": "python3"
  },
  "language_info": {
   "codemirror_mode": {
    "name": "ipython",
    "version": 3
   },
   "file_extension": ".py",
   "mimetype": "text/x-python",
   "name": "python",
   "nbconvert_exporter": "python",
   "pygments_lexer": "ipython3",
   "version": "3.10.4"
  },
  "orig_nbformat": 4,
  "vscode": {
   "interpreter": {
    "hash": "7a0064eb676495ab0294ef1746325145c23123edd6ffac423098a0856c3eb930"
   }
  }
 },
 "nbformat": 4,
 "nbformat_minor": 2
}
