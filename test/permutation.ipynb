{
 "cells": [
  {
   "cell_type": "markdown",
   "metadata": {},
   "source": [
    "## Permutation\n",
    "\n",
    "Permutation group element for integer $n$"
   ]
  },
  {
   "cell_type": "code",
   "execution_count": 1,
   "metadata": {},
   "outputs": [],
   "source": [
    "from __future__ import annotations\n",
    "from itertools import permutations"
   ]
  },
  {
   "cell_type": "code",
   "execution_count": 3,
   "metadata": {},
   "outputs": [],
   "source": [
    "per_test= Permutation(5, [2,5,4,3,1])"
   ]
  },
  {
   "cell_type": "code",
   "execution_count": 4,
   "metadata": {},
   "outputs": [
    {
     "name": "stdout",
     "output_type": "stream",
     "text": [
      "[2, 5, 4, 3, 1]\n",
      "[5, 1, 4, 3, 2]\n"
     ]
    }
   ],
   "source": [
    "per_inverse = per_test.inverse()\n",
    "print(per_test.plist)\n",
    "print(per_inverse.plist)"
   ]
  },
  {
   "cell_type": "code",
   "execution_count": 5,
   "metadata": {},
   "outputs": [
    {
     "data": {
      "text/plain": [
       "[1, 2, 3, 4, 5]"
      ]
     },
     "execution_count": 5,
     "metadata": {},
     "output_type": "execute_result"
    }
   ],
   "source": [
    "(per_inverse * per_test).plist"
   ]
  },
  {
   "cell_type": "markdown",
   "metadata": {},
   "source": [
    "## permutation notation\n",
    "Cauchy: 2 line notation\n",
    "\n",
    "Cyclic, Canonical Cyclic"
   ]
  },
  {
   "cell_type": "code",
   "execution_count": 6,
   "metadata": {},
   "outputs": [
    {
     "name": "stdout",
     "output_type": "stream",
     "text": [
      "[1, 2, 3, 4, 5]\n",
      "[2, 5, 4, 3, 1]\n"
     ]
    }
   ],
   "source": [
    "print(per_test.notation_cauchy())"
   ]
  },
  {
   "cell_type": "code",
   "execution_count": 7,
   "metadata": {},
   "outputs": [
    {
     "name": "stdout",
     "output_type": "stream",
     "text": [
      "[[1, 2, 5], [3, 4]]\n",
      "[[1, 5, 2], [3, 4]]\n"
     ]
    }
   ],
   "source": [
    "print(per_test.notation_cyclic())\n",
    "print(per_inverse.notation_cyclic())"
   ]
  },
  {
   "cell_type": "code",
   "execution_count": 9,
   "metadata": {},
   "outputs": [
    {
     "name": "stdout",
     "output_type": "stream",
     "text": [
      "(43)(512)\n",
      "(43)(521)\n"
     ]
    }
   ],
   "source": [
    "print(per_test.notation_cyclic(canonical=True, string= True))\n",
    "print(per_inverse.notation_cyclic(canonical=True, string=True))"
   ]
  },
  {
   "cell_type": "code",
   "execution_count": 2,
   "metadata": {},
   "outputs": [],
   "source": [
    "class Permutation:\n",
    "    @classmethod\n",
    "    def get_permutations(cls, n, per=False): # get list of permutations for given 'n'\n",
    "        per = permutations(range(1, n+1), n)\n",
    "        if per:\n",
    "            return [cls(n, p) for p in per]\n",
    "        else:\n",
    "            return [ p for p in per]\n",
    "    @classmethod\n",
    "    def reverse_permutation(cls, n):\n",
    "        return cls(n, range(n, 0, -1)) \n",
    "\n",
    "\n",
    "    def __init__(self, n, plist):\n",
    "        if len(plist) != n:\n",
    "            raise ValueError(f\"{n} must be same with len(plist) = {len(plist)}\")\n",
    "\n",
    "        if sum(plist) != int(n* (n+1)/2):\n",
    "            raise ValueError(f\"plist does not satisfy permutation proeprty.\\n All [0, n-1] values must be in plist. \\n {plist}\")\n",
    "\n",
    "        self.n = n\n",
    "        self.plist = plist\n",
    "    def __getitem__(self, key):\n",
    "        if type(key) != int:\n",
    "            raise ValueError(f\"key must be an integer type element: {key}\")\n",
    "        if key < 1 or key > self.n:\n",
    "            raise IndexError(f\"{key} must be in [1, {self.n}] range.\")\n",
    "        \n",
    "        return self.plist[key-1]\n",
    "    def __mul__(self, other: Permutation) -> Permutation:\n",
    "        if self.n != other.n:\n",
    "            raise ValueError(f\"{self.n} and {other.n} are not same.\")\n",
    "        \n",
    "        rlist = [other[x] for x in self.plist]\n",
    "        return Permutation(self.n, rlist)\n",
    "\n",
    "    def index_mul(self, other, oper=False):\n",
    "\n",
    "        rlist = [self[x] for x in other.plist]\n",
    "        if oper:\n",
    "            self.plist= rlist\n",
    "        else:\n",
    "            return Permutation(self.n, rlist)\n",
    "\n",
    "    def index_mul_partial(self, sub_permutation, oper = False): #Work on indexing\n",
    "        if not isinstance( sub_permutation, Permutation):\n",
    "            raise ValueError(f\"Given parameter must be \\'Permutation\\' object. \\n Current object:{type(sub_permutation)}\")\n",
    "        if self.n %sub_permutation.n != 0:\n",
    "            raise ValueError(f\"Sub permutation must have a divisor of main permuatain size as its size\\n main:{self.n}, sub:{sub_permutation.n}\")\n",
    "\n",
    "        n = int(self.n / sub_permutation.n)\n",
    "        m = sub_permutation.n\n",
    "        \n",
    "        rlist = []\n",
    "        for i in range(0,n):\n",
    "            tem_rlist = [self.plist[x+m*i -1] for x in sub_permutation.plist]\n",
    "            rlist = rlist + tem_rlist\n",
    "        \n",
    "        if oper:\n",
    "            self.plist = rlist\n",
    "        else:\n",
    "            return Permutation(self.n, rlist)\n",
    "\n",
    "    def permute_to_list_index(self, li):\n",
    "        if len(li) != self.n:\n",
    "            raise ValueError(f\"{len(li)} ! = {self.n}\")\n",
    "        \n",
    "        rlist = [li[x-1] for x in self.plist ]\n",
    "        return rlist\n",
    "\n",
    "    def inverse(self)-> Permutation:\n",
    "        ilist= [self.plist.index(x)+1 for x in range(1, self.n+1)]\n",
    "        return Permutation(self.n, ilist)\n",
    "    \n",
    "    def notation_cauchy(self):\n",
    "        return f\"{list(range(1, self.n+1))}\\n{self.plist}\"\n",
    "\n",
    "    \n",
    "    def __canocial_order(self, cyclist):\n",
    "        c_clist_1 = []\n",
    "        c_clist_2 = []\n",
    "        for li in cyclist:\n",
    "            n = len(li)\n",
    "            nmax = li.index(max(li))\n",
    "            c_clist_1.append([li[x] for x in range(nmax-n, nmax)])\n",
    "        maxindex = [x[0] for x in c_clist_1]\n",
    "        s_index = sorted(maxindex)\n",
    "\n",
    "        for i in s_index:\n",
    "            c_clist_2.append(c_clist_1[maxindex.index(i)])\n",
    "        \n",
    "        return c_clist_2\n",
    "\n",
    "    def notation_cyclic(self, canonical=False, string= False, sep=''):\n",
    "        cycliclist = []\n",
    "        index = list(range(1, self.n+1))\n",
    "        i =1\n",
    "\n",
    "        while True:\n",
    "            ilist = []\n",
    "            ilist.append(i)\n",
    "            index.remove(i)\n",
    "            \n",
    "            sig_i = self[i]\n",
    "            while sig_i in index:\n",
    "                ilist.append(sig_i)\n",
    "                index.remove(sig_i)\n",
    "                sig_i = self[sig_i]\n",
    "            \n",
    "            cycliclist.append(ilist)\n",
    "\n",
    "            if len(index) > 0:\n",
    "                i = min(index)\n",
    "            else: \n",
    "                break\n",
    "        if canonical:\n",
    "            cycliclist = self.__canocial_order(cycliclist)\n",
    "        \n",
    "        if string:\n",
    "            cycstr = ''\n",
    "            for li in cycliclist:\n",
    "                cycstr = cycstr+ '('+f'{sep}'.join(map(str,li))+')'\n",
    "            return cycstr\n",
    "        else:\n",
    "            return cycliclist\n",
    "\n"
   ]
  },
  {
   "cell_type": "code",
   "execution_count": 18,
   "metadata": {},
   "outputs": [],
   "source": [
    "testlist = [i for i in range(1,8+1)]"
   ]
  },
  {
   "cell_type": "code",
   "execution_count": 19,
   "metadata": {},
   "outputs": [
    {
     "data": {
      "text/plain": [
       "[1, 2, 3, 4, 5, 6, 7, 8]"
      ]
     },
     "execution_count": 19,
     "metadata": {},
     "output_type": "execute_result"
    }
   ],
   "source": [
    "testlist"
   ]
  },
  {
   "cell_type": "code",
   "execution_count": 11,
   "metadata": {},
   "outputs": [],
   "source": [
    "def split_list(li, n):\n",
    "    if len(li) %n !=0:\n",
    "        raise ValueError(f\"The length of sublist, {n}, must be a divider of original list, {len(li)}. \")\n",
    "    \n",
    "    rlist =[]\n",
    "    for i in range(0, int(len(li)/n)):\n",
    "        ni = n*i\n",
    "        rlist.append([li[ni: ni+n]][0])\n",
    "\n",
    "    return rlist\n",
    "def sig_rearrange(nn, ns, split=False): #1\n",
    "        if ns == 1:\n",
    "            return range(0,nn)\n",
    "        n_l = nn*ns\n",
    "\n",
    "        nlist = [i+1 for i in range(0, n_l)]\n",
    "        nlist_splited = split_list(nlist, int(ns/2)) if ns != 1 else nlist\n",
    "        rlist=[]\n",
    "\n",
    "        if split:\n",
    "            for i in range(0, nn):\n",
    "                print(nn)\n",
    "                print(2*nn-i-1)\n",
    "                rlist.append(nlist_splited[i]+nlist_splited[2*nn-i-1])\n",
    "        else:\n",
    "            for i in range(0,nn):\n",
    "                rlist = rlist + nlist_splited[i] + nlist_splited[2*nn-i-1]\n",
    "\n",
    "        return rlist"
   ]
  },
  {
   "cell_type": "code",
   "execution_count": 12,
   "metadata": {},
   "outputs": [
    {
     "name": "stdout",
     "output_type": "stream",
     "text": [
      "1\n",
      "1\n"
     ]
    },
    {
     "ename": "IndexError",
     "evalue": "list index out of range",
     "output_type": "error",
     "traceback": [
      "\u001b[1;31m---------------------------------------------------------------------------\u001b[0m",
      "\u001b[1;31mIndexError\u001b[0m                                Traceback (most recent call last)",
      "\u001b[1;32mc:\\Users\\qwqwh\\Documents\\GitHub\\Booklet\\test\\permutation.ipynb Cell 14'\u001b[0m in \u001b[0;36m<cell line: 1>\u001b[1;34m()\u001b[0m\n\u001b[1;32m----> <a href='vscode-notebook-cell:/c%3A/Users/qwqwh/Documents/GitHub/Booklet/test/permutation.ipynb#ch0000014?line=0'>1</a>\u001b[0m sig_rearrange(\u001b[39m1\u001b[39;49m,\u001b[39m1\u001b[39;49m, split\u001b[39m=\u001b[39;49m\u001b[39mTrue\u001b[39;49;00m)\n",
      "\u001b[1;32mc:\\Users\\qwqwh\\Documents\\GitHub\\Booklet\\test\\permutation.ipynb Cell 13'\u001b[0m in \u001b[0;36msig_rearrange\u001b[1;34m(nn, ns, split)\u001b[0m\n\u001b[0;32m     <a href='vscode-notebook-cell:/c%3A/Users/qwqwh/Documents/GitHub/Booklet/test/permutation.ipynb#ch0000012?line=19'>20</a>\u001b[0m         \u001b[39mprint\u001b[39m(nn)\n\u001b[0;32m     <a href='vscode-notebook-cell:/c%3A/Users/qwqwh/Documents/GitHub/Booklet/test/permutation.ipynb#ch0000012?line=20'>21</a>\u001b[0m         \u001b[39mprint\u001b[39m(\u001b[39m2\u001b[39m\u001b[39m*\u001b[39mnn\u001b[39m-\u001b[39mi\u001b[39m-\u001b[39m\u001b[39m1\u001b[39m)\n\u001b[1;32m---> <a href='vscode-notebook-cell:/c%3A/Users/qwqwh/Documents/GitHub/Booklet/test/permutation.ipynb#ch0000012?line=21'>22</a>\u001b[0m         rlist\u001b[39m.\u001b[39mappend(nlist_splited[i]\u001b[39m+\u001b[39mnlist_splited[\u001b[39m2\u001b[39;49m\u001b[39m*\u001b[39;49mnn\u001b[39m-\u001b[39;49mi\u001b[39m-\u001b[39;49m\u001b[39m1\u001b[39;49m])\n\u001b[0;32m     <a href='vscode-notebook-cell:/c%3A/Users/qwqwh/Documents/GitHub/Booklet/test/permutation.ipynb#ch0000012?line=22'>23</a>\u001b[0m \u001b[39melse\u001b[39;00m:\n\u001b[0;32m     <a href='vscode-notebook-cell:/c%3A/Users/qwqwh/Documents/GitHub/Booklet/test/permutation.ipynb#ch0000012?line=23'>24</a>\u001b[0m     \u001b[39mfor\u001b[39;00m i \u001b[39min\u001b[39;00m \u001b[39mrange\u001b[39m(\u001b[39m0\u001b[39m,nn):\n",
      "\u001b[1;31mIndexError\u001b[0m: list index out of range"
     ]
    }
   ],
   "source": [
    "sig_rearrange(1,1, split=True)"
   ]
  },
  {
   "cell_type": "code",
   "execution_count": 18,
   "metadata": {},
   "outputs": [
    {
     "data": {
      "text/plain": [
       "range(1, 3, 2)"
      ]
     },
     "execution_count": 18,
     "metadata": {},
     "output_type": "execute_result"
    }
   ],
   "source": [
    "range(0,3)[1::2]"
   ]
  },
  {
   "cell_type": "code",
   "execution_count": 54,
   "metadata": {},
   "outputs": [
    {
     "data": {
      "text/plain": [
       "[[1, 2], [3, 4], [5, 6], [7, 8]]"
      ]
     },
     "execution_count": 54,
     "metadata": {},
     "output_type": "execute_result"
    }
   ],
   "source": [
    "nlist_splited"
   ]
  },
  {
   "cell_type": "code",
   "execution_count": 20,
   "metadata": {},
   "outputs": [],
   "source": [
    "fold_arrange ={ # From left-top to right-bottom\n",
    "    4: [\n",
    "            [4,1], # Front page\n",
    "            [2,3]  # Back page\n",
    "        ],\n",
    "    8: [\n",
    "        [8,1,5,4],\n",
    "        [2,7,3,6]\n",
    "    ],\n",
    "    12: [\n",
    "        [12,1,9,4,8,5],\n",
    "        [2,11,3,10,6,7]\n",
    "    ],\n",
    "    16: [\n",
    "        [16,1,4,13,9,8,5,12],\n",
    "        [10,7,6,11,15,2,3,14]\n",
    "    ],\n",
    "    24: [\n",
    "        [24, 1, 12, 13, 21, 4, 9, 16, 20, 5, 8, 17],\n",
    "        [14, 11, 2, 23, 15, 10, 3, 22, 18, 7, 6, 19]\n",
    "    ],\n",
    "    32: [\n",
    "        [44,21,28,37,40,25,24,41,53,12,5,60,57,8,9,56,52,13,4,61,64,1,16,49,45,20,29,36,33,32,17,48],\n",
    "        [46,19,30,35,34,31,18,47,51,14,3,62,63,2,15,50,54,11,6,59,58,7,10,55,43,22,27,38,39,26,23,42]\n",
    "    ]\n",
    "}\n",
    "def sig_layout(n:int)->tuple:\n",
    "    if type(n) != int:\n",
    "        raise ValueError(\"n is not an integer\")\n",
    "    if n==1:\n",
    "        return (1,1) \n",
    "    elif n<4 or n%4 !=0:\n",
    "        raise ValueError(f\"n:{n} must be a positive integer that multiple of 4.\")\n",
    "    if n%3 ==0:\n",
    "        i = log2(n) - log2(3) -1\n",
    "        return(3, int(2**i))\n",
    "    else:\n",
    "        i = int(log2(n/4))\n",
    "        if i%2 :\n",
    "            k = kp = int((i+1)/2)\n",
    "        else:\n",
    "            k = int(i/2)\n",
    "            kp = k+1\n",
    "        return (int(2**k), int(2**kp)) "
   ]
  },
  {
   "cell_type": "code",
   "execution_count": 62,
   "metadata": {},
   "outputs": [
    {
     "data": {
      "text/plain": [
       "(8, 16)"
      ]
     },
     "execution_count": 62,
     "metadata": {},
     "output_type": "execute_result"
    }
   ],
   "source": [
    "sig_layout(256)"
   ]
  },
  {
   "cell_type": "code",
   "execution_count": 21,
   "metadata": {},
   "outputs": [],
   "source": [
    "import numpy as np\n",
    "import sys\n",
    "from typing import Union, Tuple, NoReturn\n",
    "sys.path.append(\"..\")\n",
    "sys.path.append(\".\")\n",
    "from math import log, log2\n",
    "from permutation import Permutation"
   ]
  },
  {
   "cell_type": "code",
   "execution_count": 19,
   "metadata": {},
   "outputs": [],
   "source": [
    "def __fold_matrix_update(n:int, matrix:np.ndarray) -> np.ndarray:\n",
    "    n_1 = np.flip(matrix.T, axis=0)\n",
    "    len_n = len(n_1[0])\n",
    "    l = int(len_n/2)\n",
    "    rows =[]\n",
    "    for row in n_1:\n",
    "        r_split = np.split(row,l)\n",
    "        row_appended = []\n",
    "        for tu in r_split:\n",
    "            tem = np.array([n-tu[0] +1,n-tu[1] +1])\n",
    "            row_appended.append(np.insert(tem, 1, tu))    \n",
    "        rows.append(np.concatenate(row_appended, axis=None))     \n",
    "    return np.stack(rows)\n",
    "\n",
    "def fold_arrange_n(n, per=False)->Union[list, Permutation]:\n",
    "    if n==2:\n",
    "        if per:\n",
    "            return Permutation(2, [1,2])\n",
    "        else:\n",
    "            return [[1],[2]]\n",
    "    if n % 4 !=0:\n",
    "        raise ValueError(\"Fold sheets must be 4*2^k for k= 0, 1, 2, .... \\n Current value is {n}\")\n",
    "    \n",
    "    if n < 64:\n",
    "        fn = fold_arrange[n]\n",
    "        if per:\n",
    "            return Permutation(n, fn[0]+fn[1])\n",
    "        else:\n",
    "            return fn\n",
    "    else:\n",
    "        n_iter = int(log(n/16,2))\n",
    "        n_i = 32\n",
    "        per_n_1 = [fold_arrange[n_i][0], fold_arrange[n_i][1]]\n",
    "        #permutation to matrix\n",
    "        layout_n_1 = sig_layout(n_i)\n",
    "        front_matrix = np.array(per_n_1[0]).reshape(layout_n_1)\n",
    "        back_matrix = np.array(per_n_1[1]).reshape(layout_n_1)\n",
    "        for i in range(0, n_iter):\n",
    "            n_i = 2*n_i\n",
    "            front_matrix = __fold_matrix_update(n_i, front_matrix)\n",
    "            back_matrix = __fold_matrix_update(n_i, back_matrix)   \n",
    "    per_fn = np.concatenate(front_matrix).tolist() \n",
    "    per_bn = np.concatenate(back_matrix).tolist()\n",
    "    \n",
    "    if per:\n",
    "        return Permutation(n, per_fn+per_bn )\n",
    "    else:\n",
    "        return [per_fn, per_bn]"
   ]
  },
  {
   "cell_type": "code",
   "execution_count": 77,
   "metadata": {},
   "outputs": [],
   "source": [
    "def transpose(matrix:list)->list:\n",
    "    size_rows = len(matrix)\n",
    "    size_columns = len(matrix[0])\n",
    "\n",
    "    t = list()\n",
    "    for i in range(0, size_columns):\n",
    "        t.append([])\n",
    "    \n",
    "    for i in range(0, size_rows):\n",
    "        for j in range(0,size_columns):\n",
    "            t[j].append(matrix[i][j])\n",
    "    \n",
    "    return t\n",
    "def flip(matrix): #axis=0\n",
    "    size = len(matrix)\n",
    "\n",
    "    f = list()\n",
    "    for i in range(0, size):\n",
    "        f.append(matrix[size-i-1])\n",
    "    \n",
    "    return f \n",
    "def split_list(li: list, n:int, mode='l')->list:\n",
    "    \"\"\"\n",
    "    :param li: list, list to be splited.\n",
    "    :param n: int, The length of sublist. It must be a divider of the length of :param:`li` list.\n",
    "    :param mode: str, The mode of split, `l`: length of sublist, `n`: number of sublist\n",
    "    \"\"\"\n",
    "    if mode != 'l' and mode != 'n':\n",
    "        raise ValueError('The \\'mode\\' parameter must be \\'l\\' or \\'n\\', current = {mode}')\n",
    "\n",
    "    num = n\n",
    "    l_li = len(li)\n",
    "    if mode =='n':\n",
    "        if l_li%num !=0:\n",
    "            raise ValueError('The length of the given list and the sublist length must have a divider relationship.')\n",
    "        num = int(l_li/num)\n",
    "        mode ='l'\n",
    "\n",
    "    if mode == 'l':\n",
    "        if num <=1:\n",
    "            return li\n",
    "        if len(li) %num !=0:\n",
    "            raise ValueError(f\"The length of sublist, {num}, must be a divider of original list, {len(li)}. \")\n",
    "\n",
    "        rlist =[]\n",
    "        for i in range(0, int(l_li/num)):\n",
    "            ni = num*i\n",
    "            rlist.append([li[ni: ni+num]][0])\n",
    "\n",
    "    return rlist \n",
    "def concatenate(lists):\n",
    "    length = len(lists)\n",
    "\n",
    "    rlist = list()\n",
    "    for i in range(0, length):\n",
    "        for element in lists[i]:\n",
    "            rlist.append(element)\n",
    "    \n",
    "    return rlist\n",
    "\n",
    "def reshape(list_1d, shape):\n",
    "    size_1d = len(list_1d)\n",
    "    if size_1d != shape[0] * shape[1]:\n",
    "        raise ValueError(\"The list length and shape are not matched each other.\")\n",
    "    return split_list(list_1d, shape[0], mode='n')"
   ]
  },
  {
   "cell_type": "code",
   "execution_count": 79,
   "metadata": {},
   "outputs": [],
   "source": [
    "test_transpose = [[1,2],[3,4],[5,6],[7,8]]\n",
    "test_transpose2 = [ [1,2,3,4,5,6],\n",
    "                   [7,8,9,10,11,12],\n",
    "                   [13,14,15,16,17,18],\n",
    "                   [19,20,21,22,23,24],\n",
    "                   [25,26,27,28,29,30],\n",
    "                   [31,32,33,34,35,36]]"
   ]
  },
  {
   "cell_type": "code",
   "execution_count": 74,
   "metadata": {},
   "outputs": [
    {
     "data": {
      "text/plain": [
       "[[1, 2], [3, 4], [5, 6], [7, 8]]"
      ]
     },
     "execution_count": 74,
     "metadata": {},
     "output_type": "execute_result"
    }
   ],
   "source": [
    "test_transpose"
   ]
  },
  {
   "cell_type": "code",
   "execution_count": 80,
   "metadata": {},
   "outputs": [
    {
     "data": {
      "text/plain": [
       "[[1, 3, 5, 7], [2, 4, 6, 8]]"
      ]
     },
     "execution_count": 80,
     "metadata": {},
     "output_type": "execute_result"
    }
   ],
   "source": [
    "transpose(test_transpose)"
   ]
  },
  {
   "cell_type": "code",
   "execution_count": 81,
   "metadata": {},
   "outputs": [
    {
     "data": {
      "text/plain": [
       "[[1, 7, 13, 19, 25, 31],\n",
       " [2, 8, 14, 20, 26, 32],\n",
       " [3, 9, 15, 21, 27, 33],\n",
       " [4, 10, 16, 22, 28, 34],\n",
       " [5, 11, 17, 23, 29, 35],\n",
       " [6, 12, 18, 24, 30, 36]]"
      ]
     },
     "execution_count": 81,
     "metadata": {},
     "output_type": "execute_result"
    }
   ],
   "source": [
    "transpose(test_transpose2)"
   ]
  },
  {
   "cell_type": "code",
   "execution_count": 55,
   "metadata": {},
   "outputs": [
    {
     "data": {
      "text/plain": [
       "[[1, 2], [3, 4], [5, 6]]"
      ]
     },
     "execution_count": 55,
     "metadata": {},
     "output_type": "execute_result"
    }
   ],
   "source": [
    "split_list([1,2,3,4,5,6], 3, mode='n')"
   ]
  },
  {
   "cell_type": "code",
   "execution_count": 37,
   "metadata": {},
   "outputs": [],
   "source": [
    "def __fold_matrix_update_pre(n:int, matrix:np.ndarray) -> np.ndarray:\n",
    "    n_1 = np.flip(matrix.T, axis=0)\n",
    "    len_n = len(n_1[0])\n",
    "    l = int(len_n/2)\n",
    "    rows =[]\n",
    "    for row in n_1:\n",
    "        r_split = np.split(row,l)\n",
    "        row_appended = []\n",
    "        for tu in r_split:\n",
    "            tem = np.array([n-tu[0] +1,n-tu[1] +1])\n",
    "            row_appended.append(np.insert(tem, 1, tu))    \n",
    "        rows.append(np.concatenate(row_appended, axis=None))     \n",
    "    return np.stack(rows)"
   ]
  },
  {
   "cell_type": "code",
   "execution_count": null,
   "metadata": {},
   "outputs": [],
   "source": [
    "def fold_arrange_n(n, per=False)->Union[list, Permutation]:\n",
    "    if n==2:\n",
    "        if per:\n",
    "            return Permutation(2, [1,2])\n",
    "        else:\n",
    "            return [[1],[2]]\n",
    "    if n % 4 !=0:\n",
    "        raise ValueError(\"Fold sheets must be 4*2^k for k= 0, 1, 2, .... \\n Current value is {n}\")\n",
    "    \n",
    "    if n < 64:\n",
    "        fn = fold_arrange[n]\n",
    "        if per:\n",
    "            return Permutation(n, fn[0]+fn[1])\n",
    "        else:\n",
    "            return fn\n",
    "    else:\n",
    "        n_iter = int(log(n/16,2))\n",
    "        n_i = 32\n",
    "        per_n_1 = [fold_arrange[n_i][0], fold_arrange[n_i][1]]\n",
    "        #permutation to matrix\n",
    "        layout_n_1 = sig_layout(n_i)\n",
    "        front_matrix = reshape(per_n_1[0], layout_n_1)\n",
    "        back_matrix = reshape(per_n_1[1], layout_n_1)\n",
    "        for i in range(0, n_iter):\n",
    "            n_i = 2*n_i\n",
    "            front_matrix = __fold_matrix_update(n_i, front_matrix)\n",
    "            back_matrix = __fold_matrix_update(n_i, back_matrix)   \n",
    "    per_fn = concatenate(front_matrix)\n",
    "    per_bn = concatenate(back_matrix)\n",
    "    \n",
    "    if per:\n",
    "        return Permutation(n, per_fn+per_bn )\n",
    "    else:\n",
    "        return [per_fn, per_bn]"
   ]
  },
  {
   "cell_type": "code",
   "execution_count": 64,
   "metadata": {},
   "outputs": [],
   "source": [
    "a= [1,4]\n",
    "a.insert(1,[2,3])"
   ]
  },
  {
   "cell_type": "code",
   "execution_count": 69,
   "metadata": {},
   "outputs": [
    {
     "data": {
      "text/plain": [
       "[1, 2, 3, 4, 5, 6, 7, 8, 9, 10, 11, 12, 13, 14, 15, 16, 17, 18]"
      ]
     },
     "execution_count": 69,
     "metadata": {},
     "output_type": "execute_result"
    }
   ],
   "source": [
    "concatenate([[1,2,3,4],[5,6,7,8,9],[10,11],[12,13,14,15,16,17,18]])"
   ]
  },
  {
   "cell_type": "code",
   "execution_count": 70,
   "metadata": {},
   "outputs": [],
   "source": [
    "a = np.array([1, 2, 3])\n",
    "b = np.array([4, 5, 6])"
   ]
  },
  {
   "cell_type": "code",
   "execution_count": 71,
   "metadata": {},
   "outputs": [
    {
     "data": {
      "text/plain": [
       "array([[1, 2, 3],\n",
       "       [4, 5, 6]])"
      ]
     },
     "execution_count": 71,
     "metadata": {},
     "output_type": "execute_result"
    }
   ],
   "source": [
    "np.stack([a,b])"
   ]
  },
  {
   "cell_type": "code",
   "execution_count": null,
   "metadata": {},
   "outputs": [],
   "source": [
    "def __fold_matrix_update(n:int, matrix:np.ndarray) -> np.ndarray:\n",
    "    n1 = flip(transpose(matrix))\n",
    "    len_n = len(n1)\n",
    "    l = int(len_n/2)\n",
    "    rows =[]\n",
    "    for row in n1:\n",
    "        r_split = split_list(row, l, mode='n')\n",
    "        row_appended = []\n",
    "        for tu in r_split:\n",
    "            tem = [n-tu[0] +1,n-tu[1] +1]\n",
    "            row_appended.append(tem.insert(1, tu[1]))\n",
    "            row_appended.append(tem.insert(1, tu[0]))\n",
    "        rows.append(concatenate(row_appended))\n",
    "    return rows"
   ]
  }
 ],
 "metadata": {
  "kernelspec": {
   "display_name": "Python 3.10.4 ('booklet')",
   "language": "python",
   "name": "python3"
  },
  "language_info": {
   "codemirror_mode": {
    "name": "ipython",
    "version": 3
   },
   "file_extension": ".py",
   "mimetype": "text/x-python",
   "name": "python",
   "nbconvert_exporter": "python",
   "pygments_lexer": "ipython3",
   "version": "3.10.4"
  },
  "orig_nbformat": 4,
  "vscode": {
   "interpreter": {
    "hash": "91501f0736b8e0b8fe6ca1efc9c080be7a2563742115aab8b326d1c7edbef68c"
   }
  }
 },
 "nbformat": 4,
 "nbformat_minor": 2
}
