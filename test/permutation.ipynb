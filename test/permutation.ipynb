{
 "cells": [
  {
   "cell_type": "markdown",
   "metadata": {},
   "source": [
    "## Permutation\n",
    "\n",
    "Permutation group element for integer $n$"
   ]
  },
  {
   "cell_type": "code",
   "execution_count": 1,
   "metadata": {},
   "outputs": [],
   "source": [
    "from __future__ import annotations\n",
    "from itertools import permutations"
   ]
  },
  {
   "cell_type": "code",
   "execution_count": 3,
   "metadata": {},
   "outputs": [],
   "source": [
    "per_test= Permutation(5, [2,5,4,3,1])"
   ]
  },
  {
   "cell_type": "code",
   "execution_count": 4,
   "metadata": {},
   "outputs": [
    {
     "name": "stdout",
     "output_type": "stream",
     "text": [
      "[2, 5, 4, 3, 1]\n",
      "[5, 1, 4, 3, 2]\n"
     ]
    }
   ],
   "source": [
    "per_inverse = per_test.inverse()\n",
    "print(per_test.plist)\n",
    "print(per_inverse.plist)"
   ]
  },
  {
   "cell_type": "code",
   "execution_count": 5,
   "metadata": {},
   "outputs": [
    {
     "data": {
      "text/plain": [
       "[1, 2, 3, 4, 5]"
      ]
     },
     "execution_count": 5,
     "metadata": {},
     "output_type": "execute_result"
    }
   ],
   "source": [
    "(per_inverse * per_test).plist"
   ]
  },
  {
   "cell_type": "markdown",
   "metadata": {},
   "source": [
    "## permutation notation\n",
    "Cauchy: 2 line notation\n",
    "\n",
    "Cyclic, Canonical Cyclic"
   ]
  },
  {
   "cell_type": "code",
   "execution_count": 6,
   "metadata": {},
   "outputs": [
    {
     "name": "stdout",
     "output_type": "stream",
     "text": [
      "[1, 2, 3, 4, 5]\n",
      "[2, 5, 4, 3, 1]\n"
     ]
    }
   ],
   "source": [
    "print(per_test.notation_cauchy())"
   ]
  },
  {
   "cell_type": "code",
   "execution_count": 7,
   "metadata": {},
   "outputs": [
    {
     "name": "stdout",
     "output_type": "stream",
     "text": [
      "[[1, 2, 5], [3, 4]]\n",
      "[[1, 5, 2], [3, 4]]\n"
     ]
    }
   ],
   "source": [
    "print(per_test.notation_cyclic())\n",
    "print(per_inverse.notation_cyclic())"
   ]
  },
  {
   "cell_type": "code",
   "execution_count": 9,
   "metadata": {},
   "outputs": [
    {
     "name": "stdout",
     "output_type": "stream",
     "text": [
      "(43)(512)\n",
      "(43)(521)\n"
     ]
    }
   ],
   "source": [
    "print(per_test.notation_cyclic(canonical=True, string= True))\n",
    "print(per_inverse.notation_cyclic(canonical=True, string=True))"
   ]
  },
  {
   "cell_type": "code",
   "execution_count": 2,
   "metadata": {},
   "outputs": [],
   "source": [
    "class Permutation:\n",
    "    @classmethod\n",
    "    def get_permutations(cls, n, per=False): # get list of permutations for given 'n'\n",
    "        per = permutations(range(1, n+1), n)\n",
    "        if per:\n",
    "            return [cls(n, p) for p in per]\n",
    "        else:\n",
    "            return [ p for p in per]\n",
    "    @classmethod\n",
    "    def reverse_permutation(cls, n):\n",
    "        return cls(n, range(n, 0, -1)) \n",
    "\n",
    "\n",
    "    def __init__(self, n, plist):\n",
    "        if len(plist) != n:\n",
    "            raise ValueError(f\"{n} must be same with len(plist) = {len(plist)}\")\n",
    "\n",
    "        if sum(plist) != int(n* (n+1)/2):\n",
    "            raise ValueError(f\"plist does not satisfy permutation proeprty.\\n All [0, n-1] values must be in plist. \\n {plist}\")\n",
    "\n",
    "        self.n = n\n",
    "        self.plist = plist\n",
    "    def __getitem__(self, key):\n",
    "        if type(key) != int:\n",
    "            raise ValueError(f\"key must be an integer type element: {key}\")\n",
    "        if key < 1 or key > self.n:\n",
    "            raise IndexError(f\"{key} must be in [1, {self.n}] range.\")\n",
    "        \n",
    "        return self.plist[key-1]\n",
    "    def __mul__(self, other: Permutation) -> Permutation:\n",
    "        if self.n != other.n:\n",
    "            raise ValueError(f\"{self.n} and {other.n} are not same.\")\n",
    "        \n",
    "        rlist = [other[x] for x in self.plist]\n",
    "        return Permutation(self.n, rlist)\n",
    "\n",
    "    def index_mul(self, other, oper=False):\n",
    "\n",
    "        rlist = [self[x] for x in other.plist]\n",
    "        if oper:\n",
    "            self.plist= rlist\n",
    "        else:\n",
    "            return Permutation(self.n, rlist)\n",
    "\n",
    "    def index_mul_partial(self, sub_permutation, oper = False): #Work on indexing\n",
    "        if not isinstance( sub_permutation, Permutation):\n",
    "            raise ValueError(f\"Given parameter must be \\'Permutation\\' object. \\n Current object:{type(sub_permutation)}\")\n",
    "        if self.n %sub_permutation.n != 0:\n",
    "            raise ValueError(f\"Sub permutation must have a divisor of main permuatain size as its size\\n main:{self.n}, sub:{sub_permutation.n}\")\n",
    "\n",
    "        n = int(self.n / sub_permutation.n)\n",
    "        m = sub_permutation.n\n",
    "        \n",
    "        rlist = []\n",
    "        for i in range(0,n):\n",
    "            tem_rlist = [self.plist[x+m*i -1] for x in sub_permutation.plist]\n",
    "            rlist = rlist + tem_rlist\n",
    "        \n",
    "        if oper:\n",
    "            self.plist = rlist\n",
    "        else:\n",
    "            return Permutation(self.n, rlist)\n",
    "\n",
    "    def permute_to_list_index(self, li):\n",
    "        if len(li) != self.n:\n",
    "            raise ValueError(f\"{len(li)} ! = {self.n}\")\n",
    "        \n",
    "        rlist = [li[x-1] for x in self.plist ]\n",
    "        return rlist\n",
    "\n",
    "    def inverse(self)-> Permutation:\n",
    "        ilist= [self.plist.index(x)+1 for x in range(1, self.n+1)]\n",
    "        return Permutation(self.n, ilist)\n",
    "    \n",
    "    def notation_cauchy(self):\n",
    "        return f\"{list(range(1, self.n+1))}\\n{self.plist}\"\n",
    "\n",
    "    \n",
    "    def __canocial_order(self, cyclist):\n",
    "        c_clist_1 = []\n",
    "        c_clist_2 = []\n",
    "        for li in cyclist:\n",
    "            n = len(li)\n",
    "            nmax = li.index(max(li))\n",
    "            c_clist_1.append([li[x] for x in range(nmax-n, nmax)])\n",
    "        maxindex = [x[0] for x in c_clist_1]\n",
    "        s_index = sorted(maxindex)\n",
    "\n",
    "        for i in s_index:\n",
    "            c_clist_2.append(c_clist_1[maxindex.index(i)])\n",
    "        \n",
    "        return c_clist_2\n",
    "\n",
    "    def notation_cyclic(self, canonical=False, string= False, sep=''):\n",
    "        cycliclist = []\n",
    "        index = list(range(1, self.n+1))\n",
    "        i =1\n",
    "\n",
    "        while True:\n",
    "            ilist = []\n",
    "            ilist.append(i)\n",
    "            index.remove(i)\n",
    "            \n",
    "            sig_i = self[i]\n",
    "            while sig_i in index:\n",
    "                ilist.append(sig_i)\n",
    "                index.remove(sig_i)\n",
    "                sig_i = self[sig_i]\n",
    "            \n",
    "            cycliclist.append(ilist)\n",
    "\n",
    "            if len(index) > 0:\n",
    "                i = min(index)\n",
    "            else: \n",
    "                break\n",
    "        if canonical:\n",
    "            cycliclist = self.__canocial_order(cycliclist)\n",
    "        \n",
    "        if string:\n",
    "            cycstr = ''\n",
    "            for li in cycliclist:\n",
    "                cycstr = cycstr+ '('+f'{sep}'.join(map(str,li))+')'\n",
    "            return cycstr\n",
    "        else:\n",
    "            return cycliclist\n",
    "\n"
   ]
  },
  {
   "cell_type": "code",
   "execution_count": 18,
   "metadata": {},
   "outputs": [],
   "source": [
    "testlist = [i for i in range(1,8+1)]"
   ]
  },
  {
   "cell_type": "code",
   "execution_count": 19,
   "metadata": {},
   "outputs": [
    {
     "data": {
      "text/plain": [
       "[1, 2, 3, 4, 5, 6, 7, 8]"
      ]
     },
     "execution_count": 19,
     "metadata": {},
     "output_type": "execute_result"
    }
   ],
   "source": [
    "testlist"
   ]
  },
  {
   "cell_type": "code",
   "execution_count": 11,
   "metadata": {},
   "outputs": [],
   "source": [
    "def split_list(li, n):\n",
    "    if len(li) %n !=0:\n",
    "        raise ValueError(f\"The length of sublist, {n}, must be a divider of original list, {len(li)}. \")\n",
    "    \n",
    "    rlist =[]\n",
    "    for i in range(0, int(len(li)/n)):\n",
    "        ni = n*i\n",
    "        rlist.append([li[ni: ni+n]][0])\n",
    "\n",
    "    return rlist\n",
    "def sig_rearrange(nn, ns, split=False): #1\n",
    "        if ns == 1:\n",
    "            return range(0,nn)\n",
    "        n_l = nn*ns\n",
    "\n",
    "        nlist = [i+1 for i in range(0, n_l)]\n",
    "        nlist_splited = split_list(nlist, int(ns/2)) if ns != 1 else nlist\n",
    "        rlist=[]\n",
    "\n",
    "        if split:\n",
    "            for i in range(0, nn):\n",
    "                print(nn)\n",
    "                print(2*nn-i-1)\n",
    "                rlist.append(nlist_splited[i]+nlist_splited[2*nn-i-1])\n",
    "        else:\n",
    "            for i in range(0,nn):\n",
    "                rlist = rlist + nlist_splited[i] + nlist_splited[2*nn-i-1]\n",
    "\n",
    "        return rlist"
   ]
  },
  {
   "cell_type": "code",
   "execution_count": 12,
   "metadata": {},
   "outputs": [
    {
     "name": "stdout",
     "output_type": "stream",
     "text": [
      "1\n",
      "1\n"
     ]
    },
    {
     "ename": "IndexError",
     "evalue": "list index out of range",
     "output_type": "error",
     "traceback": [
      "\u001b[1;31m---------------------------------------------------------------------------\u001b[0m",
      "\u001b[1;31mIndexError\u001b[0m                                Traceback (most recent call last)",
      "\u001b[1;32mc:\\Users\\qwqwh\\Documents\\GitHub\\Booklet\\test\\permutation.ipynb Cell 14'\u001b[0m in \u001b[0;36m<cell line: 1>\u001b[1;34m()\u001b[0m\n\u001b[1;32m----> <a href='vscode-notebook-cell:/c%3A/Users/qwqwh/Documents/GitHub/Booklet/test/permutation.ipynb#ch0000014?line=0'>1</a>\u001b[0m sig_rearrange(\u001b[39m1\u001b[39;49m,\u001b[39m1\u001b[39;49m, split\u001b[39m=\u001b[39;49m\u001b[39mTrue\u001b[39;49;00m)\n",
      "\u001b[1;32mc:\\Users\\qwqwh\\Documents\\GitHub\\Booklet\\test\\permutation.ipynb Cell 13'\u001b[0m in \u001b[0;36msig_rearrange\u001b[1;34m(nn, ns, split)\u001b[0m\n\u001b[0;32m     <a href='vscode-notebook-cell:/c%3A/Users/qwqwh/Documents/GitHub/Booklet/test/permutation.ipynb#ch0000012?line=19'>20</a>\u001b[0m         \u001b[39mprint\u001b[39m(nn)\n\u001b[0;32m     <a href='vscode-notebook-cell:/c%3A/Users/qwqwh/Documents/GitHub/Booklet/test/permutation.ipynb#ch0000012?line=20'>21</a>\u001b[0m         \u001b[39mprint\u001b[39m(\u001b[39m2\u001b[39m\u001b[39m*\u001b[39mnn\u001b[39m-\u001b[39mi\u001b[39m-\u001b[39m\u001b[39m1\u001b[39m)\n\u001b[1;32m---> <a href='vscode-notebook-cell:/c%3A/Users/qwqwh/Documents/GitHub/Booklet/test/permutation.ipynb#ch0000012?line=21'>22</a>\u001b[0m         rlist\u001b[39m.\u001b[39mappend(nlist_splited[i]\u001b[39m+\u001b[39mnlist_splited[\u001b[39m2\u001b[39;49m\u001b[39m*\u001b[39;49mnn\u001b[39m-\u001b[39;49mi\u001b[39m-\u001b[39;49m\u001b[39m1\u001b[39;49m])\n\u001b[0;32m     <a href='vscode-notebook-cell:/c%3A/Users/qwqwh/Documents/GitHub/Booklet/test/permutation.ipynb#ch0000012?line=22'>23</a>\u001b[0m \u001b[39melse\u001b[39;00m:\n\u001b[0;32m     <a href='vscode-notebook-cell:/c%3A/Users/qwqwh/Documents/GitHub/Booklet/test/permutation.ipynb#ch0000012?line=23'>24</a>\u001b[0m     \u001b[39mfor\u001b[39;00m i \u001b[39min\u001b[39;00m \u001b[39mrange\u001b[39m(\u001b[39m0\u001b[39m,nn):\n",
      "\u001b[1;31mIndexError\u001b[0m: list index out of range"
     ]
    }
   ],
   "source": [
    "sig_rearrange(1,1, split=True)"
   ]
  },
  {
   "cell_type": "code",
   "execution_count": 18,
   "metadata": {},
   "outputs": [
    {
     "data": {
      "text/plain": [
       "range(1, 3, 2)"
      ]
     },
     "execution_count": 18,
     "metadata": {},
     "output_type": "execute_result"
    }
   ],
   "source": [
    "range(0,3)[1::2]"
   ]
  },
  {
   "cell_type": "code",
   "execution_count": 54,
   "metadata": {},
   "outputs": [
    {
     "data": {
      "text/plain": [
       "[[1, 2], [3, 4], [5, 6], [7, 8]]"
      ]
     },
     "execution_count": 54,
     "metadata": {},
     "output_type": "execute_result"
    }
   ],
   "source": [
    "nlist_splited"
   ]
  },
  {
   "cell_type": "code",
   "execution_count": null,
   "metadata": {},
   "outputs": [],
   "source": []
  }
 ],
 "metadata": {
  "kernelspec": {
   "display_name": "Python 3.9.12 ('PDFtoolForPublish')",
   "language": "python",
   "name": "python3"
  },
  "language_info": {
   "codemirror_mode": {
    "name": "ipython",
    "version": 3
   },
   "file_extension": ".py",
   "mimetype": "text/x-python",
   "name": "python",
   "nbconvert_exporter": "python",
   "pygments_lexer": "ipython3",
   "version": "3.9.12"
  },
  "orig_nbformat": 4,
  "vscode": {
   "interpreter": {
    "hash": "4c952d005f581c21dc2275b570f3c1e9387ce4c06d0ed04b9167b13f3587ce32"
   }
  }
 },
 "nbformat": 4,
 "nbformat_minor": 2
}
