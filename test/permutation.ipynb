{
 "cells": [
  {
   "cell_type": "markdown",
   "metadata": {},
   "source": [
    "## Permutation\n",
    "\n",
    "Permutation group element for integer $n$"
   ]
  },
  {
   "cell_type": "code",
   "execution_count": 1,
   "metadata": {},
   "outputs": [],
   "source": [
    "from __future__ import annotations\n",
    "from itertools import permutations"
   ]
  },
  {
   "cell_type": "code",
   "execution_count": 2,
   "metadata": {},
   "outputs": [],
   "source": [
    "class Permutation:\n",
    "    @classmethod\n",
    "    def get_permutations(cls, n, per=False): # get list of permutations for given 'n'\n",
    "        per = permutations(range(1, n+1), n)\n",
    "        if per:\n",
    "            return [cls(n, p) for p in per]\n",
    "        else:\n",
    "            return [ p for p in per]\n",
    "\n",
    "    def __init__(self, n, plist):\n",
    "        if len(plist) != n:\n",
    "            raise ValueError(f\"{n} must be same with len(plist) = {len(plist)}\")\n",
    "\n",
    "        if sum(plist) != int(n* (n+1)/2):\n",
    "            raise ValueError(f\"plist does not satisfy permutation proeprty.\\n All [0, n-1] values must be in plist. \\n {plist}\")\n",
    "\n",
    "        self.n = n\n",
    "        self.plist = plist\n",
    "    def __getitem__(self, key):\n",
    "        if type(key) != int:\n",
    "            raise ValueError(f\"key must be an integer type element: {key}\")\n",
    "        if key < 1 or key > self.n:\n",
    "            raise IndexError(f\"{key} must be in [1, {self.n}] range.\")\n",
    "        \n",
    "        return self.plist[key-1]\n",
    "    def __mul__(self, other: Permutation) -> Permutation:\n",
    "        if self.n != other.n:\n",
    "            raise ValueError(f\"{self.n} and {other.n} are not same.\")\n",
    "        \n",
    "        rlist = [other[x] for x in self.plist]\n",
    "        return Permutation(self.n, rlist)\n",
    "    \n",
    "    def inverse(self)-> Permutation:\n",
    "        ilist= [self.plist.index(x)+1 for x in range(1, self.n+1)]\n",
    "        return Permutation(self.n, ilist)\n",
    "    \n",
    "    def notation_cauchy(self):\n",
    "        return f\"{list(range(1, self.n+1))}\\n{self.plist}\"\n",
    "\n",
    "    \n",
    "    def __canocial_order(self, cyclist):\n",
    "        c_clist_1 = []\n",
    "        c_clist_2 = []\n",
    "        for li in cyclist:\n",
    "            n = len(li)\n",
    "            nmax = li.index(max(li))\n",
    "            c_clist_1.append([li[x] for x in range(nmax-n, nmax)])\n",
    "        maxindex = [x[0] for x in c_clist_1]\n",
    "        s_index = sorted(maxindex)\n",
    "\n",
    "        for i in s_index:\n",
    "            c_clist_2.append(c_clist_1[maxindex.index(i)])\n",
    "        \n",
    "        return c_clist_2\n",
    "\n",
    "    def notation_cyclic(self, canonical=False, string= False, sep=''):\n",
    "        cycliclist = []\n",
    "        index = list(range(1, self.n+1))\n",
    "        i =1\n",
    "\n",
    "        while True:\n",
    "            ilist = []\n",
    "            ilist.append(i)\n",
    "            index.remove(i)\n",
    "            \n",
    "            sig_i = self[i]\n",
    "            while sig_i in index:\n",
    "                ilist.append(sig_i)\n",
    "                index.remove(sig_i)\n",
    "                sig_i = self[sig_i]\n",
    "            \n",
    "            cycliclist.append(ilist)\n",
    "\n",
    "            if len(index) > 0:\n",
    "                i = min(index)\n",
    "            else: \n",
    "                break\n",
    "        if canonical:\n",
    "            cycliclist = self.__canocial_order(cycliclist)\n",
    "        \n",
    "        if string:\n",
    "            cycstr = ''\n",
    "            for li in cycliclist:\n",
    "                cycstr = cycstr+ '('+f'{sep}'.join(map(str,li))+')'\n",
    "            return cycstr\n",
    "        else:\n",
    "            return cycliclist"
   ]
  },
  {
   "cell_type": "code",
   "execution_count": 3,
   "metadata": {},
   "outputs": [],
   "source": [
    "per_test= Permutation(5, [2,5,4,3,1])"
   ]
  },
  {
   "cell_type": "code",
   "execution_count": 4,
   "metadata": {},
   "outputs": [
    {
     "name": "stdout",
     "output_type": "stream",
     "text": [
      "[2, 5, 4, 3, 1]\n",
      "[5, 1, 4, 3, 2]\n"
     ]
    }
   ],
   "source": [
    "per_inverse = per_test.inverse()\n",
    "print(per_test.plist)\n",
    "print(per_inverse.plist)"
   ]
  },
  {
   "cell_type": "code",
   "execution_count": 7,
   "metadata": {},
   "outputs": [
    {
     "data": {
      "text/plain": [
       "[1, 2, 3, 4, 5]"
      ]
     },
     "execution_count": 7,
     "metadata": {},
     "output_type": "execute_result"
    }
   ],
   "source": [
    "(per_inverse * per_test).plist"
   ]
  },
  {
   "cell_type": "markdown",
   "metadata": {},
   "source": [
    "## permutation notation\n",
    "Cauchy: 2 line notation\n",
    "\n",
    "Cyclic, Canonical Cyclic"
   ]
  },
  {
   "cell_type": "code",
   "execution_count": 9,
   "metadata": {},
   "outputs": [
    {
     "name": "stdout",
     "output_type": "stream",
     "text": [
      "[1, 2, 3, 4, 5]\n",
      "[2, 5, 4, 3, 1]\n"
     ]
    }
   ],
   "source": [
    "print(per_test.notation_cauchy())"
   ]
  },
  {
   "cell_type": "code",
   "execution_count": 11,
   "metadata": {},
   "outputs": [
    {
     "name": "stdout",
     "output_type": "stream",
     "text": [
      "[[1, 2, 5], [3, 4]]\n",
      "[[1, 5, 2], [3, 4]]\n"
     ]
    }
   ],
   "source": [
    "print(per_test.notation_cyclic())\n",
    "print(per_inverse.notation_cyclic())"
   ]
  },
  {
   "cell_type": "code",
   "execution_count": 14,
   "metadata": {},
   "outputs": [
    {
     "name": "stdout",
     "output_type": "stream",
     "text": [
      "(43)(512)\n",
      "(43)(521)\n"
     ]
    }
   ],
   "source": [
    "print(per_test.notation_cyclic(canonical=True, string= True))\n",
    "print(per_inverse.notation_cyclic(canonical=True, string=True))"
   ]
  }
 ],
 "metadata": {
  "interpreter": {
   "hash": "9d464b7aebadcb9bae1cef1ad93ae1bea7480740daac4ec12858463c30f8bab2"
  },
  "kernelspec": {
   "display_name": "Python 3.9.13 64-bit (windows store)",
   "language": "python",
   "name": "python3"
  },
  "language_info": {
   "codemirror_mode": {
    "name": "ipython",
    "version": 3
   },
   "file_extension": ".py",
   "mimetype": "text/x-python",
   "name": "python",
   "nbconvert_exporter": "python",
   "pygments_lexer": "ipython3",
   "version": "3.9.13"
  },
  "orig_nbformat": 4
 },
 "nbformat": 4,
 "nbformat_minor": 2
}
