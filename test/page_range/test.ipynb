{
 "cells": [
  {
   "cell_type": "code",
   "execution_count": 1,
   "metadata": {},
   "outputs": [],
   "source": [
    "import re"
   ]
  },
  {
   "cell_type": "code",
   "execution_count": 18,
   "metadata": {},
   "outputs": [],
   "source": [
    "page_range_format_re_str = r\"([ ]{0,}\\d+[ ]{0,}-{1,1}[ ]{0,}\\d+[ ]{0,}|[ ]{0,}\\d+[ ]{0,})\"\n",
    "invaild_chars_re_str= r\"([^-,\\d\\s])+?\"\n",
    "\n",
    "page_range_extractor = re.compile(page_range_format_re_str)\n",
    "invaild_chars_extractor = re.compile(invaild_chars_re_str)"
   ]
  },
  {
   "cell_type": "code",
   "execution_count": 19,
   "metadata": {},
   "outputs": [],
   "source": [
    "def page_range_validation(text, total_pages):\n",
    "    text_c = text.replace(\" \", \"\")\n",
    "    if text_c == \"\" or text_c is None:\n",
    "        return True\n",
    "    if text_c[0] not in \"123456789\":\n",
    "        return False\n",
    "    if invaild_chars_extractor.search(text_c) is not None:\n",
    "        print(f\"Invaild characters: {invaild_chars_extractor.findall(text_c)}\")\n",
    "        return False\n",
    "    range_list = page_range_extractor.findall(text_c)\n",
    "        \n",
    "    pre =1\n",
    "    range_total = 0\n",
    "    print(range_list)\n",
    "    for page_str in range_list:\n",
    "        if \"-\" in page_str:\n",
    "            i_s, l_s = page_str.split(\"-\")\n",
    "            if i_s == \"\":\n",
    "                print(\"Negative number\")\n",
    "                return False\n",
    "            i = int(i_s)\n",
    "            l = int(l_s)\n",
    "            if (i <= pre and pre >1):\n",
    "                pass\n",
    "            if i >= l:\n",
    "                print(\"If focused out ok, else it is not ok\")\n",
    "                return False\n",
    "            if l > total_pages:\n",
    "                return False\n",
    "            pre = l\n",
    "            range_total += l - i +1\n",
    "        else:\n",
    "            print(\"Single number\")\n",
    "            n = int(page_str)\n",
    "            if (n<= pre and pre >1) or n > total_pages:\n",
    "                return False\n",
    "            pre = n\n",
    "            range_total += 1\n",
    "    print(range_total)\n",
    "    return True"
   ]
  },
  {
   "cell_type": "code",
   "execution_count": 23,
   "metadata": {},
   "outputs": [],
   "source": [
    "test_str = \"1,  2, 32\""
   ]
  },
  {
   "cell_type": "code",
   "execution_count": 24,
   "metadata": {},
   "outputs": [
    {
     "data": {
      "text/plain": [
       "['1', '  2', ' 32']"
      ]
     },
     "execution_count": 24,
     "metadata": {},
     "output_type": "execute_result"
    }
   ],
   "source": [
    "page_range_extractor.findall(test_str)"
   ]
  },
  {
   "cell_type": "code",
   "execution_count": 25,
   "metadata": {},
   "outputs": [
    {
     "name": "stdout",
     "output_type": "stream",
     "text": [
      "['1', '2', '32']\n",
      "Single number\n",
      "Single number\n",
      "Single number\n",
      "3\n"
     ]
    },
    {
     "data": {
      "text/plain": [
       "True"
      ]
     },
     "execution_count": 25,
     "metadata": {},
     "output_type": "execute_result"
    }
   ],
   "source": [
    "page_range_validation(test_str, 32)"
   ]
  },
  {
   "cell_type": "code",
   "execution_count": 27,
   "metadata": {},
   "outputs": [
    {
     "data": {
      "text/plain": [
       "[1, 2, 3]"
      ]
     },
     "execution_count": 27,
     "metadata": {},
     "output_type": "execute_result"
    }
   ],
   "source": [
    "list([1,2,3,4,5])[0:-2]"
   ]
  },
  {
   "cell_type": "code",
   "execution_count": null,
   "metadata": {},
   "outputs": [],
   "source": []
  }
 ],
 "metadata": {
  "kernelspec": {
   "display_name": "Python 3.10.4 ('booklet')",
   "language": "python",
   "name": "python3"
  },
  "language_info": {
   "codemirror_mode": {
    "name": "ipython",
    "version": 3
   },
   "file_extension": ".py",
   "mimetype": "text/x-python",
   "name": "python",
   "nbconvert_exporter": "python",
   "pygments_lexer": "ipython3",
   "version": "3.10.4"
  },
  "orig_nbformat": 4,
  "vscode": {
   "interpreter": {
    "hash": "7a0064eb676495ab0294ef1746325145c23123edd6ffac423098a0856c3eb930"
   }
  }
 },
 "nbformat": 4,
 "nbformat_minor": 2
}
