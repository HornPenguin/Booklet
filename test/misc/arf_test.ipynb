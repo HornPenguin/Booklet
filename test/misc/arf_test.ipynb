{
 "cells": [
  {
   "cell_type": "code",
   "execution_count": 5,
   "metadata": {},
   "outputs": [
    {
     "ename": "ImportError",
     "evalue": "attempted relative import with no known parent package",
     "output_type": "error",
     "traceback": [
      "\u001b[1;31m---------------------------------------------------------------------------\u001b[0m",
      "\u001b[1;31mImportError\u001b[0m                               Traceback (most recent call last)",
      "\u001b[1;32mc:\\Users\\Hyunseong\\Documents\\GitHub\\Booklet\\test\\arf_test.ipynb 셀 1\u001b[0m in \u001b[0;36m<cell line: 8>\u001b[1;34m()\u001b[0m\n\u001b[0;32m      <a href='vscode-notebook-cell:/c%3A/Users/Hyunseong/Documents/GitHub/Booklet/test/arf_test.ipynb#ch0000000?line=4'>5</a>\u001b[0m sys\u001b[39m.\u001b[39mpath\u001b[39m.\u001b[39minsert(\u001b[39m1\u001b[39m, os\u001b[39m.\u001b[39mgetcwd()) \n\u001b[0;32m      <a href='vscode-notebook-cell:/c%3A/Users/Hyunseong/Documents/GitHub/Booklet/test/arf_test.ipynb#ch0000000?line=5'>6</a>\u001b[0m sys\u001b[39m.\u001b[39mpath\u001b[39m.\u001b[39mappend(\u001b[39m\"\u001b[39m\u001b[39m..\u001b[39m\u001b[39m\"\u001b[39m)\n\u001b[1;32m----> <a href='vscode-notebook-cell:/c%3A/Users/Hyunseong/Documents/GitHub/Booklet/test/arf_test.ipynb#ch0000000?line=7'>8</a>\u001b[0m \u001b[39mfrom\u001b[39;00m \u001b[39m.\u001b[39;00m\u001b[39m.\u001b[39;00m \u001b[39mimport\u001b[39;00m modules\n\u001b[0;32m      <a href='vscode-notebook-cell:/c%3A/Users/Hyunseong/Documents/GitHub/Booklet/test/arf_test.ipynb#ch0000000?line=8'>9</a>\u001b[0m \u001b[39mimport\u001b[39;00m \u001b[39mPyPDF2\u001b[39;00m \u001b[39mas\u001b[39;00m \u001b[39mpypdf\u001b[39;00m\n",
      "\u001b[1;31mImportError\u001b[0m: attempted relative import with no known parent package"
     ]
    }
   ],
   "source": [
    "from __future__ import annotations\n",
    "import numpy as np\n",
    "import math, sys, os\n",
    "from itertools import permutations\n",
    "sys.path.insert(1, os.getcwd()) \n",
    "sys.path.append(\"..\")\n",
    "\n",
    "from .. import modules\n"
   ]
  },
  {
   "cell_type": "code",
   "execution_count": 2,
   "metadata": {},
   "outputs": [],
   "source": [
    "import beepy\n",
    "beepy.beep(sound='ping')"
   ]
  },
  {
   "cell_type": "code",
   "execution_count": 6,
   "metadata": {},
   "outputs": [],
   "source": [
    "import PyPDF2 as pypdf"
   ]
  },
  {
   "cell_type": "code",
   "execution_count": 7,
   "metadata": {},
   "outputs": [],
   "source": [
    "testfilename= \"Arfken_pdf.pdf\""
   ]
  },
  {
   "cell_type": "code",
   "execution_count": 8,
   "metadata": {},
   "outputs": [],
   "source": [
    "rpdf = pypdf.PdfFileReader(testfilename)"
   ]
  },
  {
   "cell_type": "code",
   "execution_count": 10,
   "metadata": {},
   "outputs": [],
   "source": [
    "pagezero = rpdf.getPage(0)\n",
    "pageone = rpdf.getPage(1)"
   ]
  },
  {
   "cell_type": "code",
   "execution_count": 11,
   "metadata": {},
   "outputs": [
    {
     "data": {
      "text/plain": [
       "RectangleObject([0, 0, 540, 669.6])"
      ]
     },
     "execution_count": 11,
     "metadata": {},
     "output_type": "execute_result"
    }
   ],
   "source": [
    "pagezero.mediaBox"
   ]
  },
  {
   "cell_type": "code",
   "execution_count": 12,
   "metadata": {},
   "outputs": [
    {
     "data": {
      "text/plain": [
       "RectangleObject([36, 58.5, 576, 724.5])"
      ]
     },
     "execution_count": 12,
     "metadata": {},
     "output_type": "execute_result"
    }
   ],
   "source": [
    "pageone.mediaBox"
   ]
  },
  {
   "cell_type": "code",
   "execution_count": 13,
   "metadata": {},
   "outputs": [
    {
     "data": {
      "text/plain": [
       "36"
      ]
     },
     "execution_count": 13,
     "metadata": {},
     "output_type": "execute_result"
    }
   ],
   "source": [
    "pageone.mediaBox[0]"
   ]
  },
  {
   "cell_type": "code",
   "execution_count": 14,
   "metadata": {},
   "outputs": [
    {
     "data": {
      "text/plain": [
       "58.5"
      ]
     },
     "execution_count": 14,
     "metadata": {},
     "output_type": "execute_result"
    }
   ],
   "source": [
    "pageone.mediaBox[1]"
   ]
  },
  {
   "cell_type": "code",
   "execution_count": 24,
   "metadata": {},
   "outputs": [
    {
     "ename": "TypeError",
     "evalue": "unsupported operand type(s) for -: 'list' and 'list'",
     "output_type": "error",
     "traceback": [
      "\u001b[1;31m---------------------------------------------------------------------------\u001b[0m",
      "\u001b[1;31mTypeError\u001b[0m                                 Traceback (most recent call last)",
      "\u001b[1;32mc:\\Users\\qwqwh\\Documents\\GitHub\\Booklet\\test\\arf_test.ipynb 셀 7\u001b[0m in \u001b[0;36m<cell line: 1>\u001b[1;34m()\u001b[0m\n\u001b[1;32m----> <a href='vscode-notebook-cell:/c%3A/Users/qwqwh/Documents/GitHub/Booklet/test/arf_test.ipynb#ch0000007?line=0'>1</a>\u001b[0m rpdf\u001b[39m.\u001b[39;49mgetPage(\u001b[39m5\u001b[39;49m)\u001b[39m.\u001b[39;49mmediaBox[:\u001b[39m2\u001b[39;49m] \u001b[39m-\u001b[39;49m rpdf\u001b[39m.\u001b[39;49mgetPage(\u001b[39m5\u001b[39;49m)\u001b[39m.\u001b[39;49mmediaBox[\u001b[39m2\u001b[39;49m:]\n",
      "\u001b[1;31mTypeError\u001b[0m: unsupported operand type(s) for -: 'list' and 'list'"
     ]
    }
   ],
   "source": [
    "rpdf.getPage(5).mediaBox[:2] - rpdf.getPage(5).mediaBox[2:]"
   ]
  },
  {
   "cell_type": "code",
   "execution_count": 25,
   "metadata": {},
   "outputs": [
    {
     "name": "stdout",
     "output_type": "stream",
     "text": [
      "540\n",
      "540\n",
      "540\n",
      "540\n",
      "540\n",
      "540\n",
      "540\n",
      "540\n",
      "540\n",
      "540\n",
      "540\n",
      "540\n",
      "540\n",
      "540\n",
      "540\n"
     ]
    }
   ],
   "source": [
    "for i in range(0,15):\n",
    "    print(rpdf.getPage(i).mediaBoxc)"
   ]
  },
  {
   "cell_type": "code",
   "execution_count": 9,
   "metadata": {},
   "outputs": [],
   "source": [
    "#PDF Copy\n",
    "wpdf = pypdf.PdfFileWriter()\n",
    "for i in range(0, rpdf.getNumPages()):\n",
    "    wpdf.add_page( rpdf.getPage(i))\n",
    "\n",
    "with open('./testresult/copy.pdf', 'wb') as f:\n",
    "    wpdf.write(f)"
   ]
  },
  {
   "cell_type": "code",
   "execution_count": 15,
   "metadata": {},
   "outputs": [],
   "source": [
    "trans = pypdf.Transformation().rotate(180).translate(tx=float(size[0]), ty=float(size[1]))"
   ]
  },
  {
   "cell_type": "code",
   "execution_count": 16,
   "metadata": {},
   "outputs": [],
   "source": [
    "#PDF Copy\n",
    "wpdf = pypdf.PdfFileWriter()\n",
    "for i in range(0, rpdf.getNumPages()):\n",
    "    page =  rpdf.getPage(i)\n",
    "    page.add_transformation(trans)\n",
    "    wpdf.add_page(page)\n",
    "\n",
    "with open('./testresult/trans.pdf', 'wb') as f:\n",
    "    wpdf.write(f)"
   ]
  },
  {
   "cell_type": "code",
   "execution_count": 14,
   "metadata": {},
   "outputs": [],
   "source": [
    "inputfile = \"Arfken_pdf.pdf\"\n",
    "outputfile = \"HP_\" + inputfile\n",
    "pagerange=\"3-17\"\n",
    "leaves = [4, 1, 4]\n",
    "fold = False\n",
    "riffle = True\n",
    "format = [False, 210,297]\n",
    "imposition =True\n",
    "blank = [\"back\", 1]\n",
    "split = False\n",
    "sigproof = [False, \"#112233\"]\n",
    "trim = True\n",
    "registration = True\n",
    "cmyk = False"
   ]
  },
  {
   "cell_type": "code",
   "execution_count": 22,
   "metadata": {},
   "outputs": [
    {
     "name": "stdout",
     "output_type": "stream",
     "text": [
      "page range: [3, 4, 5, 6, 7, 8, 9, 10, 11, 12, 13, 14, 15, 16, 17]\n",
      "leaves composition: [4, 1, 4]\n",
      "composition: (1, 1)\n",
      "layout = (1, 2)\n",
      "Output pages 16\n",
      "0 0x2+0 16\n",
      "1 0x2+1 16\n",
      "2 1x2+0 16\n",
      "3 1x2+1 16\n",
      "4 2x2+0 16\n",
      "5 2x2+1 16\n",
      "6 3x2+0 16\n",
      "7 3x2+1 16\n",
      "8 4x2+0 16\n",
      "9 4x2+1 16\n",
      "10 5x2+0 16\n",
      "11 5x2+1 16\n",
      "12 6x2+0 16\n",
      "13 6x2+1 16\n",
      "14 7x2+0 16\n",
      "15 7x2+1 16\n",
      "16 8x2+0 16\n"
     ]
    },
    {
     "ename": "IndexError",
     "evalue": "sequence index out of range",
     "output_type": "error",
     "traceback": [
      "\u001b[1;31m---------------------------------------------------------------------------\u001b[0m",
      "\u001b[1;31mIndexError\u001b[0m                                Traceback (most recent call last)",
      "\u001b[1;32mc:\\Users\\Hyunseong\\Documents\\GitHub\\Booklet\\test\\arf_test.ipynb 셀 6\u001b[0m in \u001b[0;36m<cell line: 1>\u001b[1;34m()\u001b[0m\n\u001b[1;32m----> <a href='vscode-notebook-cell:/c%3A/Users/Hyunseong/Documents/GitHub/Booklet/test/arf_test.ipynb#ch0000005?line=0'>1</a>\u001b[0m routines\u001b[39m.\u001b[39;49mPDFsig\u001b[39m.\u001b[39;49mgenerate_signature(inputfile\u001b[39m=\u001b[39;49minputfile,\n\u001b[0;32m      <a href='vscode-notebook-cell:/c%3A/Users/Hyunseong/Documents/GitHub/Booklet/test/arf_test.ipynb#ch0000005?line=1'>2</a>\u001b[0m                             outputfile\u001b[39m=\u001b[39;49moutputfile,\n\u001b[0;32m      <a href='vscode-notebook-cell:/c%3A/Users/Hyunseong/Documents/GitHub/Booklet/test/arf_test.ipynb#ch0000005?line=2'>3</a>\u001b[0m                             pagerange\u001b[39m=\u001b[39;49mpagerange,\n\u001b[0;32m      <a href='vscode-notebook-cell:/c%3A/Users/Hyunseong/Documents/GitHub/Booklet/test/arf_test.ipynb#ch0000005?line=3'>4</a>\u001b[0m                             leaves\u001b[39m=\u001b[39;49mleaves,\n\u001b[0;32m      <a href='vscode-notebook-cell:/c%3A/Users/Hyunseong/Documents/GitHub/Booklet/test/arf_test.ipynb#ch0000005?line=4'>5</a>\u001b[0m                             fold\u001b[39m=\u001b[39;49mfold,\n\u001b[0;32m      <a href='vscode-notebook-cell:/c%3A/Users/Hyunseong/Documents/GitHub/Booklet/test/arf_test.ipynb#ch0000005?line=5'>6</a>\u001b[0m                             riffle\u001b[39m=\u001b[39;49mriffle,\n\u001b[0;32m      <a href='vscode-notebook-cell:/c%3A/Users/Hyunseong/Documents/GitHub/Booklet/test/arf_test.ipynb#ch0000005?line=6'>7</a>\u001b[0m                             \u001b[39mformat\u001b[39;49m\u001b[39m=\u001b[39;49m \u001b[39mformat\u001b[39;49m,\n\u001b[0;32m      <a href='vscode-notebook-cell:/c%3A/Users/Hyunseong/Documents/GitHub/Booklet/test/arf_test.ipynb#ch0000005?line=7'>8</a>\u001b[0m                             imposition\u001b[39m=\u001b[39;49mimposition,\n\u001b[0;32m      <a href='vscode-notebook-cell:/c%3A/Users/Hyunseong/Documents/GitHub/Booklet/test/arf_test.ipynb#ch0000005?line=8'>9</a>\u001b[0m                             blank\u001b[39m=\u001b[39;49mblank,\n\u001b[0;32m     <a href='vscode-notebook-cell:/c%3A/Users/Hyunseong/Documents/GitHub/Booklet/test/arf_test.ipynb#ch0000005?line=9'>10</a>\u001b[0m                             split\u001b[39m=\u001b[39;49msplit,\n\u001b[0;32m     <a href='vscode-notebook-cell:/c%3A/Users/Hyunseong/Documents/GitHub/Booklet/test/arf_test.ipynb#ch0000005?line=10'>11</a>\u001b[0m                             sigproof\u001b[39m=\u001b[39;49msigproof, \u001b[39m#Printing marks\u001b[39;49;00m\n\u001b[0;32m     <a href='vscode-notebook-cell:/c%3A/Users/Hyunseong/Documents/GitHub/Booklet/test/arf_test.ipynb#ch0000005?line=11'>12</a>\u001b[0m                             trim\u001b[39m=\u001b[39;49mtrim,\n\u001b[0;32m     <a href='vscode-notebook-cell:/c%3A/Users/Hyunseong/Documents/GitHub/Booklet/test/arf_test.ipynb#ch0000005?line=12'>13</a>\u001b[0m                             registration\u001b[39m=\u001b[39;49mregistration,\n\u001b[0;32m     <a href='vscode-notebook-cell:/c%3A/Users/Hyunseong/Documents/GitHub/Booklet/test/arf_test.ipynb#ch0000005?line=13'>14</a>\u001b[0m                             cmyk\u001b[39m=\u001b[39;49mcmyk\n\u001b[0;32m     <a href='vscode-notebook-cell:/c%3A/Users/Hyunseong/Documents/GitHub/Booklet/test/arf_test.ipynb#ch0000005?line=14'>15</a>\u001b[0m                             )\n",
      "File \u001b[1;32mc:\\Users\\Hyunseong\\Documents\\GitHub\\Booklet\\test\\..\\src\\routines.py:867\u001b[0m, in \u001b[0;36mPDFsig.generate_signature\u001b[1;34m(cls, inputfile, outputfile, pagerange, leaves, fold, riffle, format, imposition, blank, split, sigproof, trim, registration, cmyk)\u001b[0m\n\u001b[0;32m    865\u001b[0m l \u001b[39m=\u001b[39m i\u001b[39m*\u001b[39m\u001b[39mint\u001b[39m(ns\u001b[39m/\u001b[39m\u001b[39m2\u001b[39m) \u001b[39m+\u001b[39m k\n\u001b[0;32m    866\u001b[0m \u001b[39mprint\u001b[39m(l, \u001b[39mf\u001b[39m\u001b[39m'\u001b[39m\u001b[39m{\u001b[39;00mi\u001b[39m}\u001b[39;00m\u001b[39mx\u001b[39m\u001b[39m{\u001b[39;00m\u001b[39mint\u001b[39m(ns\u001b[39m/\u001b[39m\u001b[39m2\u001b[39m)\u001b[39m}\u001b[39;00m\u001b[39m+\u001b[39m\u001b[39m{\u001b[39;00mk\u001b[39m}\u001b[39;00m\u001b[39m'\u001b[39m,\u001b[39mlen\u001b[39m(output_pdf\u001b[39m.\u001b[39mpages))\n\u001b[1;32m--> 867\u001b[0m page_wm \u001b[39m=\u001b[39m output_pdf\u001b[39m.\u001b[39mpages[l]\n\u001b[0;32m    868\u001b[0m x, y \u001b[39m=\u001b[39m position(k\u001b[39m+\u001b[39m\u001b[39m1\u001b[39m, layout)\n\u001b[0;32m    869\u001b[0m tx \u001b[39m=\u001b[39m nd \u001b[39m+\u001b[39m(pFormat_width \u001b[39m+\u001b[39m d)\u001b[39m*\u001b[39mx\n",
      "File \u001b[1;32mc:\\Users\\Hyunseong\\miniconda3\\envs\\booklet\\lib\\site-packages\\PyPDF2\\_page.py:1483\u001b[0m, in \u001b[0;36m_VirtualList.__getitem__\u001b[1;34m(self, index)\u001b[0m\n\u001b[0;32m   1481\u001b[0m     index \u001b[39m=\u001b[39m len_self \u001b[39m+\u001b[39m index\n\u001b[0;32m   1482\u001b[0m \u001b[39mif\u001b[39;00m index \u001b[39m<\u001b[39m \u001b[39m0\u001b[39m \u001b[39mor\u001b[39;00m index \u001b[39m>\u001b[39m\u001b[39m=\u001b[39m len_self:\n\u001b[1;32m-> 1483\u001b[0m     \u001b[39mraise\u001b[39;00m \u001b[39mIndexError\u001b[39;00m(\u001b[39m\"\u001b[39m\u001b[39msequence index out of range\u001b[39m\u001b[39m\"\u001b[39m)\n\u001b[0;32m   1484\u001b[0m \u001b[39mreturn\u001b[39;00m \u001b[39mself\u001b[39m\u001b[39m.\u001b[39mget_function(index)\n",
      "\u001b[1;31mIndexError\u001b[0m: sequence index out of range"
     ]
    }
   ],
   "source": [
    "routines.PDFsig.generate_signature(inputfile=inputfile,\n",
    "                            outputfile=outputfile,\n",
    "                            pagerange=pagerange,\n",
    "                            leaves=leaves,\n",
    "                            fold=fold,\n",
    "                            riffle=riffle,\n",
    "                            format= format,\n",
    "                            imposition=imposition,\n",
    "                            blank=blank,\n",
    "                            split=split,\n",
    "                            sigproof=sigproof, #Printing marks\n",
    "                            trim=trim,\n",
    "                            registration=registration,\n",
    "                            cmyk=cmyk\n",
    "                            )"
   ]
  },
  {
   "cell_type": "code",
   "execution_count": 1,
   "metadata": {},
   "outputs": [],
   "source": [
    "from tkinter.colorchooser import askcolor\n"
   ]
  },
  {
   "cell_type": "code",
   "execution_count": 11,
   "metadata": {},
   "outputs": [],
   "source": [
    "def rgb_to_hex(r, g, b):\n",
    "    rcode = str(hex(r)).split('x')[1]\n",
    "    gcode = str(hex(g)).split('x')[1]\n",
    "    bcode = str(hex(b)).split('x')[1]\n",
    "\n",
    "    if len(rcode) == 1:\n",
    "        rcode = '0'+rcode\n",
    "    if len(gcode) == 1:\n",
    "        gcode = '0'+gcode\n",
    "    if len(bcode) == 1:\n",
    "        bcode = '0'+bcode\n",
    "    return '#'+  rcode + gcode + bcode"
   ]
  },
  {
   "cell_type": "code",
   "execution_count": 10,
   "metadata": {},
   "outputs": [
    {
     "data": {
      "text/plain": [
       "1"
      ]
     },
     "execution_count": 10,
     "metadata": {},
     "output_type": "execute_result"
    }
   ],
   "source": [
    "len(str(hex(0)).split('x')[1])"
   ]
  },
  {
   "cell_type": "code",
   "execution_count": 14,
   "metadata": {},
   "outputs": [
    {
     "data": {
      "text/plain": [
       "'#8080ff'"
      ]
     },
     "execution_count": 14,
     "metadata": {},
     "output_type": "execute_result"
    }
   ],
   "source": [
    "rgb_to_hex(128, 128, 255)"
   ]
  },
  {
   "cell_type": "code",
   "execution_count": 72,
   "metadata": {},
   "outputs": [],
   "source": [
    "from math import log2\n",
    "def split_list(li: list, n: int, mode=\"l\") -> list:\n",
    "    \"\"\"\n",
    "    :param li: list, list to be splited.\n",
    "    :param n: int, The length of sublist. It must be a divider of the length of :param:`li` list.\n",
    "    :param mode: str, The mode of split, `l`: length of sublist, `n`: number of sublist\n",
    "    \"\"\"\n",
    "    if mode != \"l\" and mode != \"n\":\n",
    "        raise ValueError(\"The 'mode' parameter must be 'l' or 'n', current = {mode}\")\n",
    "\n",
    "    num = n\n",
    "    l_li = len(li)\n",
    "    if mode == \"n\":\n",
    "        if l_li % num != 0:\n",
    "            raise ValueError(\n",
    "                \"The length of the given list and the sublist length must have a divider relationship.\"\n",
    "            )\n",
    "        num = int(l_li / num)\n",
    "        mode = \"l\"\n",
    "\n",
    "    if mode == \"l\":\n",
    "        if num <= 1:\n",
    "            return li\n",
    "        if len(li) % num != 0:\n",
    "            raise ValueError(\n",
    "                f\"The length of sublist, {num}, must be a divider of original list, {len(li)}. \"\n",
    "            )\n",
    "\n",
    "        rlist = []\n",
    "        for i in range(0, int(l_li / num)):\n",
    "            ni = num * i\n",
    "            rlist.append([li[ni : ni + num]][0])\n",
    "\n",
    "    return rlist\n",
    "\n",
    "\n",
    "def transpose(matrix: list) -> list:\n",
    "    row_length = len(matrix)\n",
    "    column_length = len(matrix[0])\n",
    "\n",
    "    t = list()\n",
    "    for i in range(0, column_length):\n",
    "        t.append([])\n",
    "\n",
    "    for i in range(0, column_length):\n",
    "        for j in range(0, row_length):\n",
    "            t[i].append(matrix[j][i])\n",
    "            \n",
    "    return t\n",
    "\n",
    "\n",
    "def flip(matrix):  # axis=0\n",
    "    size = len(matrix)\n",
    "\n",
    "    f = list()\n",
    "    for i in range(0, size):\n",
    "        f.append(matrix[size - i - 1])\n",
    "\n",
    "    return f\n",
    "\n",
    "\n",
    "def concatenate(lists):\n",
    "    length = len(lists)\n",
    "\n",
    "    rlist = list()\n",
    "    for i in range(0, length):\n",
    "        for element in lists[i]:\n",
    "            rlist.append(element)\n",
    "\n",
    "    return rlist\n",
    "\n",
    "\n",
    "def reshape(list_1d, shape):\n",
    "    size_1d = len(list_1d)\n",
    "    if size_1d != shape[0] * shape[1]:\n",
    "        raise ValueError(\"The list length and shape are not matched each other.\")\n",
    "    return split_list(list_1d, shape[0], mode=\"n\")\n",
    "\n",
    "def sig_layout(n: int) -> tuple:\n",
    "    if type(n) != int:\n",
    "        raise ValueError(\"n is not an integer\")\n",
    "    if n == 1:\n",
    "        return (1, 1)\n",
    "    elif n < 4 or n % 4 != 0:\n",
    "        raise ValueError(f\"n:{n} must be a positive integer that multiple of 4.\")\n",
    "    if n % 3 == 0:\n",
    "        i = log2(n) - log2(3) - 1\n",
    "        return (3, int(2**i))\n",
    "    else:\n",
    "        i = int(log2(n / 4))\n",
    "        if i % 2:\n",
    "            k = kp = int((i + 1) / 2)\n",
    "        else:\n",
    "            k = int(i / 2)\n",
    "            kp = k + 1\n",
    "        return (int(2**k), int(2**kp))"
   ]
  },
  {
   "cell_type": "code",
   "execution_count": 73,
   "metadata": {},
   "outputs": [],
   "source": [
    "def __fold_matrix_update(n: int, matrix: list) -> list:\n",
    "    # n_1 = np.flip(matrix.T, axis=0)\n",
    "    n_1 = flip(transpose(matrix))\n",
    "    len_n = len(n_1[0])\n",
    "    l = int(len_n / 2)\n",
    "    rows = []\n",
    "    for row in n_1:\n",
    "        # r_split = np.split(row,l)\n",
    "        r_split = split_list(row, l, mode=\"n\")\n",
    "        row_appended = []\n",
    "        for tu in r_split:\n",
    "            # tem = np.array([n-tu[0] +1,n-tu[1] +1])\n",
    "            # row_appended.append(np.insert(tem, 1, tu))\n",
    "            tem = [n - tu[0] + 1, n - tu[1] + 1]\n",
    "            tem.insert(1, tu[1])\n",
    "            tem.insert(1, tu[0])\n",
    "            row_appended.append(tem)\n",
    "        # rows.append(np.concatenate(row_appended, axis=None))\n",
    "        rows.append(concatenate(row_appended))\n",
    "    # return np.stack(rows)\n",
    "    return rows"
   ]
  },
  {
   "cell_type": "code",
   "execution_count": 76,
   "metadata": {},
   "outputs": [
    {
     "data": {
      "text/plain": [
       "(2, 2)"
      ]
     },
     "execution_count": 76,
     "metadata": {},
     "output_type": "execute_result"
    }
   ],
   "source": [
    "sig_layout(8)"
   ]
  },
  {
   "cell_type": "code",
   "execution_count": 63,
   "metadata": {},
   "outputs": [],
   "source": [
    "matrix16_0 = [[16, 1, 4, 13], [9, 8, 5, 12]]\n",
    "matrix16_1 = [[10, 7, 6, 11], [15, 2, 3, 14]]"
   ]
  },
  {
   "cell_type": "code",
   "execution_count": 78,
   "metadata": {},
   "outputs": [],
   "source": [
    "matrix8_0 = [[8, 1], [5, 4]] \n",
    "matrix8_1 = [[2, 7], [3, 6]]"
   ]
  },
  {
   "cell_type": "code",
   "execution_count": null,
   "metadata": {},
   "outputs": [],
   "source": [
    "[[16, 1, 4, 13, 9, 8, 5, 12], [10, 7, 6, 11, 15, 2, 3, 14]]"
   ]
  },
  {
   "cell_type": "code",
   "execution_count": 80,
   "metadata": {},
   "outputs": [
    {
     "data": {
      "text/plain": [
       "[[20, 13, 12, 21], [29, 4, 5, 28], [32, 1, 8, 25], [17, 16, 9, 24]]"
      ]
     },
     "execution_count": 80,
     "metadata": {},
     "output_type": "execute_result"
    }
   ],
   "source": [
    "__fold_matrix_update(32,__fold_matrix_update(16, matrix8_0))"
   ]
  },
  {
   "cell_type": "code",
   "execution_count": 83,
   "metadata": {},
   "outputs": [
    {
     "data": {
      "text/plain": [
       "[20, 13, 12, 21, 29, 4, 5, 28, 32, 1, 8, 25, 17, 16, 9, 24]"
      ]
     },
     "execution_count": 83,
     "metadata": {},
     "output_type": "execute_result"
    }
   ],
   "source": [
    "concatenate(__fold_matrix_update(32, matrix16_0))"
   ]
  },
  {
   "cell_type": "code",
   "execution_count": 84,
   "metadata": {},
   "outputs": [
    {
     "data": {
      "text/plain": [
       "[22, 11, 14, 19, 27, 6, 3, 30, 26, 7, 2, 31, 23, 10, 15, 18]"
      ]
     },
     "execution_count": 84,
     "metadata": {},
     "output_type": "execute_result"
    }
   ],
   "source": [
    "concatenate(__fold_matrix_update(32, matrix16_1))"
   ]
  },
  {
   "cell_type": "code",
   "execution_count": null,
   "metadata": {},
   "outputs": [],
   "source": []
  }
 ],
 "metadata": {
  "kernelspec": {
   "display_name": "Python 3.10.4 ('booklet')",
   "language": "python",
   "name": "python3"
  },
  "language_info": {
   "codemirror_mode": {
    "name": "ipython",
    "version": 3
   },
   "file_extension": ".py",
   "mimetype": "text/x-python",
   "name": "python",
   "nbconvert_exporter": "python",
   "pygments_lexer": "ipython3",
   "version": "3.10.4"
  },
  "orig_nbformat": 4,
  "vscode": {
   "interpreter": {
    "hash": "7a0064eb676495ab0294ef1746325145c23123edd6ffac423098a0856c3eb930"
   }
  }
 },
 "nbformat": 4,
 "nbformat_minor": 2
}
