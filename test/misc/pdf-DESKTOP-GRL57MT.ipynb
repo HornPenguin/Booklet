{
 "cells": [
  {
   "cell_type": "code",
   "execution_count": 4,
   "metadata": {},
   "outputs": [],
   "source": [
    "import PyPDF2 as pypdf\n",
    "import reportlab\n",
    "#paper sizes\n",
    "import reportlab.lib.pagesizes as pagesize\n",
    "import tempfile\n",
    "from reportlab.pdfgen import canvas\n",
    "from reportlab.lib.units import mm\n",
    "from svglib.svglib import svg2rlg\n",
    "\n",
    "from reportlab.graphics.shapes import Group\n",
    "import tempfile\n",
    "from reportlab.lib.units import mm"
   ]
  },
  {
   "cell_type": "code",
   "execution_count": 3,
   "metadata": {},
   "outputs": [],
   "source": [
    "from reportlab.graphics import renderPDF"
   ]
  },
  {
   "cell_type": "code",
   "execution_count": 15,
   "metadata": {},
   "outputs": [],
   "source": [
    "c =canvas.Canvas(\"Arc.pdf\",pagesize=(200,200))\n",
    "c.setLineWidth(2)\n",
    "c.setStrokeColorCMYK(1,1,1,1)\n",
    "p = c.beginPath()\n",
    "p.arc(0,0,50,200, startAng=0, extent=270)\n",
    "c.drawPath(p, fill=0, stroke=1)\n",
    "c.setStrokeColorCMYK(1,0.2,1,0)\n",
    "c.line(100,100, 200,200)\n",
    "c.setLineWidth(10)\n",
    "c.rect(0,0, 200, 200)\n",
    "#c.line(30, 30, 40, 40)\n",
    "\n",
    "c.setFill\n",
    "c.showPage()\n",
    "c.save()"
   ]
  },
  {
   "cell_type": "code",
   "execution_count": 9,
   "metadata": {},
   "outputs": [
    {
     "data": {
      "text/plain": [
       "'n 200 100 m 200 155.2285 155.2285 200 100 200 c 44.77153 200 0 155.2285 0 100 c 0 44.77153 44.77153 0 100 0 c'"
      ]
     },
     "execution_count": 9,
     "metadata": {},
     "output_type": "execute_result"
    }
   ],
   "source": []
  },
  {
   "cell_type": "code",
   "execution_count": 20,
   "metadata": {},
   "outputs": [],
   "source": [
    "regis = svg2rlg('registration.svg')"
   ]
  },
  {
   "cell_type": "code",
   "execution_count": 4,
   "metadata": {},
   "outputs": [],
   "source": [
    "renderPDF.drawToFile(regis,\"black.pdf\")"
   ]
  },
  {
   "cell_type": "code",
   "execution_count": 2,
   "metadata": {},
   "outputs": [],
   "source": []
  },
  {
   "cell_type": "code",
   "execution_count": 2,
   "metadata": {},
   "outputs": [],
   "source": [
    "pts_to_mm = 2.8346456693\n",
    "def pts_mm(size:tuple, mode=True):\n",
    "    if mode: #pts to mm\n",
    "        x = round(size[0]/pts_to_mm,2)\n",
    "        y = round(size[1]/pts_to_mm,2)\n",
    "        return (x,y)\n",
    "    else:   #mm to pts\n",
    "        x = round(size[0] * pts_to_mm, 2)\n",
    "        y = round(size[1] * pts_to_mm, 2)\n",
    "        return (x,y)"
   ]
  },
  {
   "cell_type": "code",
   "execution_count": 4,
   "metadata": {},
   "outputs": [
    {
     "name": "stdout",
     "output_type": "stream",
     "text": [
      "(595.28, 841.89)\n",
      "(595.2755905511812, 841.8897637795277)\n"
     ]
    }
   ],
   "source": [
    "a4 = (210,297) #mm\n",
    "print(pts_mm(a4, False))\n",
    "print((a4[0]*mm,a4[1]*mm))"
   ]
  },
  {
   "cell_type": "code",
   "execution_count": 7,
   "metadata": {},
   "outputs": [
    {
     "name": "stdout",
     "output_type": "stream",
     "text": [
      "(210.0, 297.0)\n"
     ]
    }
   ],
   "source": [
    "print(pts_mm((a4[0]*mm,a4[1]*mm)))"
   ]
  },
  {
   "cell_type": "code",
   "execution_count": 5,
   "metadata": {},
   "outputs": [
    {
     "name": "stdout",
     "output_type": "stream",
     "text": [
      "2.834645669291339\n"
     ]
    }
   ],
   "source": [
    "print(mm)"
   ]
  },
  {
   "cell_type": "code",
   "execution_count": 3,
   "metadata": {},
   "outputs": [],
   "source": [
    "fp = tempfile.TemporaryFile()\n",
    "can = canvas.Canvas(fp, pagesize=(2*595.27, 2*841.89))"
   ]
  },
  {
   "cell_type": "code",
   "execution_count": 5,
   "metadata": {},
   "outputs": [],
   "source": [
    "can.lines([((0,100, 100,100)), ((200,100, 400,100))])"
   ]
  },
  {
   "cell_type": "code",
   "execution_count": null,
   "metadata": {},
   "outputs": [],
   "source": []
  },
  {
   "cell_type": "code",
   "execution_count": 32,
   "metadata": {},
   "outputs": [],
   "source": [
    "can.drawString(100,100,\" Test Pages\")"
   ]
  },
  {
   "cell_type": "code",
   "execution_count": 34,
   "metadata": {},
   "outputs": [],
   "source": [
    "can.setStrokeColorRGB(0.2,0.5,0.3)\n",
    "can.setFillColorRGB(1,0,1)\n",
    "#an draw some lines\n",
    "can.line(0,0,0,1.7*inch)\n",
    "can.line(0,0,1*inch,0)\n",
    "#an draw a rectangle\n",
    "can.rect(0.2*inch,0.2*inch,1*inch,1.5*inch, fill=1)\n",
    "#an make text go straight up\n",
    "can.rotate(90)\n",
    "#an change color\n",
    "can.setFillColorRGB(0,0,0.77)\n",
    "#an say hello (note after rotate the y coord needs to be negative!)\n",
    "can.drawString(0.3*inch, -inch, \"Hello World\")"
   ]
  },
  {
   "cell_type": "code",
   "execution_count": 35,
   "metadata": {},
   "outputs": [],
   "source": [
    "can.save()"
   ]
  },
  {
   "cell_type": "code",
   "execution_count": 36,
   "metadata": {},
   "outputs": [],
   "source": [
    "twopdf = pypdf.PdfFileReader(fp)"
   ]
  },
  {
   "cell_type": "code",
   "execution_count": 37,
   "metadata": {},
   "outputs": [],
   "source": [
    "genpdf = pypdf.PdfFileWriter()"
   ]
  },
  {
   "cell_type": "code",
   "execution_count": 47,
   "metadata": {},
   "outputs": [],
   "source": [
    "inputpage = inputsig.getPage(1)\n",
    "inputpage.add_transformation(pypdf.Transformation().rotate(90).translate(tx=10))"
   ]
  },
  {
   "cell_type": "code",
   "execution_count": 49,
   "metadata": {},
   "outputs": [],
   "source": [
    "page = twopdf.getPage(0)\n",
    "page.merge_page(inputpage)"
   ]
  },
  {
   "cell_type": "code",
   "execution_count": 50,
   "metadata": {},
   "outputs": [],
   "source": [
    "genpdf.add_page(inputpage)\n",
    "with open(\"./test.pdf\", \"wb\") as f:\n",
    "    genpdf.write(f)"
   ]
  },
  {
   "cell_type": "code",
   "execution_count": null,
   "metadata": {},
   "outputs": [],
   "source": [
    "twopdf = pypdf.PdfFileReader(fp)"
   ]
  },
  {
   "cell_type": "code",
   "execution_count": 59,
   "metadata": {},
   "outputs": [],
   "source": [
    "inputsig = pypdf.PdfFileReader('1-8.pdf')\n",
    "inputpage = inputsig.getPage(0)\n",
    "op = pypdf.Transformation().rotate(0).translate(ty=700, tx=500)\n",
    "inputpage.addTransformation(op)\n",
    "pagetwo = twopdf.getPage(0)\n",
    "pagetwo.merge_page(inputpage)\n",
    "\n",
    "\n",
    "genpdf = pypdf.PdfFileWriter()\n",
    "genpdf.add_page(pagetwo)\n",
    "\n",
    "with open(\"./copy_1-8.pdf\", \"wb\") as f:\n",
    "    genpdf.write(f)"
   ]
  },
  {
   "cell_type": "code",
   "execution_count": 154,
   "metadata": {},
   "outputs": [],
   "source": [
    "import math,io\n",
    "import PyPDF2 as pypdf\n",
    "import reportlab\n",
    "#paper sizes\n",
    "import reportlab.lib.pagesizes as pagesize\n",
    "import tempfile\n",
    "from reportlab.pdfgen import canvas\n",
    "from reportlab.lib.units import mm\n",
    "from reportlab.lib.colors import CMYKColor\n",
    "\n",
    "registration_black = CMYKColor(1,1,1,1)\n",
    "\n",
    "def convert(hex:str)->tuple:\n",
    "    if \"#\" in hex:\n",
    "        hex= hex.replace(\"#\",\"\")\n",
    "    R, G, B  = int(hex[0:2],16), int(hex[2:4],16), int(hex[4:6],16)\n",
    "    \n",
    "    R = R/255\n",
    "    G = G/255\n",
    "    B = B/255\n",
    "\n",
    "    K = 1- max(R,G,B)\n",
    "    C = (1-R-K)/(1 - K)\n",
    "    M = (1-G-K)/(1 - K)\n",
    "    Y = (1-B-K)/(1 - K)\n",
    "    return C, M, Y, K\n",
    "\n",
    "def sig_layout(n:int) -> tuple:\n",
    "        if type(n) != int or n<4 or n%4 !=0:\n",
    "            raise ValueError(f\"n:{n} must be a positive integer that multiple of 4.\")\n",
    "\n",
    "        if n%3 ==0:\n",
    "            i = math.log2(n) - math.log2(3) -1\n",
    "            return(3, int(2**i))\n",
    "        else:\n",
    "            i = int(math.log2(n/4))\n",
    "            if i%2 :\n",
    "                k = kp = int((i+1)/2)\n",
    "            else:\n",
    "                k = int(i/2)\n",
    "                kp = k+1\n",
    "            return (int(2**k), int(2**kp))\n",
    "\n",
    "# e.g: generate_layout((,), (1,4), n=20, d=5, proof=True, proofcode=\"\", trim=True, registration=True, cmyk=True)\n",
    "def generate_layout(#All dimensions are written in pts unit\n",
    "        pagesize:tuple, \n",
    "        pagenum:int,\n",
    "        n:tuple, nd:int, d:int, \n",
    "        proof:bool, proofcode:str, \n",
    "        trim:bool, \n",
    "        registration:bool, \n",
    "        cmyk:bool\n",
    "    ):\n",
    "\n",
    "        #Signature composition\n",
    "        ni = n[0]\n",
    "        ns = n[1]\n",
    "\n",
    "        n_block = int(pagenum/(ni * ns))\n",
    "\n",
    "        \n",
    "        #Paper Dimension\n",
    "        arrange =sig_layout(ns)\n",
    "        ny = arrange[0]\n",
    "        nx = arrange[1]\n",
    "        x = 2*nd + nx*pagesize[0] + (nx-1)*d    \n",
    "        y = 2*nd + ny*pagesize[1] + (ny-1)*d\n",
    "\n",
    "        #Signature proof\n",
    "        if proof:\n",
    "            proof_height = pagesize[1]/n_block\n",
    "            proof_width = d\n",
    "            cmyk_proof = convert(proofcode)\n",
    "            proof_position = [nd+pagesize[0], nd+ny*pagesize[1] + (ny-1)*d-proof_height]\n",
    "        #trim\n",
    "        if trim:\n",
    "            trim_l = nd*(1/2)\n",
    "            #horizontal line\n",
    "            x1 = nd/4\n",
    "            x2 = nd + nx*pagesize[0] + (nx-1)*d +x1\n",
    "            y1 = nd + ny*pagesize[1] + (ny-1)*d\n",
    "            y2 = nd\n",
    "            #vertical line\n",
    "            x3 = nd\n",
    "            x4 = x2 - x1\n",
    "            y3 = nd/4\n",
    "            y4 = y1 + y3\n",
    "\n",
    "            trim_lines = [\n",
    "                (x1,y1, x1 + trim_l, y1), # h, u l\n",
    "                (x1,y2, x1 + trim_l, y2), # h, d l\n",
    "                (x2,y1, x2 + trim_l, y1), # h, u r\n",
    "                (x2,y2, x2 + trim_l, y2), # h, d r\n",
    "                (x3,y4, x3, y4 + trim_l), # v, u l\n",
    "                (x3,y3, x3, y3 + trim_l), # v, d l\n",
    "                (x4,y4, x4, y4 + trim_l), # v, u r\n",
    "                (x4,y3, x4, y3 + trim_l)  # v, d r\n",
    "            ]\n",
    "        if registration:\n",
    "            l = (4/5) * nd\n",
    "            dis = nd/2\n",
    "\n",
    "            if not trim:\n",
    "                #horizontal line\n",
    "                x1 = nd/4\n",
    "                x2 = nd + nx*pagesize[0] + (nx-1)*d +x1\n",
    "                y1 = nd + ny*pagesize[1] + (ny-1)*d\n",
    "                y2 = nd\n",
    "                #vertical line\n",
    "                x3 = nd\n",
    "                x4 = x2 - x1\n",
    "                y3 = nd/4\n",
    "                y4 = y1 + y3\n",
    "            regist_coords =[\n",
    "                (dis - l/2, y1-dis - l),\n",
    "                (dis - l/2, y2 + dis),\n",
    "                (x2 + trim_l/2 - l/2, y1-dis - l),\n",
    "                (x2 + trim_l/2 - l/2, y2 + dis),\n",
    "                (x3 + dis, y4+trim_l/2 - l/2),\n",
    "                (x3 + dis, dis - l/2),\n",
    "                (x4 - dis -l, y4+trim_l/2 - l/2),\n",
    "                (x4 - dis -l, dis - l/2),\n",
    "            ]\n",
    "        if cmyk:\n",
    "            rec_l = nd/2\n",
    "            rec_d = nd/8\n",
    "            #cmyk_position = [nd/4, y1-rec_l*2] if not registration else \n",
    "            cmyk_position = [nd/4, y1-rec_l*2 - dis -l/2] \n",
    "\n",
    "        tem_pdf_byte = io.BytesIO()\n",
    "\n",
    "        layout = canvas.Canvas(tem_pdf_byte, pagesize = (x,y))\n",
    "\n",
    "        for i in range(0, n_block):\n",
    "            for j in range(0, ni):\n",
    "\n",
    "                #fill basic layout components\n",
    "                if proof and j==0 : # draw rectangle\n",
    "                    layout.setLineWidth(0)\n",
    "                    layout.setFillColorCMYK(cmyk_proof[0], cmyk_proof[1] ,cmyk_proof[2], cmyk_proof[3])\n",
    "                    layout.rect(proof_position[0], proof_position[1], proof_width, proof_height, fill=1, stroke=0)\n",
    "\n",
    "                    proof_position[1] = proof_position[1] - proof_height\n",
    "                for k in range(0,2):  \n",
    "                    if trim: # draw line\n",
    "                        layout.setLineWidth(0.5*mm)\n",
    "                        layout.lines(trim_lines)\n",
    "                    if registration: # add image\n",
    "                        _drawRegistrationMark(layout, regist_coords[0][0], regist_coords[0][1], l)\n",
    "                        _drawRegistrationMark(layout, regist_coords[1][0], regist_coords[1][1], l)\n",
    "                        _drawRegistrationMark(layout, regist_coords[2][0], regist_coords[2][1], l)\n",
    "                        _drawRegistrationMark(layout, regist_coords[3][0], regist_coords[3][1], l)\n",
    "                        _drawRegistrationMark(layout, regist_coords[4][0], regist_coords[4][1], l)\n",
    "                        _drawRegistrationMark(layout, regist_coords[5][0], regist_coords[5][1], l)\n",
    "                        _drawRegistrationMark(layout, regist_coords[6][0], regist_coords[6][1], l)\n",
    "                        _drawRegistrationMark(layout, regist_coords[7][0], regist_coords[7][1], l)\n",
    "                    if cmyk: \n",
    "                        layout.setLineWidth(0)\n",
    "                        layout.setFillColor(color_cyan)\n",
    "                        layout.rect(cmyk_position[0], cmyk_position[1], rec_l, rec_l, fill=1, stroke=0)\n",
    "                        cmyk_position[1] -=(rec_d + rec_l)\n",
    "                        layout.setFillColor(color_magenta)\n",
    "                        layout.rect(cmyk_position[0], cmyk_position[1], rec_l, rec_l, fill=1, stroke=0)\n",
    "                        cmyk_position[1] -=(rec_d + rec_l)\n",
    "                        layout.setFillColor(color_yellow)\n",
    "                        layout.rect(cmyk_position[0], cmyk_position[1], rec_l, rec_l, fill=1, stroke=0)\n",
    "                        cmyk_position[1] -=(rec_d + rec_l)\n",
    "                        layout.setFillColor(color_black)\n",
    "                        layout.rect(cmyk_position[0], cmyk_position[1], rec_l, rec_l, fill=1, stroke=0)\n",
    "                        cmyk_position[1] = y1-rec_l*2\n",
    "\n",
    "\n",
    "                    layout.showPage()\n",
    "\n",
    "        #----------------------------\n",
    "        layout.save()\n",
    "        tem_pdf_byte.seek(0)\n",
    "        tem_pdf  = pypdf.PdfReader(tem_pdf_byte)\n",
    "        return tem_pdf, tem_pdf_byte"
   ]
  },
  {
   "cell_type": "code",
   "execution_count": 155,
   "metadata": {},
   "outputs": [],
   "source": [
    "from reportlab.lib.colors import CMYKColor\n",
    "\n",
    "color_black = CMYKColor(0, 0, 0, 1)\n",
    "color_cyan = CMYKColor(1, 0, 0, 0)\n",
    "color_magenta = CMYKColor(0, 1, 0, 0)\n",
    "color_yellow = CMYKColor(0, 0, 1, 0)\n",
    "\n",
    "registration_black = CMYKColor(1,1,1,1)\n"
   ]
  },
  {
   "cell_type": "code",
   "execution_count": 156,
   "metadata": {},
   "outputs": [],
   "source": [
    "def _drawRegistrationMark( canvas, x, y, l):\n",
    "\n",
    "        def get_abpath4(x0,y0,x1, y1):\n",
    "            return (x+x0, y+y0, x+x1, y+y1)\n",
    "\n",
    "        def get_abpath2(x0,y0):\n",
    "            return x+x0, y+y0\n",
    "\n",
    "        line_t = l/15 #/25\n",
    "        line_l = l*(3/16)\n",
    "        circle_r1 = l*(5/16) - line_t\n",
    "        circle_r2 = circle_r1 - line_t*(1.5)\n",
    "\n",
    "        lines = [\n",
    "            get_abpath4(0,l/2, line_l, l/2),\n",
    "            get_abpath4(l-line_l, l/2, l,l/2),\n",
    "            get_abpath4(l/2,0, l/2, line_l),\n",
    "            get_abpath4(l/2,l-line_l,l/2,l)\n",
    "        ]\n",
    "\n",
    "        canvas.setLineWidth(line_t)\n",
    "        canvas.setStrokeColor(registration_black)\n",
    "        canvas.setFillColor(registration_black)\n",
    "        #lines\n",
    "        canvas.lines(lines)\n",
    "\n",
    "        #outter\n",
    "        arcs = canvas.beginPath()\n",
    "        #arcs.circle(x+l/2+line_t, y+l/2+line_t, circle_r1)\n",
    "        c = l/2 - line_t/2\n",
    "        #x1 = c - circle_r1\n",
    "        #x2 = c + circle_r1\n",
    "        #x1, x2 = get_abpath2(x1, x2)\n",
    "        #arcs.circle(x+ c, y+c , circle_r1)\n",
    "        x1 = c- circle_r1\n",
    "        x2 = c+ circle_r1\n",
    "        #상대 경로는 같아도 절대 경로에서는 x,y값이 같지 않음\n",
    "        x1, y1 = get_abpath2(x1, x1)\n",
    "        x2, y2 = get_abpath2(x2, x2)\n",
    "        arcs.arc(x1,        y1,         x2,         y2,         startAng=180,   extent=90)\n",
    "        arcs.arc(x1+line_t, y1,         x2+line_t,  y2,         startAng=270,   extent=90)\n",
    "        arcs.arc(x1+line_t, y1+line_t,  x2+line_t,  y2+line_t,  startAng=0,     extent=90)\n",
    "        arcs.arc(x1,        y1+line_t,  x2,         y2+line_t,  startAng=90,   extent=90)\n",
    "        canvas.drawPath(arcs, fill=0, stroke=1)\n",
    "\n",
    "        #inner\n",
    "        arcs_fill = canvas.beginPath()\n",
    "        #arcs_fill.circle(x+l/2, y+l/2, circle_r2)\n",
    "        x1 = c - circle_r2\n",
    "        x2 = c + circle_r2\n",
    "        x1, y1 = get_abpath2(x1, x1)\n",
    "        x2, y2 = get_abpath2(x2, x2)\n",
    "\n",
    "        xc , yc = get_abpath2(l/2, l/2)\n",
    "\n",
    "        d= line_t/2\n",
    "\n",
    "        arcs_fill.moveTo(xc-d, yc-d)\n",
    "        arcs_fill.arcTo(x1,        y1,         x2,         y2,         startAng=180,   extent=90)\n",
    "        \n",
    "\n",
    "        arcs_fill.moveTo(xc +d, yc-d)\n",
    "        arcs_fill.arcTo(x1+line_t, y1,         x2+line_t,  y2,         startAng=270,   extent=90)\n",
    "        \n",
    "\n",
    "        arcs_fill.moveTo(xc +d, yc +d)\n",
    "        arcs_fill.arcTo(x1+line_t, y1+line_t,  x2+line_t,  y2+line_t,  startAng=0,     extent=90)\n",
    "        \n",
    "        \n",
    "        arcs_fill.moveTo(xc -d, yc +d)\n",
    "        arcs_fill.arcTo(x1,        y1+line_t,  x2,         y2+line_t,  startAng=90,    extent=90)\n",
    "        \n",
    "        canvas.drawPath(arcs_fill, fill=1, stroke=0)\n",
    "\n",
    "        return 0"
   ]
  },
  {
   "cell_type": "code",
   "execution_count": 157,
   "metadata": {},
   "outputs": [],
   "source": [
    "test, test_byte = generate_layout(\n",
    "    (595.28, 841.89), \n",
    "    48,\n",
    "    (1,12), \n",
    "    nd=80, \n",
    "    d=20, \n",
    "    proof=True, \n",
    "    proofcode=\"#ff5733\", \n",
    "    trim=True, \n",
    "    registration=True, \n",
    "    cmyk=True\n",
    "    )\n",
    "testwrite = pypdf.PdfFileWriter()\n",
    "for i in range(0, test.numPages):\n",
    "    testwrite.add_page(test.getPage(i))\n",
    "\n",
    "with open(\"layout.pdf\", \"wb\") as f:\n",
    "    testwrite.write(f)\n"
   ]
  },
  {
   "cell_type": "code",
   "execution_count": 158,
   "metadata": {},
   "outputs": [
    {
     "data": {
      "text/plain": [
       "8"
      ]
     },
     "execution_count": 158,
     "metadata": {},
     "output_type": "execute_result"
    }
   ],
   "source": [
    "test.numPages"
   ]
  },
  {
   "cell_type": "code",
   "execution_count": 85,
   "metadata": {},
   "outputs": [
    {
     "data": {
      "text/plain": [
       "(3, 4)"
      ]
     },
     "execution_count": 85,
     "metadata": {},
     "output_type": "execute_result"
    }
   ],
   "source": [
    "sig_layout(24)"
   ]
  },
  {
   "cell_type": "code",
   "execution_count": 50,
   "metadata": {},
   "outputs": [],
   "source": []
  },
  {
   "cell_type": "code",
   "execution_count": 15,
   "metadata": {},
   "outputs": [
    {
     "name": "stdout",
     "output_type": "stream",
     "text": [
      "ff5733\n"
     ]
    }
   ],
   "source": [
    "if '#' in '#ff5733':\n",
    "    print('#ff5733'.replace(\"#\",\"\"))"
   ]
  },
  {
   "cell_type": "code",
   "execution_count": 20,
   "metadata": {},
   "outputs": [
    {
     "data": {
      "text/plain": [
       "1"
      ]
     },
     "execution_count": 20,
     "metadata": {},
     "output_type": "execute_result"
    }
   ],
   "source": [
    "(1,2)[0]"
   ]
  },
  {
   "cell_type": "code",
   "execution_count": 15,
   "metadata": {},
   "outputs": [],
   "source": [
    "def position(i, layout):\n",
    "        nx = layout[0]\n",
    "        ny = layout[1]\n",
    "        x = (i-1) % (nx)\n",
    "        y = ny - math.floor(i/ny) -1\n",
    "        return(x,y)"
   ]
  },
  {
   "cell_type": "code",
   "execution_count": 2,
   "metadata": {},
   "outputs": [],
   "source": [
    "import math"
   ]
  },
  {
   "cell_type": "code",
   "execution_count": 5,
   "metadata": {},
   "outputs": [
    {
     "data": {
      "text/plain": [
       "0"
      ]
     },
     "execution_count": 5,
     "metadata": {},
     "output_type": "execute_result"
    }
   ],
   "source": [
    "math.floor(3/4)"
   ]
  },
  {
   "cell_type": "code",
   "execution_count": 25,
   "metadata": {},
   "outputs": [
    {
     "data": {
      "text/plain": [
       "(2, 1)"
      ]
     },
     "execution_count": 25,
     "metadata": {},
     "output_type": "execute_result"
    }
   ],
   "source": [
    "position(9, (3,4))"
   ]
  },
  {
   "cell_type": "code",
   "execution_count": 9,
   "metadata": {},
   "outputs": [
    {
     "data": {
      "text/plain": [
       "2"
      ]
     },
     "execution_count": 9,
     "metadata": {},
     "output_type": "execute_result"
    }
   ],
   "source": [
    "4 - math.floor(1) - 1"
   ]
  },
  {
   "cell_type": "code",
   "execution_count": 32,
   "metadata": {},
   "outputs": [
    {
     "name": "stdout",
     "output_type": "stream",
     "text": [
      "1\n",
      "4\n"
     ]
    }
   ],
   "source": [
    "for i in range(0,7)[1::3]:\n",
    "    print(i)"
   ]
  },
  {
   "cell_type": "code",
   "execution_count": 10,
   "metadata": {},
   "outputs": [],
   "source": [
    "import sys, os, io\n",
    "sys.path.insert(1, os.getcwd()) \n",
    "sys.path.append(\"..\")\n",
    "import PyPDF2 as pypdf\n",
    "from reportlab.pdfgen import canvas\n",
    "import pdf2image\n",
    "import reportlab.lib.pagesizes as pagesize\n",
    "import tempfile\n",
    "from booklet import img2pdf\n",
    "from booklet import fonts\n",
    "\n",
    "from PIL import Image, ImageDraw, ImageFont\n"
   ]
  },
  {
   "cell_type": "code",
   "execution_count": 2,
   "metadata": {},
   "outputs": [],
   "source": [
    "def toimagepdf(\n",
    "    pdf_path, \n",
    "    mode:bool=False, \n",
    "    dpi:int=600, \n",
    "    format = None,\n",
    "    pdf_mode=\"pillow\"\n",
    "    ):\n",
    "    if mode:\n",
    "        tem_dir = tempfile.TemporaryDirectory()\n",
    "        page_images = pdf2image.convert_from_path(\n",
    "            pdf_path,\n",
    "            dpi = dpi,\n",
    "            fmt=\"png\",\n",
    "            use_cropbox=True,\n",
    "            transparent=False,\n",
    "            output_folder= tem_dir.name,\n",
    "            size = format\n",
    "        )\n",
    "        tem_file = tempfile.TemporaryFile(suffix='.pdf')\n",
    "        files = [im.filename for im in page_images]\n",
    "\n",
    "        tem_file.write(img2pdf.convert(files))\n",
    "        return {\n",
    "            \"bool\": True, \n",
    "            \"pdf\": pypdf.PdfFileReader(tem_file), \n",
    "            \"dir\": tem_dir, \n",
    "            \"file\": tem_file}\n",
    "\n",
    "    else:\n",
    "        return {\"bool\":False}"
   ]
  },
  {
   "cell_type": "code",
   "execution_count": 3,
   "metadata": {},
   "outputs": [],
   "source": [
    "dpi = 600\n",
    "pdf_mode= \"pillow\"\n",
    "#pdf, boo = toimagepdf(\"./test_document.pdf\", mode=True, dpi=dpi, pdf_mode=\"pdf2image\")\n",
    "#pw = pypdf.PdfFileWriter()\n",
    "#pw.append_pages_from_reader(pdf)\n",
    "#with open(f\"image_{dpi}_{pdf_mode}.pdf\", \"wb\") as f:\n",
    "#    pw.write(f)"
   ]
  },
  {
   "cell_type": "code",
   "execution_count": 9,
   "metadata": {},
   "outputs": [],
   "source": [
    "image_pdf = toimagepdf(\"./test_document.pdf\", mode=True, dpi=dpi, pdf_mode=\"pdf2image\")"
   ]
  },
  {
   "cell_type": "code",
   "execution_count": 10,
   "metadata": {},
   "outputs": [
    {
     "name": "stdout",
     "output_type": "stream",
     "text": [
      "<class 'PyPDF2._reader.PdfFileReader'>\n"
     ]
    }
   ],
   "source": [
    "if image_pdf[\"bool\"]:\n",
    "    print(type(image_pdf[\"pdf\"]))"
   ]
  },
  {
   "cell_type": "code",
   "execution_count": 184,
   "metadata": {},
   "outputs": [],
   "source": [
    "def get_text_dim(string, font_file:str, size):\n",
    "    size_pixel = fonts.pts2pix(size)\n",
    "    im_width= 2*size_pixel\n",
    "    im_height= size_pixel\n",
    "    bg_color = (0,0,0)\n",
    "    st = string[0]\n",
    "    repeat = True\n",
    "    while(repeat):\n",
    "        #Generate string as image\n",
    "        print(im_width)\n",
    "        tem = io.BytesIO()\n",
    "        im = Image.new(\"RGB\", (im_width, im_height), bg_color)\n",
    "        draw = ImageDraw.Draw(im)\n",
    "        font_PIL = ImageFont.truetype(font_file, size_pixel)\n",
    "        draw.text((0,0), st, font=font_PIL, fill=(255,255,255))\n",
    "        im.save(tem, format=\"png\")\n",
    "\n",
    "        box = Image.open(tem).getbbox() # left, upper, right, and lower pixel coordinate\n",
    "        width = box[2] - box[0]\n",
    "        height = box[3] - box[1]\n",
    "        if len(string) ==1 or st == string:\n",
    "            repeat = False\n",
    "            break\n",
    "        else: \n",
    "            st = string\n",
    "            im_width = (width+2) * (len(string) +4)\n",
    "            print(width, im_width)\n",
    "\n",
    "    \n",
    "    return width, height, tem"
   ]
  },
  {
   "cell_type": "code",
   "execution_count": 109,
   "metadata": {},
   "outputs": [
    {
     "data": {
      "text/plain": [
       "{'Alef': {'Bold': 'C:\\\\Windows\\\\Fonts\\\\Alef-Bold.ttf',\n",
       "  'Regular': 'C:\\\\Windows\\\\Fonts\\\\Alef-Regular.ttf'},\n",
       " 'Amiri': {'Bold': 'C:\\\\Windows\\\\Fonts\\\\Amiri-Bold.ttf',\n",
       "  'Bold Slanted': 'C:\\\\Windows\\\\Fonts\\\\Amiri-BoldSlanted.ttf',\n",
       "  'Regular': 'C:\\\\Windows\\\\Fonts\\\\Amiri-Regular.ttf',\n",
       "  'Slanted': 'C:\\\\Windows\\\\Fonts\\\\Amiri-Slanted.ttf'},\n",
       " 'Amiri Quran': {'Regular': 'C:\\\\Windows\\\\Fonts\\\\AmiriQuran.ttf'},\n",
       " 'Arial': {'Regular': 'C:\\\\Windows\\\\Fonts\\\\arial.ttf',\n",
       "  'Bold': 'C:\\\\Windows\\\\Fonts\\\\arialbd.ttf',\n",
       "  'Bold Italic': 'C:\\\\Windows\\\\Fonts\\\\arialbi.ttf',\n",
       "  'Italic': 'C:\\\\Windows\\\\Fonts\\\\ariali.ttf',\n",
       "  'Black': 'C:\\\\Windows\\\\Fonts\\\\ariblk.ttf'},\n",
       " 'Bahnschrift': {None: 'C:\\\\Windows\\\\Fonts\\\\bahnschrift.ttf'},\n",
       " 'Batang': {'Regular': 'C:\\\\Windows\\\\Fonts\\\\batang.ttc'},\n",
       " 'BatangChe': {'Regular': 'C:\\\\Windows\\\\Fonts\\\\batang.ttc'},\n",
       " 'Caladea': {'Bold': 'C:\\\\Windows\\\\Fonts\\\\Caladea-Bold.ttf',\n",
       "  'Bold Italic': 'C:\\\\Windows\\\\Fonts\\\\Caladea-BoldItalic.ttf',\n",
       "  'Italic': 'C:\\\\Windows\\\\Fonts\\\\Caladea-Italic.ttf',\n",
       "  'Regular': 'C:\\\\Windows\\\\Fonts\\\\Caladea-Regular.ttf'},\n",
       " 'Calibri': {'Regular': 'C:\\\\Windows\\\\Fonts\\\\calibri.ttf',\n",
       "  'Bold': 'C:\\\\Windows\\\\Fonts\\\\calibrib.ttf',\n",
       "  'Italic': 'C:\\\\Windows\\\\Fonts\\\\calibrii.ttf',\n",
       "  'Light': 'C:\\\\Windows\\\\Fonts\\\\calibril.ttf',\n",
       "  'Light Italic': 'C:\\\\Windows\\\\Fonts\\\\calibrili.ttf',\n",
       "  'Bold Italic': 'C:\\\\Windows\\\\Fonts\\\\calibriz.ttf'},\n",
       " 'Cambria': {'Regular': 'C:\\\\Windows\\\\Fonts\\\\cambria.ttc',\n",
       "  'Bold': 'C:\\\\Windows\\\\Fonts\\\\cambriab.ttf',\n",
       "  'Italic': 'C:\\\\Windows\\\\Fonts\\\\cambriai.ttf',\n",
       "  'Bold Italic': 'C:\\\\Windows\\\\Fonts\\\\cambriaz.ttf'},\n",
       " 'Cambria Math': {'Regular': 'C:\\\\Windows\\\\Fonts\\\\cambria.ttc'},\n",
       " 'Candara': {'Regular': 'C:\\\\Windows\\\\Fonts\\\\Candara.ttf',\n",
       "  'Bold': 'C:\\\\Windows\\\\Fonts\\\\Candarab.ttf',\n",
       "  'Italic': 'C:\\\\Windows\\\\Fonts\\\\Candarai.ttf',\n",
       "  'Light': 'C:\\\\Windows\\\\Fonts\\\\Candaral.ttf',\n",
       "  'Light Italic': 'C:\\\\Windows\\\\Fonts\\\\Candarali.ttf',\n",
       "  'Bold Italic': 'C:\\\\Windows\\\\Fonts\\\\Candaraz.ttf'},\n",
       " 'Carlito': {'Bold': 'C:\\\\Windows\\\\Fonts\\\\Carlito-Bold.ttf',\n",
       "  'Bold Italic': 'C:\\\\Windows\\\\Fonts\\\\Carlito-BoldItalic.ttf',\n",
       "  'Italic': 'C:\\\\Windows\\\\Fonts\\\\Carlito-Italic.ttf',\n",
       "  'Regular': 'C:\\\\Windows\\\\Fonts\\\\Carlito-Regular.ttf'},\n",
       " 'Cascadia Code': {'Regular': 'C:\\\\Windows\\\\Fonts\\\\CascadiaCode.ttf'},\n",
       " 'Cascadia Mono': {'Regular': 'C:\\\\Windows\\\\Fonts\\\\CascadiaMono.ttf'},\n",
       " 'Comic Sans MS': {'Regular': 'C:\\\\Windows\\\\Fonts\\\\comic.ttf',\n",
       "  'Bold': 'C:\\\\Windows\\\\Fonts\\\\comicbd.ttf',\n",
       "  'Italic': 'C:\\\\Windows\\\\Fonts\\\\comici.ttf',\n",
       "  'Bold Italic': 'C:\\\\Windows\\\\Fonts\\\\comicz.ttf'},\n",
       " 'Consolas': {'Regular': 'C:\\\\Windows\\\\Fonts\\\\consola.ttf',\n",
       "  'Bold': 'C:\\\\Windows\\\\Fonts\\\\consolab.ttf',\n",
       "  'Italic': 'C:\\\\Windows\\\\Fonts\\\\consolai.ttf',\n",
       "  'Bold Italic': 'C:\\\\Windows\\\\Fonts\\\\consolaz.ttf'},\n",
       " 'Constantia': {'Regular': 'C:\\\\Windows\\\\Fonts\\\\constan.ttf',\n",
       "  'Bold': 'C:\\\\Windows\\\\Fonts\\\\constanb.ttf',\n",
       "  'Italic': 'C:\\\\Windows\\\\Fonts\\\\constani.ttf',\n",
       "  'Bold Italic': 'C:\\\\Windows\\\\Fonts\\\\constanz.ttf'},\n",
       " 'Corbel': {'Regular': 'C:\\\\Windows\\\\Fonts\\\\corbel.ttf',\n",
       "  'Bold': 'C:\\\\Windows\\\\Fonts\\\\corbelb.ttf',\n",
       "  'Italic': 'C:\\\\Windows\\\\Fonts\\\\corbeli.ttf',\n",
       "  'Light': 'C:\\\\Windows\\\\Fonts\\\\corbell.ttf',\n",
       "  'Light Italic': 'C:\\\\Windows\\\\Fonts\\\\corbelli.ttf',\n",
       "  'Bold Italic': 'C:\\\\Windows\\\\Fonts\\\\corbelz.ttf'},\n",
       " 'Courier New': {'Regular': 'C:\\\\Windows\\\\Fonts\\\\cour.ttf',\n",
       "  'Bold': 'C:\\\\Windows\\\\Fonts\\\\courbd.ttf',\n",
       "  'Bold Italic': 'C:\\\\Windows\\\\Fonts\\\\courbi.ttf',\n",
       "  'Italic': 'C:\\\\Windows\\\\Fonts\\\\couri.ttf'},\n",
       " 'David CLM': {'Bold': 'C:\\\\Windows\\\\Fonts\\\\DavidCLM-Bold.ttf',\n",
       "  'BoldItalic': 'C:\\\\Windows\\\\Fonts\\\\DavidCLM-BoldItalic.ttf',\n",
       "  'Medium': 'C:\\\\Windows\\\\Fonts\\\\DavidCLM-Medium.ttf',\n",
       "  'MediumItalic': 'C:\\\\Windows\\\\Fonts\\\\DavidCLM-MediumItalic.ttf'},\n",
       " 'David Libre': {'Bold': 'C:\\\\Windows\\\\Fonts\\\\DavidLibre-Bold.ttf',\n",
       "  'Regular': 'C:\\\\Windows\\\\Fonts\\\\DavidLibre-Regular.ttf'},\n",
       " 'DejaVu Math TeX Gyre': {'Regular': 'C:\\\\Windows\\\\Fonts\\\\DejaVuMathTeXGyre.ttf'},\n",
       " 'DejaVu Sans': {'Bold': 'C:\\\\Windows\\\\Fonts\\\\DejaVuSans-Bold.ttf',\n",
       "  'Bold Oblique': 'C:\\\\Windows\\\\Fonts\\\\DejaVuSans-BoldOblique.ttf',\n",
       "  'ExtraLight': 'C:\\\\Windows\\\\Fonts\\\\DejaVuSans-ExtraLight.ttf',\n",
       "  'Oblique': 'C:\\\\Windows\\\\Fonts\\\\DejaVuSans-Oblique.ttf',\n",
       "  'Book': 'C:\\\\Windows\\\\Fonts\\\\DejaVuSans.ttf',\n",
       "  'Condensed Bold': 'C:\\\\Windows\\\\Fonts\\\\DejaVuSansCondensed-Bold.ttf',\n",
       "  'Condensed Bold Oblique': 'C:\\\\Windows\\\\Fonts\\\\DejaVuSansCondensed-BoldOblique.ttf',\n",
       "  'Condensed Oblique': 'C:\\\\Windows\\\\Fonts\\\\DejaVuSansCondensed-Oblique.ttf',\n",
       "  'Condensed': 'C:\\\\Windows\\\\Fonts\\\\DejaVuSansCondensed.ttf'},\n",
       " 'DejaVu Sans Mono': {'Bold': 'C:\\\\Windows\\\\Fonts\\\\DejaVuSansMono-Bold.ttf',\n",
       "  'Bold Oblique': 'C:\\\\Windows\\\\Fonts\\\\DejaVuSansMono-BoldOblique.ttf',\n",
       "  'Oblique': 'C:\\\\Windows\\\\Fonts\\\\DejaVuSansMono-Oblique.ttf',\n",
       "  'Book': 'C:\\\\Windows\\\\Fonts\\\\DejaVuSansMono.ttf'},\n",
       " 'DejaVu Serif': {'Bold': 'C:\\\\Windows\\\\Fonts\\\\DejaVuSerif-Bold.ttf',\n",
       "  'Bold Italic': 'C:\\\\Windows\\\\Fonts\\\\DejaVuSerif-BoldItalic.ttf',\n",
       "  'Italic': 'C:\\\\Windows\\\\Fonts\\\\DejaVuSerif-Italic.ttf',\n",
       "  'Book': 'C:\\\\Windows\\\\Fonts\\\\DejaVuSerif.ttf',\n",
       "  'Condensed Bold': 'C:\\\\Windows\\\\Fonts\\\\DejaVuSerifCondensed-Bold.ttf',\n",
       "  'Condensed Bold Italic': 'C:\\\\Windows\\\\Fonts\\\\DejaVuSerifCondensed-BoldItalic.ttf',\n",
       "  'Condensed Italic': 'C:\\\\Windows\\\\Fonts\\\\DejaVuSerifCondensed-Italic.ttf',\n",
       "  'Condensed': 'C:\\\\Windows\\\\Fonts\\\\DejaVuSerifCondensed.ttf'},\n",
       " 'Dotum': {'Regular': 'C:\\\\Windows\\\\Fonts\\\\gulim.ttc'},\n",
       " 'DotumChe': {'Regular': 'C:\\\\Windows\\\\Fonts\\\\gulim.ttc'},\n",
       " 'Ebrima': {'Regular': 'C:\\\\Windows\\\\Fonts\\\\ebrima.ttf',\n",
       "  'Bold': 'C:\\\\Windows\\\\Fonts\\\\ebrimabd.ttf'},\n",
       " 'EmojiOne Color': {'Regular': 'C:\\\\Windows\\\\Fonts\\\\EmojiOneColor-SVGinOT.ttf'},\n",
       " 'Frank Ruehl CLM': {'Bold': 'C:\\\\Windows\\\\Fonts\\\\FrankRuehlCLM-Bold.ttf',\n",
       "  'BoldOblique': 'C:\\\\Windows\\\\Fonts\\\\FrankRuehlCLM-BoldOblique.ttf',\n",
       "  'Medium': 'C:\\\\Windows\\\\Fonts\\\\FrankRuehlCLM-Medium.ttf',\n",
       "  'MediumOblique': 'C:\\\\Windows\\\\Fonts\\\\FrankRuehlCLM-MediumOblique.ttf'},\n",
       " 'Frank Ruhl Hofshi': {'Bold': 'C:\\\\Windows\\\\Fonts\\\\FrankRuhlHofshi-Bold.otf',\n",
       "  'Regular': 'C:\\\\Windows\\\\Fonts\\\\FrankRuhlHofshi-Regular.otf'},\n",
       " 'Franklin Gothic Medium': {'Regular': 'C:\\\\Windows\\\\Fonts\\\\framd.ttf',\n",
       "  'Italic': 'C:\\\\Windows\\\\Fonts\\\\framdit.ttf'},\n",
       " 'Gabriola': {'Regular': 'C:\\\\Windows\\\\Fonts\\\\Gabriola.ttf'},\n",
       " 'Gadugi': {'Regular': 'C:\\\\Windows\\\\Fonts\\\\gadugi.ttf',\n",
       "  'Bold': 'C:\\\\Windows\\\\Fonts\\\\gadugib.ttf'},\n",
       " 'Gentium Basic': {'Bold': 'C:\\\\Windows\\\\Fonts\\\\GenBasB.ttf',\n",
       "  'Bold Italic': 'C:\\\\Windows\\\\Fonts\\\\GenBasBI.ttf',\n",
       "  'Italic': 'C:\\\\Windows\\\\Fonts\\\\GenBasI.ttf',\n",
       "  'Regular': 'C:\\\\Windows\\\\Fonts\\\\GenBasR.ttf'},\n",
       " 'Gentium Book Basic': {'Bold': 'C:\\\\Windows\\\\Fonts\\\\GenBkBasB.ttf',\n",
       "  'Bold Italic': 'C:\\\\Windows\\\\Fonts\\\\GenBkBasBI.ttf',\n",
       "  'Italic': 'C:\\\\Windows\\\\Fonts\\\\GenBkBasI.ttf',\n",
       "  'Regular': 'C:\\\\Windows\\\\Fonts\\\\GenBkBasR.ttf'},\n",
       " 'Georgia': {'Regular': 'C:\\\\Windows\\\\Fonts\\\\georgia.ttf',\n",
       "  'Bold': 'C:\\\\Windows\\\\Fonts\\\\georgiab.ttf',\n",
       "  'Italic': 'C:\\\\Windows\\\\Fonts\\\\georgiai.ttf',\n",
       "  'Bold Italic': 'C:\\\\Windows\\\\Fonts\\\\georgiaz.ttf'},\n",
       " 'Gulim': {'Regular': 'C:\\\\Windows\\\\Fonts\\\\gulim.ttc'},\n",
       " 'GulimChe': {'Regular': 'C:\\\\Windows\\\\Fonts\\\\gulim.ttc'},\n",
       " 'Gungsuh': {'Regular': 'C:\\\\Windows\\\\Fonts\\\\batang.ttc'},\n",
       " 'GungsuhChe': {'Regular': 'C:\\\\Windows\\\\Fonts\\\\batang.ttc'},\n",
       " 'HCR Batang': {'Regular': 'C:\\\\Windows\\\\Fonts\\\\HANBatang.ttf',\n",
       "  'Bold': 'C:\\\\Windows\\\\Fonts\\\\HANBatangB.ttf'},\n",
       " 'HCR Batang Ext': {'Regular': 'C:\\\\Windows\\\\Fonts\\\\HANBatangExt.ttf'},\n",
       " 'HCR Batang ExtB': {'Regular': 'C:\\\\Windows\\\\Fonts\\\\HANBatangExtB.ttf',\n",
       "  'Bold': 'C:\\\\Windows\\\\Fonts\\\\HANBatangExtBB.ttf'},\n",
       " 'HCR Dotum': {'Regular': 'C:\\\\Windows\\\\Fonts\\\\HANDotum.ttf',\n",
       "  'Bold': 'C:\\\\Windows\\\\Fonts\\\\HANDotumB.ttf'},\n",
       " 'HCR Dotum Ext': {'Regular': 'C:\\\\Windows\\\\Fonts\\\\HANDotumExt.ttf'},\n",
       " 'Haan Wing2': {'Regular': 'C:\\\\Windows\\\\Fonts\\\\HANWing2.ttf'},\n",
       " 'Han Santteut Dotum': {'Bold': 'C:\\\\Windows\\\\Fonts\\\\HanSantteutDotum-Bold.ttf',\n",
       "  'Regular': 'C:\\\\Windows\\\\Fonts\\\\HanSantteutDotum-Regular.ttf'},\n",
       " 'Hancom Gothic': {'Bold': 'C:\\\\Windows\\\\Fonts\\\\Hancom Gothic Bold.ttf',\n",
       "  'Regular': 'C:\\\\Windows\\\\Fonts\\\\Hancom Gothic Regular.ttf'},\n",
       " 'HancomEQN': {'Regular': 'C:\\\\Windows\\\\Fonts\\\\HancomEQN.ttf'},\n",
       " 'HoloLens MDL2 Assets': {'Regular': 'C:\\\\Windows\\\\Fonts\\\\holomdl2.ttf'},\n",
       " 'Impact': {'Regular': 'C:\\\\Windows\\\\Fonts\\\\impact.ttf'},\n",
       " 'Ink Free': {'Regular': 'C:\\\\Windows\\\\Fonts\\\\Inkfree.ttf'},\n",
       " 'Javanese Text': {'Regular': 'C:\\\\Windows\\\\Fonts\\\\javatext.ttf'},\n",
       " 'KacstBook': {'Medium': 'C:\\\\Windows\\\\Fonts\\\\KacstBook.ttf'},\n",
       " 'KacstOffice': {'Medium': 'C:\\\\Windows\\\\Fonts\\\\KacstOffice.ttf'},\n",
       " 'Leelawadee UI': {'Bold': 'C:\\\\Windows\\\\Fonts\\\\LeelaUIb.ttf',\n",
       "  'Regular': 'C:\\\\Windows\\\\Fonts\\\\LeelawUI.ttf',\n",
       "  'Semilight': 'C:\\\\Windows\\\\Fonts\\\\LeelUIsl.ttf'},\n",
       " 'Liberation Mono': {'Bold': 'C:\\\\Windows\\\\Fonts\\\\LiberationMono-Bold.ttf',\n",
       "  'Bold Italic': 'C:\\\\Windows\\\\Fonts\\\\LiberationMono-BoldItalic.ttf',\n",
       "  'Italic': 'C:\\\\Windows\\\\Fonts\\\\LiberationMono-Italic.ttf',\n",
       "  'Regular': 'C:\\\\Windows\\\\Fonts\\\\LiberationMono-Regular.ttf'},\n",
       " 'Liberation Sans': {'Bold': 'C:\\\\Windows\\\\Fonts\\\\LiberationSans-Bold.ttf',\n",
       "  'Bold Italic': 'C:\\\\Windows\\\\Fonts\\\\LiberationSans-BoldItalic.ttf',\n",
       "  'Italic': 'C:\\\\Windows\\\\Fonts\\\\LiberationSans-Italic.ttf',\n",
       "  'Regular': 'C:\\\\Windows\\\\Fonts\\\\LiberationSans-Regular.ttf'},\n",
       " 'Liberation Sans Narrow': {'Bold': 'C:\\\\Windows\\\\Fonts\\\\LiberationSansNarrow-Bold.ttf',\n",
       "  'Bold Italic': 'C:\\\\Windows\\\\Fonts\\\\LiberationSansNarrow-BoldItalic.ttf',\n",
       "  'Italic': 'C:\\\\Windows\\\\Fonts\\\\LiberationSansNarrow-Italic.ttf',\n",
       "  'Regular': 'C:\\\\Windows\\\\Fonts\\\\LiberationSansNarrow-Regular.ttf'},\n",
       " 'Liberation Serif': {'Bold': 'C:\\\\Windows\\\\Fonts\\\\LiberationSerif-Bold.ttf',\n",
       "  'Bold Italic': 'C:\\\\Windows\\\\Fonts\\\\LiberationSerif-BoldItalic.ttf',\n",
       "  'Italic': 'C:\\\\Windows\\\\Fonts\\\\LiberationSerif-Italic.ttf',\n",
       "  'Regular': 'C:\\\\Windows\\\\Fonts\\\\LiberationSerif-Regular.ttf'},\n",
       " 'Linux Biolinum G': {'Bold': 'C:\\\\Windows\\\\Fonts\\\\LinBiolinum_RB_G.ttf',\n",
       "  'Italic': 'C:\\\\Windows\\\\Fonts\\\\LinBiolinum_RI_G.ttf',\n",
       "  'Regular': 'C:\\\\Windows\\\\Fonts\\\\LinBiolinum_R_G.ttf'},\n",
       " 'Linux Libertine Display G': {'Regular': 'C:\\\\Windows\\\\Fonts\\\\LinLibertine_DR_G.ttf'},\n",
       " 'Linux Libertine G': {'Bold Italic': 'C:\\\\Windows\\\\Fonts\\\\LinLibertine_RBI_G.ttf',\n",
       "  'Bold': 'C:\\\\Windows\\\\Fonts\\\\LinLibertine_RB_G.ttf',\n",
       "  'Italic': 'C:\\\\Windows\\\\Fonts\\\\LinLibertine_RI_G.ttf',\n",
       "  'Semibold Italic': 'C:\\\\Windows\\\\Fonts\\\\LinLibertine_RZI_G.ttf',\n",
       "  'Semibold': 'C:\\\\Windows\\\\Fonts\\\\LinLibertine_RZ_G.ttf',\n",
       "  'Regular': 'C:\\\\Windows\\\\Fonts\\\\LinLibertine_R_G.ttf'},\n",
       " 'Lucida Console': {'Regular': 'C:\\\\Windows\\\\Fonts\\\\lucon.ttf'},\n",
       " 'Lucida Sans Unicode': {'Regular': 'C:\\\\Windows\\\\Fonts\\\\l_10646.ttf'},\n",
       " 'MS Gothic': {'Regular': 'C:\\\\Windows\\\\Fonts\\\\msgothic.ttc'},\n",
       " 'MS PGothic': {'Regular': 'C:\\\\Windows\\\\Fonts\\\\msgothic.ttc'},\n",
       " 'MS UI Gothic': {'Regular': 'C:\\\\Windows\\\\Fonts\\\\msgothic.ttc'},\n",
       " 'MV Boli': {'Regular': 'C:\\\\Windows\\\\Fonts\\\\mvboli.ttf'},\n",
       " 'Malgun Gothic': {'Regular': 'C:\\\\Windows\\\\Fonts\\\\malgun.ttf',\n",
       "  'Bold': 'C:\\\\Windows\\\\Fonts\\\\malgunbd.ttf',\n",
       "  'Semilight': 'C:\\\\Windows\\\\Fonts\\\\malgunsl.ttf'},\n",
       " 'Marlett': {'Regular': 'C:\\\\Windows\\\\Fonts\\\\marlett.ttf'},\n",
       " 'Microsoft Himalaya': {'Regular': 'C:\\\\Windows\\\\Fonts\\\\himalaya.ttf'},\n",
       " 'Microsoft JhengHei': {'Regular': 'C:\\\\Windows\\\\Fonts\\\\msjh.ttc',\n",
       "  'Bold': 'C:\\\\Windows\\\\Fonts\\\\msjhbd.ttc',\n",
       "  'Light': 'C:\\\\Windows\\\\Fonts\\\\msjhl.ttc'},\n",
       " 'Microsoft JhengHei UI': {'Regular': 'C:\\\\Windows\\\\Fonts\\\\msjh.ttc',\n",
       "  'Bold': 'C:\\\\Windows\\\\Fonts\\\\msjhbd.ttc',\n",
       "  'Light': 'C:\\\\Windows\\\\Fonts\\\\msjhl.ttc'},\n",
       " 'Microsoft New Tai Lue': {'Regular': 'C:\\\\Windows\\\\Fonts\\\\ntailu.ttf',\n",
       "  'Bold': 'C:\\\\Windows\\\\Fonts\\\\ntailub.ttf'},\n",
       " 'Microsoft PhagsPa': {'Regular': 'C:\\\\Windows\\\\Fonts\\\\phagspa.ttf',\n",
       "  'Bold': 'C:\\\\Windows\\\\Fonts\\\\phagspab.ttf'},\n",
       " 'Microsoft Sans Serif': {'Regular': 'C:\\\\Windows\\\\Fonts\\\\micross.ttf'},\n",
       " 'Microsoft Tai Le': {'Regular': 'C:\\\\Windows\\\\Fonts\\\\taile.ttf',\n",
       "  'Bold': 'C:\\\\Windows\\\\Fonts\\\\taileb.ttf'},\n",
       " 'Microsoft YaHei': {'Regular': 'C:\\\\Windows\\\\Fonts\\\\msyh.ttc',\n",
       "  'Bold': 'C:\\\\Windows\\\\Fonts\\\\msyhbd.ttc',\n",
       "  'Light': 'C:\\\\Windows\\\\Fonts\\\\msyhl.ttc'},\n",
       " 'Microsoft YaHei UI': {'Regular': 'C:\\\\Windows\\\\Fonts\\\\msyh.ttc',\n",
       "  'Bold': 'C:\\\\Windows\\\\Fonts\\\\msyhbd.ttc',\n",
       "  'Light': 'C:\\\\Windows\\\\Fonts\\\\msyhl.ttc'},\n",
       " 'Microsoft Yi Baiti': {'Regular': 'C:\\\\Windows\\\\Fonts\\\\msyi.ttf'},\n",
       " 'MingLiU-ExtB': {'Regular': 'C:\\\\Windows\\\\Fonts\\\\mingliub.ttc'},\n",
       " 'MingLiU_HKSCS-ExtB': {'Regular': 'C:\\\\Windows\\\\Fonts\\\\mingliub.ttc'},\n",
       " 'Miriam CLM': {'Bold': 'C:\\\\Windows\\\\Fonts\\\\MiriamCLM-Bold.ttf',\n",
       "  'Book': 'C:\\\\Windows\\\\Fonts\\\\MiriamCLM-Book.ttf'},\n",
       " 'Miriam Libre': {'Bold': 'C:\\\\Windows\\\\Fonts\\\\MiriamLibre-Bold.otf',\n",
       "  'Regular': 'C:\\\\Windows\\\\Fonts\\\\MiriamLibre-Regular.otf'},\n",
       " 'Miriam Mono CLM': {'Bold': 'C:\\\\Windows\\\\Fonts\\\\MiriamMonoCLM-Bold.ttf',\n",
       "  'BoldOblique': 'C:\\\\Windows\\\\Fonts\\\\MiriamMonoCLM-BoldOblique.ttf',\n",
       "  'Book': 'C:\\\\Windows\\\\Fonts\\\\MiriamMonoCLM-Book.ttf',\n",
       "  'BookOblique': 'C:\\\\Windows\\\\Fonts\\\\MiriamMonoCLM-BookOblique.ttf'},\n",
       " 'Mongolian Baiti': {'Regular': 'C:\\\\Windows\\\\Fonts\\\\monbaiti.ttf'},\n",
       " 'Myanmar Text': {'Regular': 'C:\\\\Windows\\\\Fonts\\\\mmrtext.ttf',\n",
       "  'Bold': 'C:\\\\Windows\\\\Fonts\\\\mmrtextb.ttf'},\n",
       " 'NSimSun': {'Regular': 'C:\\\\Windows\\\\Fonts\\\\simsun.ttc'},\n",
       " 'Nachlieli CLM': {'Bold': 'C:\\\\Windows\\\\Fonts\\\\NachlieliCLM-Bold.otf',\n",
       "  'BoldOblique': 'C:\\\\Windows\\\\Fonts\\\\NachlieliCLM-BoldOblique.otf',\n",
       "  'Light': 'C:\\\\Windows\\\\Fonts\\\\NachlieliCLM-Light.otf',\n",
       "  'LightOblique': 'C:\\\\Windows\\\\Fonts\\\\NachlieliCLM-LightOblique.otf'},\n",
       " 'Nirmala UI': {'Regular': 'C:\\\\Windows\\\\Fonts\\\\Nirmala.ttf',\n",
       "  'Bold': 'C:\\\\Windows\\\\Fonts\\\\NirmalaB.ttf',\n",
       "  'Semilight': 'C:\\\\Windows\\\\Fonts\\\\NirmalaS.ttf'},\n",
       " 'Noto Kufi Arabic': {'Bold': 'C:\\\\Windows\\\\Fonts\\\\NotoKufiArabic-Bold.ttf',\n",
       "  'Regular': 'C:\\\\Windows\\\\Fonts\\\\NotoKufiArabic-Regular.ttf'},\n",
       " 'Noto Mono': {'Regular': 'C:\\\\Windows\\\\Fonts\\\\NotoMono-Regular.ttf'},\n",
       " 'Noto Naskh Arabic': {'Bold': 'C:\\\\Windows\\\\Fonts\\\\NotoNaskhArabic-Bold.ttf',\n",
       "  'Regular': 'C:\\\\Windows\\\\Fonts\\\\NotoNaskhArabic-Regular.ttf'},\n",
       " 'Noto Naskh Arabic UI': {'Bold': 'C:\\\\Windows\\\\Fonts\\\\NotoNaskhArabicUI-Bold.ttf',\n",
       "  'Regular': 'C:\\\\Windows\\\\Fonts\\\\NotoNaskhArabicUI-Regular.ttf'},\n",
       " 'Noto Sans': {'Bold': 'C:\\\\Windows\\\\Fonts\\\\NotoSans-Bold.ttf',\n",
       "  'Bold Italic': 'C:\\\\Windows\\\\Fonts\\\\NotoSans-BoldItalic.ttf',\n",
       "  'Condensed': 'C:\\\\Windows\\\\Fonts\\\\NotoSans-Condensed.ttf',\n",
       "  'Condensed Bold': 'C:\\\\Windows\\\\Fonts\\\\NotoSans-CondensedBold.ttf',\n",
       "  'Condensed Bold Italic': 'C:\\\\Windows\\\\Fonts\\\\NotoSans-CondensedBoldItalic.ttf',\n",
       "  'Condensed Italic': 'C:\\\\Windows\\\\Fonts\\\\NotoSans-CondensedItalic.ttf',\n",
       "  'Italic': 'C:\\\\Windows\\\\Fonts\\\\NotoSans-Italic.ttf',\n",
       "  'Light': 'C:\\\\Windows\\\\Fonts\\\\NotoSans-Light.ttf',\n",
       "  'Light Italic': 'C:\\\\Windows\\\\Fonts\\\\NotoSans-LightItalic.ttf',\n",
       "  'Regular': 'C:\\\\Windows\\\\Fonts\\\\NotoSans-Regular_0.ttf'},\n",
       " 'Noto Sans Arabic': {'Bold': 'C:\\\\Windows\\\\Fonts\\\\NotoSansArabic-Bold.ttf',\n",
       "  'Regular': 'C:\\\\Windows\\\\Fonts\\\\NotoSansArabic-Regular.ttf'},\n",
       " 'Noto Sans Arabic UI': {'Bold': 'C:\\\\Windows\\\\Fonts\\\\NotoSansArabicUI-Bold.ttf',\n",
       "  'Regular': 'C:\\\\Windows\\\\Fonts\\\\NotoSansArabicUI-Regular.ttf'},\n",
       " 'Noto Sans Armenian': {'Bold': 'C:\\\\Windows\\\\Fonts\\\\NotoSansArmenian-Bold.ttf',\n",
       "  'Regular': 'C:\\\\Windows\\\\Fonts\\\\NotoSansArmenian-Regular.ttf'},\n",
       " 'Noto Sans Georgian': {'Bold': 'C:\\\\Windows\\\\Fonts\\\\NotoSansGeorgian-Bold.ttf',\n",
       "  'Regular': 'C:\\\\Windows\\\\Fonts\\\\NotoSansGeorgian-Regular.ttf'},\n",
       " 'Noto Sans Hebrew': {'Bold': 'C:\\\\Windows\\\\Fonts\\\\NotoSansHebrew-Bold.ttf',\n",
       "  'Regular': 'C:\\\\Windows\\\\Fonts\\\\NotoSansHebrew-Regular.ttf'},\n",
       " 'Noto Sans KR': {'Black': 'C:\\\\Windows\\\\Fonts\\\\NotoSansKR-Black.otf',\n",
       "  'Bold': 'C:\\\\Windows\\\\Fonts\\\\NotoSansKR-Bold.otf',\n",
       "  'Light': 'C:\\\\Windows\\\\Fonts\\\\NotoSansKR-Light.otf',\n",
       "  'Medium': 'C:\\\\Windows\\\\Fonts\\\\NotoSansKR-Medium.otf',\n",
       "  'Regular': 'C:\\\\Windows\\\\Fonts\\\\NotoSansKR-Regular.otf',\n",
       "  'Thin': 'C:\\\\Windows\\\\Fonts\\\\NotoSansKR-Thin.otf'},\n",
       " 'Noto Sans Lao': {'Bold': 'C:\\\\Windows\\\\Fonts\\\\NotoSansLao-Bold.ttf',\n",
       "  'Regular': 'C:\\\\Windows\\\\Fonts\\\\NotoSansLao-Regular.ttf'},\n",
       " 'Noto Sans Lisu': {'Regular': 'C:\\\\Windows\\\\Fonts\\\\NotoSansLisu-Regular.ttf'},\n",
       " 'Noto Serif': {'Bold': 'C:\\\\Windows\\\\Fonts\\\\NotoSerif-Bold.ttf',\n",
       "  'Bold Italic': 'C:\\\\Windows\\\\Fonts\\\\NotoSerif-BoldItalic.ttf',\n",
       "  'Condensed': 'C:\\\\Windows\\\\Fonts\\\\NotoSerif-Condensed.ttf',\n",
       "  'Condensed Bold': 'C:\\\\Windows\\\\Fonts\\\\NotoSerif-CondensedBold.ttf',\n",
       "  'Condensed Bold Italic': 'C:\\\\Windows\\\\Fonts\\\\NotoSerif-CondensedBoldItalic.ttf',\n",
       "  'Condensed Italic': 'C:\\\\Windows\\\\Fonts\\\\NotoSerif-CondensedItalic.ttf',\n",
       "  'Italic': 'C:\\\\Windows\\\\Fonts\\\\NotoSerif-Italic.ttf',\n",
       "  'Light': 'C:\\\\Windows\\\\Fonts\\\\NotoSerif-Light.ttf',\n",
       "  'Light Italic': 'C:\\\\Windows\\\\Fonts\\\\NotoSerif-LightItalic.ttf',\n",
       "  'Regular': 'C:\\\\Windows\\\\Fonts\\\\NotoSerif-Regular_0.ttf'},\n",
       " 'Noto Serif Armenian': {'Bold': 'C:\\\\Windows\\\\Fonts\\\\NotoSerifArmenian-Bold.ttf',\n",
       "  'Regular': 'C:\\\\Windows\\\\Fonts\\\\NotoSerifArmenian-Regular.ttf'},\n",
       " 'Noto Serif Georgian': {'Bold': 'C:\\\\Windows\\\\Fonts\\\\NotoSerifGeorgian-Bold.ttf',\n",
       "  'Regular': 'C:\\\\Windows\\\\Fonts\\\\NotoSerifGeorgian-Regular.ttf'},\n",
       " 'Noto Serif Hebrew': {'Bold': 'C:\\\\Windows\\\\Fonts\\\\NotoSerifHebrew-Bold.ttf',\n",
       "  'Regular': 'C:\\\\Windows\\\\Fonts\\\\NotoSerifHebrew-Regular.ttf'},\n",
       " 'Noto Serif KR': {'Black': 'C:\\\\Windows\\\\Fonts\\\\NotoSerifKR-Black.otf',\n",
       "  'Bold': 'C:\\\\Windows\\\\Fonts\\\\NotoSerifKR-Bold.otf',\n",
       "  'ExtraLight': 'C:\\\\Windows\\\\Fonts\\\\NotoSerifKR-ExtraLight.otf',\n",
       "  'Light': 'C:\\\\Windows\\\\Fonts\\\\NotoSerifKR-Light.otf',\n",
       "  'Medium': 'C:\\\\Windows\\\\Fonts\\\\NotoSerifKR-Medium.otf',\n",
       "  'Regular': 'C:\\\\Windows\\\\Fonts\\\\NotoSerifKR-Regular.otf',\n",
       "  'SemiBold': 'C:\\\\Windows\\\\Fonts\\\\NotoSerifKR-SemiBold.otf'},\n",
       " 'Noto Serif Lao': {'Bold': 'C:\\\\Windows\\\\Fonts\\\\NotoSerifLao-Bold.ttf',\n",
       "  'Regular': 'C:\\\\Windows\\\\Fonts\\\\NotoSerifLao-Regular.ttf'},\n",
       " 'OpenSymbol': {'Regular': 'C:\\\\Windows\\\\Fonts\\\\opens___.ttf'},\n",
       " 'PMingLiU-ExtB': {'Regular': 'C:\\\\Windows\\\\Fonts\\\\mingliub.ttc'},\n",
       " 'Palatino Linotype': {'Regular': 'C:\\\\Windows\\\\Fonts\\\\pala.ttf',\n",
       "  'Bold': 'C:\\\\Windows\\\\Fonts\\\\palab.ttf',\n",
       "  'Bold Italic': 'C:\\\\Windows\\\\Fonts\\\\palabi.ttf',\n",
       "  'Italic': 'C:\\\\Windows\\\\Fonts\\\\palai.ttf'},\n",
       " 'Reem Kufi': {'Regular': 'C:\\\\Windows\\\\Fonts\\\\ReemKufi-Regular.ttf'},\n",
       " 'Rubik': {'Bold': 'C:\\\\Windows\\\\Fonts\\\\Rubik-Bold.ttf',\n",
       "  'Bold Italic': 'C:\\\\Windows\\\\Fonts\\\\Rubik-BoldItalic.ttf',\n",
       "  'Italic': 'C:\\\\Windows\\\\Fonts\\\\Rubik-Italic.ttf',\n",
       "  'Regular': 'C:\\\\Windows\\\\Fonts\\\\Rubik-Regular.ttf'},\n",
       " 'Scheherazade': {'Bold': 'C:\\\\Windows\\\\Fonts\\\\Scheherazade-Bold.ttf',\n",
       "  'Regular': 'C:\\\\Windows\\\\Fonts\\\\Scheherazade-Regular.ttf'},\n",
       " 'Segoe MDL2 Assets': {'Regular': 'C:\\\\Windows\\\\Fonts\\\\segmdl2.ttf'},\n",
       " 'Segoe Print': {'Regular': 'C:\\\\Windows\\\\Fonts\\\\segoepr.ttf',\n",
       "  'Bold': 'C:\\\\Windows\\\\Fonts\\\\segoeprb.ttf'},\n",
       " 'Segoe Script': {'Regular': 'C:\\\\Windows\\\\Fonts\\\\segoesc.ttf',\n",
       "  'Bold': 'C:\\\\Windows\\\\Fonts\\\\segoescb.ttf'},\n",
       " 'Segoe UI': {'Regular': 'C:\\\\Windows\\\\Fonts\\\\segoeui.ttf',\n",
       "  'Bold': 'C:\\\\Windows\\\\Fonts\\\\segoeuib.ttf',\n",
       "  'Italic': 'C:\\\\Windows\\\\Fonts\\\\segoeuii.ttf',\n",
       "  'Light': 'C:\\\\Windows\\\\Fonts\\\\segoeuil.ttf',\n",
       "  'Semilight': 'C:\\\\Windows\\\\Fonts\\\\segoeuisl.ttf',\n",
       "  'Bold Italic': 'C:\\\\Windows\\\\Fonts\\\\segoeuiz.ttf',\n",
       "  'Black': 'C:\\\\Windows\\\\Fonts\\\\seguibl.ttf',\n",
       "  'Black Italic': 'C:\\\\Windows\\\\Fonts\\\\seguibli.ttf',\n",
       "  'Light Italic': 'C:\\\\Windows\\\\Fonts\\\\seguili.ttf',\n",
       "  'Semibold': 'C:\\\\Windows\\\\Fonts\\\\seguisb.ttf',\n",
       "  'Semibold Italic': 'C:\\\\Windows\\\\Fonts\\\\seguisbi.ttf',\n",
       "  'Semilight Italic': 'C:\\\\Windows\\\\Fonts\\\\seguisli.ttf'},\n",
       " 'Segoe UI Emoji': {'Regular': 'C:\\\\Windows\\\\Fonts\\\\seguiemj.ttf'},\n",
       " 'Segoe UI Historic': {'Regular': 'C:\\\\Windows\\\\Fonts\\\\seguihis.ttf'},\n",
       " 'Segoe UI Symbol': {'Regular': 'C:\\\\Windows\\\\Fonts\\\\seguisym.ttf'},\n",
       " 'SimSun': {'Regular': 'C:\\\\Windows\\\\Fonts\\\\simsun.ttc'},\n",
       " 'SimSun-ExtB': {'Regular': 'C:\\\\Windows\\\\Fonts\\\\simsunb.ttf'},\n",
       " 'Sitka': {'Small': 'C:\\\\Windows\\\\Fonts\\\\Sitka.ttc',\n",
       "  'Text': 'C:\\\\Windows\\\\Fonts\\\\Sitka.ttc',\n",
       "  'Subheading': 'C:\\\\Windows\\\\Fonts\\\\Sitka.ttc',\n",
       "  'Heading': 'C:\\\\Windows\\\\Fonts\\\\Sitka.ttc',\n",
       "  'Display': 'C:\\\\Windows\\\\Fonts\\\\Sitka.ttc',\n",
       "  'Banner': 'C:\\\\Windows\\\\Fonts\\\\Sitka.ttc',\n",
       "  'Small Bold': 'C:\\\\Windows\\\\Fonts\\\\SitkaB.ttc',\n",
       "  'Text Bold': 'C:\\\\Windows\\\\Fonts\\\\SitkaB.ttc',\n",
       "  'Subheading Bold': 'C:\\\\Windows\\\\Fonts\\\\SitkaB.ttc',\n",
       "  'Heading Bold': 'C:\\\\Windows\\\\Fonts\\\\SitkaB.ttc',\n",
       "  'Display Bold': 'C:\\\\Windows\\\\Fonts\\\\SitkaB.ttc',\n",
       "  'Banner Bold': 'C:\\\\Windows\\\\Fonts\\\\SitkaB.ttc',\n",
       "  'Small Italic': 'C:\\\\Windows\\\\Fonts\\\\SitkaI.ttc',\n",
       "  'Text Italic': 'C:\\\\Windows\\\\Fonts\\\\SitkaI.ttc',\n",
       "  'Subheading Italic': 'C:\\\\Windows\\\\Fonts\\\\SitkaI.ttc',\n",
       "  'Heading Italic': 'C:\\\\Windows\\\\Fonts\\\\SitkaI.ttc',\n",
       "  'Display Italic': 'C:\\\\Windows\\\\Fonts\\\\SitkaI.ttc',\n",
       "  'Banner Italic': 'C:\\\\Windows\\\\Fonts\\\\SitkaI.ttc',\n",
       "  'Small Bold Italic': 'C:\\\\Windows\\\\Fonts\\\\SitkaZ.ttc',\n",
       "  'Text Bold Italic': 'C:\\\\Windows\\\\Fonts\\\\SitkaZ.ttc',\n",
       "  'Subheading Bold Italic': 'C:\\\\Windows\\\\Fonts\\\\SitkaZ.ttc',\n",
       "  'Heading Bold Italic': 'C:\\\\Windows\\\\Fonts\\\\SitkaZ.ttc',\n",
       "  'Display Bold Italic': 'C:\\\\Windows\\\\Fonts\\\\SitkaZ.ttc',\n",
       "  'Banner Bold Italic': 'C:\\\\Windows\\\\Fonts\\\\SitkaZ.ttc'},\n",
       " 'Source Code Pro': {'Black': 'C:\\\\Windows\\\\Fonts\\\\SourceCodePro-Black.ttf',\n",
       "  'Black Italic': 'C:\\\\Windows\\\\Fonts\\\\SourceCodePro-BlackIt.ttf',\n",
       "  'Bold': 'C:\\\\Windows\\\\Fonts\\\\SourceCodePro-Bold.ttf',\n",
       "  'Bold Italic': 'C:\\\\Windows\\\\Fonts\\\\SourceCodePro-BoldIt.ttf',\n",
       "  'ExtraLight': 'C:\\\\Windows\\\\Fonts\\\\SourceCodePro-ExtraLight.ttf',\n",
       "  'ExtraLight Italic': 'C:\\\\Windows\\\\Fonts\\\\SourceCodePro-ExtraLightIt.ttf',\n",
       "  'Italic': 'C:\\\\Windows\\\\Fonts\\\\SourceCodePro-It.ttf',\n",
       "  'Light': 'C:\\\\Windows\\\\Fonts\\\\SourceCodePro-Light.ttf',\n",
       "  'Light Italic': 'C:\\\\Windows\\\\Fonts\\\\SourceCodePro-LightIt.ttf',\n",
       "  'Medium': 'C:\\\\Windows\\\\Fonts\\\\SourceCodePro-Medium.ttf',\n",
       "  'Medium Italic': 'C:\\\\Windows\\\\Fonts\\\\SourceCodePro-MediumIt.ttf',\n",
       "  'Regular': 'C:\\\\Windows\\\\Fonts\\\\SourceCodePro-Regular.ttf',\n",
       "  'Semibold': 'C:\\\\Windows\\\\Fonts\\\\SourceCodePro-Semibold.ttf',\n",
       "  'Semibold Italic': 'C:\\\\Windows\\\\Fonts\\\\SourceCodePro-SemiboldIt.ttf'},\n",
       " 'Source Sans Pro': {'Black': 'C:\\\\Windows\\\\Fonts\\\\SourceSansPro-Black.ttf',\n",
       "  'Black Italic': 'C:\\\\Windows\\\\Fonts\\\\SourceSansPro-BlackIt.ttf',\n",
       "  'Bold': 'C:\\\\Windows\\\\Fonts\\\\SourceSansPro-Bold.ttf',\n",
       "  'Bold Italic': 'C:\\\\Windows\\\\Fonts\\\\SourceSansPro-BoldIt.ttf',\n",
       "  'ExtraLight': 'C:\\\\Windows\\\\Fonts\\\\SourceSansPro-ExtraLight.ttf',\n",
       "  'ExtraLight Italic': 'C:\\\\Windows\\\\Fonts\\\\SourceSansPro-ExtraLightIt.ttf',\n",
       "  'Italic': 'C:\\\\Windows\\\\Fonts\\\\SourceSansPro-It.ttf',\n",
       "  'Light': 'C:\\\\Windows\\\\Fonts\\\\SourceSansPro-Light.ttf',\n",
       "  'Light Italic': 'C:\\\\Windows\\\\Fonts\\\\SourceSansPro-LightIt.ttf',\n",
       "  'Regular': 'C:\\\\Windows\\\\Fonts\\\\SourceSansPro-Regular.ttf',\n",
       "  'Semibold': 'C:\\\\Windows\\\\Fonts\\\\SourceSansPro-Semibold.ttf',\n",
       "  'Semibold Italic': 'C:\\\\Windows\\\\Fonts\\\\SourceSansPro-SemiboldIt.ttf'},\n",
       " 'Source Serif Pro': {'Black': 'C:\\\\Windows\\\\Fonts\\\\SourceSerifPro-Black.ttf',\n",
       "  'Black Italic': 'C:\\\\Windows\\\\Fonts\\\\SourceSerifPro-BlackIt.ttf',\n",
       "  'Bold': 'C:\\\\Windows\\\\Fonts\\\\SourceSerifPro-Bold.ttf',\n",
       "  'Bold Italic': 'C:\\\\Windows\\\\Fonts\\\\SourceSerifPro-BoldIt.ttf',\n",
       "  'ExtraLight': 'C:\\\\Windows\\\\Fonts\\\\SourceSerifPro-ExtraLight.ttf',\n",
       "  'ExtraLight Italic': 'C:\\\\Windows\\\\Fonts\\\\SourceSerifPro-ExtraLightIt.ttf',\n",
       "  'Italic': 'C:\\\\Windows\\\\Fonts\\\\SourceSerifPro-It.ttf',\n",
       "  'Light': 'C:\\\\Windows\\\\Fonts\\\\SourceSerifPro-Light.ttf',\n",
       "  'Light Italic': 'C:\\\\Windows\\\\Fonts\\\\SourceSerifPro-LightIt.ttf',\n",
       "  'Regular': 'C:\\\\Windows\\\\Fonts\\\\SourceSerifPro-Regular.ttf',\n",
       "  'Semibold': 'C:\\\\Windows\\\\Fonts\\\\SourceSerifPro-Semibold.ttf',\n",
       "  'Semibold Italic': 'C:\\\\Windows\\\\Fonts\\\\SourceSerifPro-SemiboldIt.ttf'},\n",
       " 'Sylfaen': {'Regular': 'C:\\\\Windows\\\\Fonts\\\\sylfaen.ttf'},\n",
       " 'Symbol': {'Regular': 'C:\\\\Windows\\\\Fonts\\\\symbol.ttf'},\n",
       " 'Tahoma': {'Regular': 'C:\\\\Windows\\\\Fonts\\\\tahoma.ttf',\n",
       "  'Bold': 'C:\\\\Windows\\\\Fonts\\\\tahomabd.ttf'},\n",
       " 'Times New Roman': {'Regular': 'C:\\\\Windows\\\\Fonts\\\\times.ttf',\n",
       "  'Bold': 'C:\\\\Windows\\\\Fonts\\\\timesbd.ttf',\n",
       "  'Bold Italic': 'C:\\\\Windows\\\\Fonts\\\\timesbi.ttf',\n",
       "  'Italic': 'C:\\\\Windows\\\\Fonts\\\\timesi.ttf'},\n",
       " 'Trebuchet MS': {'Regular': 'C:\\\\Windows\\\\Fonts\\\\trebuc.ttf',\n",
       "  'Bold': 'C:\\\\Windows\\\\Fonts\\\\trebucbd.ttf',\n",
       "  'Bold Italic': 'C:\\\\Windows\\\\Fonts\\\\trebucbi.ttf',\n",
       "  'Italic': 'C:\\\\Windows\\\\Fonts\\\\trebucit.ttf'},\n",
       " 'Verdana': {'Regular': 'C:\\\\Windows\\\\Fonts\\\\verdana.ttf',\n",
       "  'Bold': 'C:\\\\Windows\\\\Fonts\\\\verdanab.ttf',\n",
       "  'Italic': 'C:\\\\Windows\\\\Fonts\\\\verdanai.ttf',\n",
       "  'Bold Italic': 'C:\\\\Windows\\\\Fonts\\\\verdanaz.ttf'},\n",
       " 'Webdings': {'Regular': 'C:\\\\Windows\\\\Fonts\\\\webdings.ttf'},\n",
       " 'Wingdings': {'Regular': 'C:\\\\Windows\\\\Fonts\\\\wingding.ttf'},\n",
       " 'Yu Gothic': {'Bold': 'C:\\\\Windows\\\\Fonts\\\\YuGothB.ttc',\n",
       "  'Light': 'C:\\\\Windows\\\\Fonts\\\\YuGothL.ttc',\n",
       "  'Medium': 'C:\\\\Windows\\\\Fonts\\\\YuGothM.ttc',\n",
       "  'Regular': 'C:\\\\Windows\\\\Fonts\\\\YuGothR.ttc'},\n",
       " 'Yu Gothic UI': {'Bold': 'C:\\\\Windows\\\\Fonts\\\\YuGothB.ttc',\n",
       "  'Semibold': 'C:\\\\Windows\\\\Fonts\\\\YuGothB.ttc',\n",
       "  'Light': 'C:\\\\Windows\\\\Fonts\\\\YuGothL.ttc',\n",
       "  'Regular': 'C:\\\\Windows\\\\Fonts\\\\YuGothM.ttc',\n",
       "  'Semilight': 'C:\\\\Windows\\\\Fonts\\\\YuGothR.ttc'}}"
      ]
     },
     "execution_count": 109,
     "metadata": {},
     "output_type": "execute_result"
    }
   ],
   "source": [
    "fonts.font_database"
   ]
  },
  {
   "cell_type": "code",
   "execution_count": 110,
   "metadata": {},
   "outputs": [],
   "source": [
    "name, file = fonts.get_font_file(\"Arial\", \"Regular\")"
   ]
  },
  {
   "cell_type": "code",
   "execution_count": 111,
   "metadata": {},
   "outputs": [],
   "source": [
    "amiri_widths_16 = fonts.get_number_dims(file, 16)[2]\n",
    "amiri_widths_36 = fonts.get_number_dims(file, 36)[2]"
   ]
  },
  {
   "cell_type": "code",
   "execution_count": 112,
   "metadata": {},
   "outputs": [
    {
     "name": "stdout",
     "output_type": "stream",
     "text": [
      "96\n"
     ]
    },
    {
     "data": {
      "text/plain": [
       "(13, 35, <_io.BytesIO at 0x1cc62cbe430>)"
      ]
     },
     "execution_count": 112,
     "metadata": {},
     "output_type": "execute_result"
    }
   ],
   "source": [
    "get_text_dim(f\"1\",file, 36)"
   ]
  },
  {
   "cell_type": "code",
   "execution_count": 221,
   "metadata": {},
   "outputs": [
    {
     "name": "stdout",
     "output_type": "stream",
     "text": [
      "96\n",
      "13 165\n",
      "165\n"
     ]
    },
    {
     "data": {
      "image/png": "[encoded data removed]",
      "text/plain": [
       "<PIL.PngImagePlugin.PngImageFile image mode=RGB size=165x48>"
      ]
     },
     "execution_count": 221,
     "metadata": {},
     "output_type": "execute_result"
    }
   ],
   "source": [
    "width, height, tem = get_text_dim(f\"1234567\",file, 36)\n",
    "Image.open(tem)"
   ]
  },
  {
   "cell_type": "code",
   "execution_count": 222,
   "metadata": {},
   "outputs": [],
   "source": [
    "pix_width = fonts.pts2pix(width)\n",
    "pix_height = fonts.pts2pix(height)"
   ]
  },
  {
   "cell_type": "code",
   "execution_count": 227,
   "metadata": {},
   "outputs": [],
   "source": [
    "im_height = height"
   ]
  },
  {
   "cell_type": "code",
   "execution_count": 223,
   "metadata": {},
   "outputs": [],
   "source": [
    "im_width = pix_width"
   ]
  },
  {
   "cell_type": "code",
   "execution_count": 224,
   "metadata": {},
   "outputs": [],
   "source": [
    "im_width = width"
   ]
  },
  {
   "cell_type": "code",
   "execution_count": 232,
   "metadata": {},
   "outputs": [
    {
     "data": {
      "text/plain": [
       "160"
      ]
     },
     "execution_count": 232,
     "metadata": {},
     "output_type": "execute_result"
    }
   ],
   "source": [
    "im_width"
   ]
  },
  {
   "cell_type": "code",
   "execution_count": 253,
   "metadata": {},
   "outputs": [
    {
     "name": "stdout",
     "output_type": "stream",
     "text": [
      "(3, 7, 135, 32)\n"
     ]
    },
    {
     "data": {
      "image/png": "[encoded data removed]",
      "text/plain": [
       "<PIL.PngImagePlugin.PngImageFile image mode=RGB size=139x35>"
      ]
     },
     "execution_count": 253,
     "metadata": {},
     "output_type": "execute_result"
    }
   ],
   "source": [
    "tem = io.BytesIO()\n",
    "im = Image.new(\"RGB\", (box[2]-box[0]+10, im_height), (0,0,0))\n",
    "draw = ImageDraw.Draw(im)\n",
    "font_PIL = ImageFont.truetype(file, im_height)\n",
    "draw.text((0,0), \"1234567\", font=font_PIL, fill=(255,255,255))\n",
    "im.save(tem, format=\"png\")\n",
    "image = Image.open(tem)\n",
    "print(image.getbbox())\n",
    "image"
   ]
  },
  {
   "cell_type": "code",
   "execution_count": 254,
   "metadata": {},
   "outputs": [
    {
     "name": "stdout",
     "output_type": "stream",
     "text": [
      "132 160\n",
      "25 35\n"
     ]
    }
   ],
   "source": [
    "box = image.getbbox()\n",
    "print((box[2]-box[0]), im_width)\n",
    "print((box[3]-box[1]), im_height)"
   ]
  },
  {
   "cell_type": "code",
   "execution_count": 249,
   "metadata": {},
   "outputs": [
    {
     "data": {
      "text/plain": [
       "129"
      ]
     },
     "execution_count": 249,
     "metadata": {},
     "output_type": "execute_result"
    }
   ],
   "source": [
    "box[2]-box[0]"
   ]
  },
  {
   "cell_type": "code",
   "execution_count": 246,
   "metadata": {},
   "outputs": [
    {
     "data": {
      "text/plain": [
       "0.7142857142857143"
      ]
     },
     "execution_count": 246,
     "metadata": {},
     "output_type": "execute_result"
    }
   ],
   "source": [
    "25/35"
   ]
  },
  {
   "cell_type": "code",
   "execution_count": 217,
   "metadata": {},
   "outputs": [
    {
     "name": "stdout",
     "output_type": "stream",
     "text": [
      "206\n",
      "48\n"
     ]
    }
   ],
   "source": []
  },
  {
   "cell_type": "code",
   "execution_count": 218,
   "metadata": {},
   "outputs": [
    {
     "data": {
      "text/plain": [
       "213"
      ]
     },
     "execution_count": 218,
     "metadata": {},
     "output_type": "execute_result"
    }
   ],
   "source": [
    "pix_width"
   ]
  },
  {
   "cell_type": "code",
   "execution_count": 94,
   "metadata": {},
   "outputs": [
    {
     "data": {
      "text/plain": [
       "15.0"
      ]
     },
     "execution_count": 94,
     "metadata": {},
     "output_type": "execute_result"
    }
   ],
   "source": [
    "20*0.75"
   ]
  },
  {
   "cell_type": "code",
   "execution_count": 95,
   "metadata": {},
   "outputs": [
    {
     "data": {
      "text/plain": [
       "17.333333333333332"
      ]
     },
     "execution_count": 95,
     "metadata": {},
     "output_type": "execute_result"
    }
   ],
   "source": [
    "13/0.75"
   ]
  },
  {
   "cell_type": "code",
   "execution_count": 76,
   "metadata": {},
   "outputs": [
    {
     "data": {
      "text/plain": [
       "36"
      ]
     },
     "execution_count": 76,
     "metadata": {},
     "output_type": "execute_result"
    }
   ],
   "source": [
    "fonts.pix2pts(48)"
   ]
  },
  {
   "cell_type": "code",
   "execution_count": null,
   "metadata": {},
   "outputs": [],
   "source": []
  }
 ],
 "metadata": {
  "kernelspec": {
   "display_name": "Python 3.10.4 ('booklet')",
   "language": "python",
   "name": "python3"
  },
  "language_info": {
   "codemirror_mode": {
    "name": "ipython",
    "version": 3
   },
   "file_extension": ".py",
   "mimetype": "text/x-python",
   "name": "python",
   "nbconvert_exporter": "python",
   "pygments_lexer": "ipython3",
   "version": "3.10.4"
  },
  "orig_nbformat": 4,
  "vscode": {
   "interpreter": {
    "hash": "91501f0736b8e0b8fe6ca1efc9c080be7a2563742115aab8b326d1c7edbef68c"
   }
  }
 },
 "nbformat": 4,
 "nbformat_minor": 2
}
