{
 "cells": [
  {
   "cell_type": "code",
   "execution_count": 112,
   "metadata": {},
   "outputs": [],
   "source": [
    "from __future__ import annotations\n",
    "import numpy as np\n",
    "import math\n",
    "from itertools import permutations\n",
    "\n",
    "class Permutation:\n",
    "    @classmethod\n",
    "    def get_permutations(cls, n, per=False): # get list of permutations for given 'n'\n",
    "        per = permutations(range(1, n+1), n)\n",
    "        if per:\n",
    "            return [cls(n, p) for p in per]\n",
    "        else:\n",
    "            return [ p for p in per]\n",
    "    @classmethod\n",
    "    def reverse_permutation(cls, n):\n",
    "        return cls(n, range(n, 0, -1)) \n",
    "\n",
    "    def __init__(self, n, plist):\n",
    "        if len(plist) != n:\n",
    "            raise ValueError(f\"{n} must be same with len(plist) = {len(plist)}\")\n",
    "\n",
    "        if sum(plist) != int(n* (n+1)/2):\n",
    "            raise ValueError(f\"plist does not satisfy permutation proeprty.\\n All [0, n-1] values must be in plist. \\n {plist}\")\n",
    "\n",
    "        self.n = n\n",
    "        self.plist = plist\n",
    "    def __getitem__(self, key):\n",
    "        if type(key) != int:\n",
    "            raise ValueError(f\"key must be an integer type element: {key}\")\n",
    "        if key < 1 or key > self.n:\n",
    "            raise IndexError(f\"{key} must be in [1, {self.n}] range.\")\n",
    "        \n",
    "        return self.plist[key-1]\n",
    "    def __mul__(self, other: Permutation) -> Permutation:\n",
    "        if self.n != other.n:\n",
    "            raise ValueError(f\"{self.n} and {other.n} are not same.\")\n",
    "        \n",
    "        rlist = [other[x] for x in self.plist]\n",
    "        return Permutation(self.n, rlist)\n",
    "    \n",
    "    def inverse(self)-> Permutation:\n",
    "        ilist= [self.plist.index(x)+1 for x in range(1, self.n+1)]\n",
    "        return Permutation(self.n, ilist)\n",
    "    \n",
    "    def notation_cauchy(self):\n",
    "        return f\"{list(range(1, self.n+1))}\\n{self.plist}\"\n",
    "\n",
    "    \n",
    "    def __canocial_order(self, cyclist):\n",
    "        c_clist_1 = []\n",
    "        c_clist_2 = []\n",
    "        for li in cyclist:\n",
    "            n = len(li)\n",
    "            nmax = li.index(max(li))\n",
    "            c_clist_1.append([li[x] for x in range(nmax-n, nmax)])\n",
    "        maxindex = [x[0] for x in c_clist_1]\n",
    "        s_index = sorted(maxindex)\n",
    "\n",
    "        for i in s_index:\n",
    "            c_clist_2.append(c_clist_1[maxindex.index(i)])\n",
    "        \n",
    "        return c_clist_2\n",
    "\n",
    "    def notation_cyclic(self, canonical=False, string= False, sep=''):\n",
    "        cycliclist = []\n",
    "        index = list(range(1, self.n+1))\n",
    "        i =1\n",
    "\n",
    "        while True:\n",
    "            ilist = []\n",
    "            ilist.append(i)\n",
    "            index.remove(i)\n",
    "            \n",
    "            sig_i = self[i]\n",
    "            while sig_i in index:\n",
    "                ilist.append(sig_i)\n",
    "                index.remove(sig_i)\n",
    "                sig_i = self[sig_i]\n",
    "            \n",
    "            cycliclist.append(ilist)\n",
    "\n",
    "            if len(index) > 0:\n",
    "                i = min(index)\n",
    "            else: \n",
    "                break\n",
    "        if canonical:\n",
    "            cycliclist = self.__canocial_order(cycliclist)\n",
    "        \n",
    "        if string:\n",
    "            cycstr = ''\n",
    "            for li in cycliclist:\n",
    "                cycstr = cycstr+ '('+f'{sep}'.join(map(str,li))+')'\n",
    "            return cycstr\n",
    "        else:\n",
    "            return cycliclist\n",
    "\n",
    "per_fold ={\n",
    "    4: [\n",
    "        [4,1],\n",
    "        [2,3]\n",
    "        ],\n",
    "    8: [\n",
    "        [8,1,5,4],\n",
    "        [2,7,3,9]\n",
    "        ],\n",
    "    16: [\n",
    "        [16,1,4,13,9,8,5,12],\n",
    "        [10,7,6,11,15,2,3,14]\n",
    "        ]\n",
    "}\n",
    "\n",
    "def sig_layout(n):\n",
    "    if type(n) != int or n<4 or n%4 !=0:\n",
    "        raise ValueError(f\"n:{n} must be a positive integer that multiple of 4.\")\n",
    "    \n",
    "    i = int(math.log(n/4 ,2))\n",
    "    if i%2 :\n",
    "        k = kp = int((i+1)/2)\n",
    "    else:\n",
    "        k = int(i/2)\n",
    "        kp = k+1\n",
    "    return (int(2**k), int(2**kp))\n",
    "\n",
    "def __sig_matrix_update(n, matrix):\n",
    "    n_1 = np.flip(matrix.T, axis=0)\n",
    "    len_n = len(n_1[0])\n",
    "    l = int(len_n/2)\n",
    "\n",
    "    rows =[]\n",
    "    for row in n_1:\n",
    "        r_split = np.split(row,l)\n",
    "        row_appended = []\n",
    "\n",
    "        for tu in r_split:\n",
    "            tem = np.array([n-tu[0] +1,n-tu[1] +1])\n",
    "            row_appended.append(np.insert(tem, 1, tu))    \n",
    "        rows.append(np.concatenate(row_appended, axis=None))     \n",
    "    return np.stack(rows)\n",
    "\n",
    "def per_fold_n(n):\n",
    "    if n % 4 !=0:\n",
    "        raise ValueError(\"Fold sheets must be 4*2^k for k= 0, 1, 2, .... \\n Current value is {n}\")\n",
    "    \n",
    "    if n <32:\n",
    "        return per_fold[n]\n",
    "    else:\n",
    "        n_iter = int(math.log(n/16,2))\n",
    "        n_i = 16\n",
    "        per_n_1 = [per_fold[16][0], per_fold[16][1]]\n",
    "\n",
    "        #permutation to matrix\n",
    "        layout_n_1 = sig_layout(16)\n",
    "        front_matrix = np.array(per_n_1[0]).reshape(layout_n_1)\n",
    "        back_matrix = np.array(per_n_1[1]).reshape(layout_n_1)\n",
    "        for i in range(0, n_iter):\n",
    "            n_i = 2*n_i\n",
    "            front_matrix = __sig_matrix_update(n_i, front_matrix)\n",
    "            back_matrix = __sig_matrix_update(n_i, back_matrix)\n",
    "    print(\"Front\")\n",
    "    print(front_matrix)\n",
    "    print(\"Back\")\n",
    "    print(back_matrix)\n",
    "    \n",
    "    per_fn = np.concatenate(front_matrix).tolist() \n",
    "    per_bn = np.concatenate(back_matrix).tolist()\n",
    "\n",
    "    return [per_fn,per_bn]\n",
    "                \n"
   ]
  },
  {
   "cell_type": "code",
   "execution_count": 113,
   "metadata": {},
   "outputs": [
    {
     "name": "stdout",
     "output_type": "stream",
     "text": [
      "Front\n",
      "[[20 13 12 21]\n",
      " [29  4  5 28]\n",
      " [32  1  8 25]\n",
      " [17 16  9 24]]\n",
      "Back\n",
      "[[22 11 14 19]\n",
      " [27  6  3 30]\n",
      " [26  7  2 31]\n",
      " [23 10 15 18]]\n"
     ]
    },
    {
     "data": {
      "text/plain": [
       "[[20, 13, 12, 21, 29, 4, 5, 28, 32, 1, 8, 25, 17, 16, 9, 24],\n",
       " [22, 11, 14, 19, 27, 6, 3, 30, 26, 7, 2, 31, 23, 10, 15, 18]]"
      ]
     },
     "execution_count": 113,
     "metadata": {},
     "output_type": "execute_result"
    }
   ],
   "source": [
    "per_fold_n(32)"
   ]
  },
  {
   "cell_type": "code",
   "execution_count": 44,
   "metadata": {},
   "outputs": [
    {
     "name": "stdout",
     "output_type": "stream",
     "text": [
      "[[16  1  4 13]\n",
      " [ 9  8  5 12]]\n"
     ]
    }
   ],
   "source": [
    "np16 = np16_f.reshape((2,4))\n",
    "print(np16)"
   ]
  },
  {
   "cell_type": "code",
   "execution_count": 64,
   "metadata": {},
   "outputs": [],
   "source": [
    "n =32"
   ]
  },
  {
   "cell_type": "code",
   "execution_count": 65,
   "metadata": {},
   "outputs": [
    {
     "name": "stdout",
     "output_type": "stream",
     "text": [
      "[[13 12]\n",
      " [ 4  5]\n",
      " [ 1  8]\n",
      " [16  9]]\n"
     ]
    }
   ],
   "source": [
    "f_n_1 = np.flip(np16.T, axis=0)\n",
    "print(f_n_1)"
   ]
  },
  {
   "cell_type": "code",
   "execution_count": 66,
   "metadata": {},
   "outputs": [],
   "source": [
    "len_n = len(f_n_1[0])\n",
    "l =int(len_n /2)"
   ]
  },
  {
   "cell_type": "code",
   "execution_count": 75,
   "metadata": {},
   "outputs": [],
   "source": [
    "n_p1_f = []\n",
    "for row in f_n_1:\n",
    "    r_split = np.split(row, l)\n",
    "    #print(r_split)\n",
    "    row_appended = []\n",
    "    for tu in r_split:\n",
    "        tem = np.array([n-tu[0] +1,n-tu[1] +1])\n",
    "        #print(np.insert(tem, 1, tu))\n",
    "        row_appended.append(np.insert(tem, 1, tu))\n",
    "    n_p1_f.append((np.concatenate(row_appended, axis=None)))\n"
   ]
  },
  {
   "cell_type": "code",
   "execution_count": 79,
   "metadata": {},
   "outputs": [
    {
     "name": "stdout",
     "output_type": "stream",
     "text": [
      "[[20 13 12 21]\n",
      " [29  4  5 28]\n",
      " [32  1  8 25]\n",
      " [17 16  9 24]]\n"
     ]
    }
   ],
   "source": [
    "newarray = np.stack(n_p1_f)\n",
    "print(newarray)"
   ]
  },
  {
   "cell_type": "code",
   "execution_count": 80,
   "metadata": {},
   "outputs": [
    {
     "data": {
      "text/plain": [
       "[array([20, 13, 12, 21]),\n",
       " array([29,  4,  5, 28]),\n",
       " array([32,  1,  8, 25]),\n",
       " array([17, 16,  9, 24])]"
      ]
     },
     "execution_count": 80,
     "metadata": {},
     "output_type": "execute_result"
    }
   ],
   "source": [
    "list(newarray)"
   ]
  },
  {
   "cell_type": "code",
   "execution_count": 82,
   "metadata": {},
   "outputs": [
    {
     "data": {
      "text/plain": [
       "[20, 13, 12, 21, 29, 4, 5, 28, 32, 1, 8, 25, 17, 16, 9, 24]"
      ]
     },
     "execution_count": 82,
     "metadata": {},
     "output_type": "execute_result"
    }
   ],
   "source": [
    "np.concatenate(newarray).tolist()"
   ]
  },
  {
   "cell_type": "code",
   "execution_count": 3,
   "metadata": {},
   "outputs": [],
   "source": [
    "import math\n",
    "\n",
    "def sig_layout(n:int) -> tuple:\n",
    "        if type(n) != int or n<4 or n%4 !=0:\n",
    "            raise ValueError(f\"n:{n} must be a positive integer that multiple of 4.\")\n",
    "\n",
    "        if n%3 ==0:\n",
    "            i = math.log2(n) - math.log2(3) -1\n",
    "\n",
    "            return(3, int(2**i))\n",
    "            pass\n",
    "        else:\n",
    "            i = int(math.log2(n/4))\n",
    "            if i%2 :\n",
    "                k = kp = int((i+1)/2)\n",
    "            else:\n",
    "                k = int(i/2)\n",
    "                kp = k+1\n",
    "            return (int(2**k), int(2**kp))"
   ]
  },
  {
   "cell_type": "code",
   "execution_count": 6,
   "metadata": {},
   "outputs": [
    {
     "data": {
      "text/plain": [
       "(3, 4)"
      ]
     },
     "execution_count": 6,
     "metadata": {},
     "output_type": "execute_result"
    }
   ],
   "source": [
    "sig_layout(24)"
   ]
  },
  {
   "cell_type": "code",
   "execution_count": null,
   "metadata": {},
   "outputs": [],
   "source": []
  }
 ],
 "metadata": {
  "interpreter": {
   "hash": "9d464b7aebadcb9bae1cef1ad93ae1bea7480740daac4ec12858463c30f8bab2"
  },
  "kernelspec": {
   "display_name": "Python 3.9.13 64-bit (windows store)",
   "language": "python",
   "name": "python3"
  },
  "language_info": {
   "codemirror_mode": {
    "name": "ipython",
    "version": 3
   },
   "file_extension": ".py",
   "mimetype": "text/x-python",
   "name": "python",
   "nbconvert_exporter": "python",
   "pygments_lexer": "ipython3",
   "version": "3.9.13"
  },
  "orig_nbformat": 4
 },
 "nbformat": 4,
 "nbformat_minor": 2
}
