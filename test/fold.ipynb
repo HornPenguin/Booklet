{
 "cells": [
  {
   "cell_type": "code",
   "execution_count": 1,
   "metadata": {},
   "outputs": [],
   "source": [
    "from __future__ import annotations\n",
    "import numpy as np\n",
    "import math, sys, os\n",
    "from itertools import permutations\n",
    "sys.path.insert(1, os.getcwd()) \n",
    "sys.path.append(\"..\")\n",
    "\n",
    "from src import textdata\n",
    "from src.routines import *"
   ]
  },
  {
   "cell_type": "code",
   "execution_count": 10,
   "metadata": {},
   "outputs": [],
   "source": [
    "inputfile = \"manu.pdf\"\n",
    "outputfile = \"transform.pdf\"\n",
    "pagerange=\"1-32\"\n",
    "leaves = [16, 1, 16]\n",
    "fold = True\n",
    "riffle = True\n",
    "format = [False, 216,297]\n",
    "imposition =True\n",
    "blank = [\"back\", 0]\n",
    "split = False\n",
    "sigproof = [True, \"#112233\"]\n",
    "trim = True\n",
    "registration = True\n",
    "cmyk = True"
   ]
  },
  {
   "cell_type": "code",
   "execution_count": 7,
   "metadata": {},
   "outputs": [
    {
     "ename": "ValueError",
     "evalue": "too many values to unpack (expected 2)",
     "output_type": "error",
     "traceback": [
      "\u001b[1;31m---------------------------------------------------------------------------\u001b[0m",
      "\u001b[1;31mValueError\u001b[0m                                Traceback (most recent call last)",
      "\u001b[1;32mc:\\Users\\qwqwh\\Documents\\GitHub\\Booklet\\test\\fold.ipynb Cell 3'\u001b[0m in \u001b[0;36m<cell line: 2>\u001b[1;34m()\u001b[0m\n\u001b[0;32m      <a href='vscode-notebook-cell:/c%3A/Users/qwqwh/Documents/GitHub/Booklet/test/fold.ipynb#ch0000002?line=0'>1</a>\u001b[0m \u001b[39m#Generate 16 signature layout\u001b[39;00m\n\u001b[1;32m----> <a href='vscode-notebook-cell:/c%3A/Users/qwqwh/Documents/GitHub/Booklet/test/fold.ipynb#ch0000002?line=1'>2</a>\u001b[0m tem_pdf, temfile \u001b[39m=\u001b[39m PDFsig\u001b[39m.\u001b[39mgenerate_layout(\n\u001b[0;32m      <a href='vscode-notebook-cell:/c%3A/Users/qwqwh/Documents/GitHub/Booklet/test/fold.ipynb#ch0000002?line=2'>3</a>\u001b[0m     (\u001b[39m595.276\u001b[39m,\u001b[39m841.89\u001b[39m),\n\u001b[0;32m      <a href='vscode-notebook-cell:/c%3A/Users/qwqwh/Documents/GitHub/Booklet/test/fold.ipynb#ch0000002?line=3'>4</a>\u001b[0m     \u001b[39m32\u001b[39m,\n\u001b[0;32m      <a href='vscode-notebook-cell:/c%3A/Users/qwqwh/Documents/GitHub/Booklet/test/fold.ipynb#ch0000002?line=4'>5</a>\u001b[0m     (\u001b[39m1\u001b[39m,\u001b[39m16\u001b[39m),\n\u001b[0;32m      <a href='vscode-notebook-cell:/c%3A/Users/qwqwh/Documents/GitHub/Booklet/test/fold.ipynb#ch0000002?line=5'>6</a>\u001b[0m     \u001b[39m113\u001b[39m,\n\u001b[0;32m      <a href='vscode-notebook-cell:/c%3A/Users/qwqwh/Documents/GitHub/Booklet/test/fold.ipynb#ch0000002?line=6'>7</a>\u001b[0m     \u001b[39m30\u001b[39m,\n\u001b[0;32m      <a href='vscode-notebook-cell:/c%3A/Users/qwqwh/Documents/GitHub/Booklet/test/fold.ipynb#ch0000002?line=7'>8</a>\u001b[0m     proof\u001b[39m=\u001b[39m\u001b[39mTrue\u001b[39;00m,\n\u001b[0;32m      <a href='vscode-notebook-cell:/c%3A/Users/qwqwh/Documents/GitHub/Booklet/test/fold.ipynb#ch0000002?line=8'>9</a>\u001b[0m     proofcode \u001b[39m=\u001b[39m \u001b[39m\"\u001b[39m\u001b[39m#112233\u001b[39m\u001b[39m\"\u001b[39m,\n\u001b[0;32m     <a href='vscode-notebook-cell:/c%3A/Users/qwqwh/Documents/GitHub/Booklet/test/fold.ipynb#ch0000002?line=9'>10</a>\u001b[0m     trim\u001b[39m=\u001b[39m\u001b[39mTrue\u001b[39;00m,\n\u001b[0;32m     <a href='vscode-notebook-cell:/c%3A/Users/qwqwh/Documents/GitHub/Booklet/test/fold.ipynb#ch0000002?line=10'>11</a>\u001b[0m     registration\u001b[39m=\u001b[39m\u001b[39mTrue\u001b[39;00m,\n\u001b[0;32m     <a href='vscode-notebook-cell:/c%3A/Users/qwqwh/Documents/GitHub/Booklet/test/fold.ipynb#ch0000002?line=11'>12</a>\u001b[0m     cmyk\u001b[39m=\u001b[39m\u001b[39mTrue\u001b[39;00m\n\u001b[0;32m     <a href='vscode-notebook-cell:/c%3A/Users/qwqwh/Documents/GitHub/Booklet/test/fold.ipynb#ch0000002?line=12'>13</a>\u001b[0m )\n\u001b[0;32m     <a href='vscode-notebook-cell:/c%3A/Users/qwqwh/Documents/GitHub/Booklet/test/fold.ipynb#ch0000002?line=13'>14</a>\u001b[0m \u001b[39mwith\u001b[39;00m \u001b[39mopen\u001b[39m(\u001b[39m\"\u001b[39m\u001b[39m16layout.pdf\u001b[39m\u001b[39m\"\u001b[39m, \u001b[39m\"\u001b[39m\u001b[39mwb\u001b[39m\u001b[39m\"\u001b[39m) \u001b[39mas\u001b[39;00m w:\n\u001b[0;32m     <a href='vscode-notebook-cell:/c%3A/Users/qwqwh/Documents/GitHub/Booklet/test/fold.ipynb#ch0000002?line=15'>16</a>\u001b[0m     pdf \u001b[39m=\u001b[39m pypdf\u001b[39m.\u001b[39mPdfFileWriter()\n",
      "\u001b[1;31mValueError\u001b[0m: too many values to unpack (expected 2)"
     ]
    }
   ],
   "source": [
    "#Generate 16 signature layout\n",
    "tem_pdf, temfile = PDFsig.generate_layout(\n",
    "    (595.276,841.89),\n",
    "    32,\n",
    "    (1,16),\n",
    "    113,\n",
    "    30,\n",
    "    proof=True,\n",
    "    proofcode = \"#112233\",\n",
    "    trim=True,\n",
    "    registration=True,\n",
    "    cmyk=True\n",
    ")\n",
    "with open(\"16layout.pdf\", \"wb\") as w:\n",
    "\n",
    "    pdf = pypdf.PdfFileWriter()\n",
    "    for page in tem_pdf.pages:\n",
    "        pdf.add_page(page)\n",
    "    pdf.write(w)"
   ]
  },
  {
   "cell_type": "code",
   "execution_count": 11,
   "metadata": {},
   "outputs": [
    {
     "name": "stdout",
     "output_type": "stream",
     "text": [
      "[16, 1, 16]\n",
      "layout = (2, 4)\n",
      "4\n"
     ]
    }
   ],
   "source": [
    "# Gnerate fold pdfs\n",
    "PDFsig.generate_signature(inputfile=inputfile,\n",
    "                            outputfile=outputfile,\n",
    "                            pagerange=pagerange,\n",
    "                            leaves=leaves,\n",
    "                            fold=fold,\n",
    "                            riffle=riffle,\n",
    "                            format= format,\n",
    "                            imposition=imposition,\n",
    "                            blank=blank,\n",
    "                            split=split,\n",
    "                            sigproof=sigproof, #Printing marks\n",
    "                            trim=trim,\n",
    "                            registration=registration,\n",
    "                            cmyk=cmyk\n",
    "                            )"
   ]
  },
  {
   "cell_type": "code",
   "execution_count": 26,
   "metadata": {},
   "outputs": [],
   "source": [
    "with open(\"merge.pdf\", \"wb\") as mer:\n",
    "    \n",
    "    pagel = tem_pdf.pages[0]\n",
    "    pdfr = pypdf.PdfFileReader(\"transform.pdf\")\n",
    "    pagec =pdfr.pages[0]\n",
    "\n",
    "    #t = pypdf.Transformation().translate(tx= 1200, ty=100)\n",
    "    t = pypdf.Transformation().rotate(45).translate(tx=500)\n",
    "    pagec.add_transformation(t)\n",
    "    pagec.cropbox.setUpperRight((1000,1000))\n",
    "\n",
    "    pagel.merge_page(pagec)\n",
    "    pagel.merge_page(pdfr.pages[3])\n",
    "    w = pypdf.PdfFileWriter()\n",
    "    w.add_page(pagel)\n",
    "    w.add_page(pagec)\n",
    "    w.add_page(pypdf.PdfFileReader(\"transform.pdf\").pages[2])\n",
    "    w.write(mer)"
   ]
  },
  {
   "cell_type": "code",
   "execution_count": 10,
   "metadata": {},
   "outputs": [],
   "source": [
    "pagel = tem_pdf.pages[0]\n",
    "pdfr = pypdf.PdfFileReader(\"transform.pdf\")\n",
    "pagec =pdfr.pages[0]\n",
    "#t = pypdf.Transformation().translate(tx= 1200, ty=100)\n",
    "t = pypdf.Transformation().rotate(45).translate(tx=500)\n",
    "pagec.add_transformation(t)\n",
    "pagel.merge_page(pagec)\n",
    "#pagel.merge_page(pdfr.pages[3]"
   ]
  },
  {
   "cell_type": "code",
   "execution_count": 17,
   "metadata": {},
   "outputs": [],
   "source": [
    "pagec.mediaBo.setUpperRight((1000,1000))"
   ]
  },
  {
   "cell_type": "code",
   "execution_count": 18,
   "metadata": {},
   "outputs": [
    {
     "data": {
      "text/plain": [
       "1000"
      ]
     },
     "execution_count": 18,
     "metadata": {},
     "output_type": "execute_result"
    }
   ],
   "source": [
    "pagec.mediaBox.getUpperRight_x()"
   ]
  },
  {
   "cell_type": "code",
   "execution_count": 6,
   "metadata": {},
   "outputs": [],
   "source": [
    "layout = PDFsig.sig_layout(16)"
   ]
  },
  {
   "cell_type": "code",
   "execution_count": 7,
   "metadata": {},
   "outputs": [],
   "source": [
    "def position(i, layout):\n",
    "    nx = layout[1]\n",
    "    ny = layout[0]\n",
    "    x = (i-1) % (nx) \n",
    "    y = ny - math.floor((i-1)/nx) -1\n",
    "    return(x,y)"
   ]
  },
  {
   "cell_type": "code",
   "execution_count": 7,
   "metadata": {},
   "outputs": [
    {
     "data": {
      "text/plain": [
       "(2, 4)"
      ]
     },
     "execution_count": 7,
     "metadata": {},
     "output_type": "execute_result"
    }
   ],
   "source": [
    "layout"
   ]
  },
  {
   "cell_type": "code",
   "execution_count": 16,
   "metadata": {},
   "outputs": [
    {
     "data": {
      "text/plain": [
       "(1, 0)"
      ]
     },
     "execution_count": 16,
     "metadata": {},
     "output_type": "execute_result"
    }
   ],
   "source": [
    "position(2, layout)"
   ]
  },
  {
   "cell_type": "code",
   "execution_count": 8,
   "metadata": {},
   "outputs": [
    {
     "name": "stdout",
     "output_type": "stream",
     "text": [
      "(0, 1)\n",
      "(1, 1)\n",
      "(2, 1)\n",
      "(3, 1)\n",
      "(0, 0)\n",
      "(1, 0)\n",
      "(2, 0)\n",
      "(3, 0)\n",
      "(0, -1)\n",
      "(1, -1)\n",
      "(2, -1)\n",
      "(3, -1)\n",
      "(0, -2)\n",
      "(1, -2)\n",
      "(2, -2)\n",
      "(3, -2)\n"
     ]
    }
   ],
   "source": [
    "for i in range(1,17):\n",
    "    print(position(i, layout))"
   ]
  },
  {
   "cell_type": "code",
   "execution_count": 25,
   "metadata": {},
   "outputs": [
    {
     "data": {
      "text/plain": [
       "0"
      ]
     },
     "execution_count": 25,
     "metadata": {},
     "output_type": "execute_result"
    }
   ],
   "source": [
    "math.floor(1/2)"
   ]
  },
  {
   "cell_type": "code",
   "execution_count": null,
   "metadata": {},
   "outputs": [],
   "source": []
  }
 ],
 "metadata": {
  "kernelspec": {
   "display_name": "Python 3.9.12 ('PDFtoolForPublish')",
   "language": "python",
   "name": "python3"
  },
  "language_info": {
   "codemirror_mode": {
    "name": "ipython",
    "version": 3
   },
   "file_extension": ".py",
   "mimetype": "text/x-python",
   "name": "python",
   "nbconvert_exporter": "python",
   "pygments_lexer": "ipython3",
   "version": "3.9.12"
  },
  "orig_nbformat": 4,
  "vscode": {
   "interpreter": {
    "hash": "4c952d005f581c21dc2275b570f3c1e9387ce4c06d0ed04b9167b13f3587ce32"
   }
  }
 },
 "nbformat": 4,
 "nbformat_minor": 2
}
