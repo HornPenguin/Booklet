{
 "cells": [
  {
   "cell_type": "code",
   "execution_count": 1,
   "metadata": {},
   "outputs": [],
   "source": [
    "from __future__ import annotations\n",
    "import numpy as np\n",
    "import math, sys, os\n",
    "from itertools import permutations\n",
    "sys.path.insert(1, os.getcwd()) \n",
    "sys.path.append(\"..\")\n",
    "\n",
    "from src import textdata\n",
    "from src.routines import *"
   ]
  },
  {
   "cell_type": "code",
   "execution_count": 2,
   "metadata": {},
   "outputs": [],
   "source": [
    "inputfile = \"JangHWang.pdf\"\n",
    "outputfile = \"HP_\" + inputfile\n",
    "pagerange=\"1-3\"\n",
    "leaves = [1, 1, 1]\n",
    "fold = True\n",
    "riffle = True\n",
    "format = [False, 210,297]\n",
    "imposition =True\n",
    "blank = [\"back\", 0]\n",
    "split = False\n",
    "sigproof = [False, \"#112233\"]\n",
    "trim = True\n",
    "registration = True\n",
    "cmyk = False"
   ]
  },
  {
   "cell_type": "code",
   "execution_count": 3,
   "metadata": {},
   "outputs": [
    {
     "name": "stdout",
     "output_type": "stream",
     "text": [
      "page range: [1, 2, 3]\n",
      "leaves composition: [1, 1, 1]\n",
      "composition: (1, 1)\n",
      "layout = (1, 1)\n",
      "Output pages 3\n",
      "0 0x0+0 3\n",
      "0 1x0+0 3\n",
      "0 2x0+0 3\n"
     ]
    }
   ],
   "source": [
    "# Gnerate fold pdfs\n",
    "PDFsig.generate_signature(inputfile=inputfile,\n",
    "                            outputfile=outputfile,\n",
    "                            pagerange=pagerange,\n",
    "                            leaves=leaves,\n",
    "                            fold=fold,\n",
    "                            riffle=riffle,\n",
    "                            format= format,\n",
    "                            imposition=imposition,\n",
    "                            blank=blank,\n",
    "                            split=split,\n",
    "                            sigproof=sigproof, #Printing marks\n",
    "                            trim=trim,\n",
    "                            registration=registration,\n",
    "                            cmyk=cmyk\n",
    "                            )"
   ]
  },
  {
   "cell_type": "code",
   "execution_count": 4,
   "metadata": {},
   "outputs": [],
   "source": [
    "def position(i, layout):\n",
    "                nx = layout[1]\n",
    "                ny = layout[0]\n",
    "                x = (i-1) % (nx)\n",
    "                y = ny - math.floor((i-1)/nx) -1\n",
    "                return(x,y)"
   ]
  },
  {
   "cell_type": "code",
   "execution_count": 5,
   "metadata": {},
   "outputs": [
    {
     "data": {
      "text/plain": [
       "(0, 0)"
      ]
     },
     "execution_count": 5,
     "metadata": {},
     "output_type": "execute_result"
    }
   ],
   "source": [
    "position(1,(1,1))"
   ]
  },
  {
   "cell_type": "code",
   "execution_count": null,
   "metadata": {},
   "outputs": [],
   "source": []
  }
 ],
 "metadata": {
  "kernelspec": {
   "display_name": "Python 3.9.13 64-bit (windows store)",
   "language": "python",
   "name": "python3"
  },
  "language_info": {
   "codemirror_mode": {
    "name": "ipython",
    "version": 3
   },
   "file_extension": ".py",
   "mimetype": "text/x-python",
   "name": "python",
   "nbconvert_exporter": "python",
   "pygments_lexer": "ipython3",
   "version": "3.9.13"
  },
  "orig_nbformat": 4,
  "vscode": {
   "interpreter": {
    "hash": "9d464b7aebadcb9bae1cef1ad93ae1bea7480740daac4ec12858463c30f8bab2"
   }
  }
 },
 "nbformat": 4,
 "nbformat_minor": 2
}
