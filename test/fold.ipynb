{
 "cells": [
  {
   "cell_type": "code",
   "execution_count": 1,
   "metadata": {},
   "outputs": [],
   "source": [
    "from __future__ import annotations\n",
    "import numpy as np\n",
    "import math, sys, os\n",
    "from itertools import permutations\n",
    "sys.path.insert(1, os.getcwd()) \n",
    "sys.path.append(\"..\")\n",
    "\n",
    "from src import textdata\n",
    "from src.routines import *"
   ]
  },
  {
   "cell_type": "code",
   "execution_count": 2,
   "metadata": {},
   "outputs": [],
   "source": [
    "inputfile = \"32.pdf\"\n",
    "outputfile = \"transform.pdf\"\n",
    "pagerange=\"1-32\"\n",
    "leaves = [16, 1, 16]\n",
    "fold = True\n",
    "riffle = False\n",
    "format = [False, 595.276,841.89]\n",
    "imposition =True\n",
    "blank = [\"back\", 0]\n",
    "split = False\n",
    "sigproof = [False, \"#ffffff\"]\n",
    "trim = False\n",
    "registration = False\n",
    "cmyk = False"
   ]
  },
  {
   "cell_type": "code",
   "execution_count": 23,
   "metadata": {},
   "outputs": [],
   "source": [
    "#Generate 16 signature layout\n",
    "tem_pdf, temfile = PDFsig.generate_layout(\n",
    "    (595.276,841.89),\n",
    "    32,\n",
    "    (1,16),\n",
    "    50,\n",
    "    10,\n",
    "    proof=True,\n",
    "    proofcode = \"#112233\",\n",
    "    trim=True,\n",
    "    registration=True,\n",
    "    cmyk=True\n",
    ")\n",
    "with open(\"16layout.pdf\", \"wb\") as w:\n",
    "\n",
    "    pdf = pypdf.PdfFileWriter()\n",
    "    for page in tem_pdf.pages:\n",
    "        pdf.add_page(page)\n",
    "    pdf.write(w)"
   ]
  },
  {
   "cell_type": "code",
   "execution_count": 3,
   "metadata": {},
   "outputs": [
    {
     "name": "stdout",
     "output_type": "stream",
     "text": [
      "[16, 1, 16]\n",
      "4\n"
     ]
    }
   ],
   "source": [
    "# Gnerate fold pdfs\n",
    "PDFsig.generate_signature(inputfile=inputfile,\n",
    "                            outputfile=outputfile,\n",
    "                            pagerange=pagerange,\n",
    "                            leaves=leaves,\n",
    "                            fold=fold,\n",
    "                            riffle=riffle,\n",
    "                            format= format,\n",
    "                            imposition=imposition,\n",
    "                            blank=blank,\n",
    "                            split=split,\n",
    "                            sigproof=sigproof, #Printing marks\n",
    "                            trim=trim,\n",
    "                            registration=registration,\n",
    "                            cmyk=cmyk\n",
    "                            )"
   ]
  },
  {
   "cell_type": "code",
   "execution_count": 26,
   "metadata": {},
   "outputs": [],
   "source": [
    "with open(\"merge.pdf\", \"wb\") as mer:\n",
    "    \n",
    "    pagel = tem_pdf.pages[0]\n",
    "    pdfr = pypdf.PdfFileReader(\"transform.pdf\")\n",
    "    pagec =pdfr.pages[0]\n",
    "\n",
    "    #t = pypdf.Transformation().translate(tx= 1200, ty=100)\n",
    "    t = pypdf.Transformation().rotate(45).translate(tx=500)\n",
    "    pagec.add_transformation(t)\n",
    "    pagec.cropbox.setUpperRight((1000,1000))\n",
    "\n",
    "    pagel.merge_page(pagec)\n",
    "    pagel.merge_page(pdfr.pages[3])\n",
    "    w = pypdf.PdfFileWriter()\n",
    "    w.add_page(pagel)\n",
    "    w.add_page(pagec)\n",
    "    w.add_page(pypdf.PdfFileReader(\"transform.pdf\").pages[2])\n",
    "    w.write(mer)"
   ]
  },
  {
   "cell_type": "code",
   "execution_count": 10,
   "metadata": {},
   "outputs": [],
   "source": [
    "pagel = tem_pdf.pages[0]\n",
    "pdfr = pypdf.PdfFileReader(\"transform.pdf\")\n",
    "pagec =pdfr.pages[0]\n",
    "#t = pypdf.Transformation().translate(tx= 1200, ty=100)\n",
    "t = pypdf.Transformation().rotate(45).translate(tx=500)\n",
    "pagec.add_transformation(t)\n",
    "pagel.merge_page(pagec)\n",
    "#pagel.merge_page(pdfr.pages[3]"
   ]
  },
  {
   "cell_type": "code",
   "execution_count": 17,
   "metadata": {},
   "outputs": [],
   "source": [
    "pagec.mediaBo.setUpperRight((1000,1000))"
   ]
  },
  {
   "cell_type": "code",
   "execution_count": 18,
   "metadata": {},
   "outputs": [
    {
     "data": {
      "text/plain": [
       "1000"
      ]
     },
     "execution_count": 18,
     "metadata": {},
     "output_type": "execute_result"
    }
   ],
   "source": [
    "pagec.mediaBox.getUpperRight_x()"
   ]
  },
  {
   "cell_type": "code",
   "execution_count": null,
   "metadata": {},
   "outputs": [],
   "source": []
  }
 ],
 "metadata": {
  "interpreter": {
   "hash": "9d464b7aebadcb9bae1cef1ad93ae1bea7480740daac4ec12858463c30f8bab2"
  },
  "kernelspec": {
   "display_name": "Python 3.9.13 64-bit (windows store)",
   "language": "python",
   "name": "python3"
  },
  "language_info": {
   "codemirror_mode": {
    "name": "ipython",
    "version": 3
   },
   "file_extension": ".py",
   "mimetype": "text/x-python",
   "name": "python",
   "nbconvert_exporter": "python",
   "pygments_lexer": "ipython3",
   "version": "3.9.13"
  },
  "orig_nbformat": 4
 },
 "nbformat": 4,
 "nbformat_minor": 2
}
