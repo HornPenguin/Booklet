{
 "cells": [
  {
   "cell_type": "code",
   "execution_count": 1,
   "metadata": {},
   "outputs": [],
   "source": [
    "import PyPDF2 as pypdf\n",
    "import reportlab"
   ]
  },
  {
   "cell_type": "code",
   "execution_count": 1,
   "metadata": {},
   "outputs": [
    {
     "ename": "ImportError",
     "evalue": "cannot import name 'pdfrw' from 'reportlab' (c:\\Users\\qwqwh\\anaconda3\\envs\\PDFtoolForPublish\\lib\\site-packages\\reportlab\\__init__.py)",
     "output_type": "error",
     "traceback": [
      "\u001b[1;31m---------------------------------------------------------------------------\u001b[0m",
      "\u001b[1;31mImportError\u001b[0m                               Traceback (most recent call last)",
      "\u001b[1;32mc:\\Users\\qwqwh\\Documents\\GitHub\\Booklet\\test\\pdf.ipynb Cell 2'\u001b[0m in \u001b[0;36m<cell line: 1>\u001b[1;34m()\u001b[0m\n\u001b[1;32m----> <a href='vscode-notebook-cell:/c%3A/Users/qwqwh/Documents/GitHub/Booklet/test/pdf.ipynb#ch0000017?line=0'>1</a>\u001b[0m \u001b[39mfrom\u001b[39;00m \u001b[39mreportlab\u001b[39;00m \u001b[39mimport\u001b[39;00m pdfrw\n",
      "\u001b[1;31mImportError\u001b[0m: cannot import name 'pdfrw' from 'reportlab' (c:\\Users\\qwqwh\\anaconda3\\envs\\PDFtoolForPublish\\lib\\site-packages\\reportlab\\__init__.py)"
     ]
    }
   ],
   "source": [
    "from reportlab import pdfrw"
   ]
  },
  {
   "cell_type": "code",
   "execution_count": 3,
   "metadata": {},
   "outputs": [],
   "source": [
    "#paper sizes\n",
    "import reportlab.lib.pagesizes as pagesize"
   ]
  },
  {
   "cell_type": "code",
   "execution_count": 4,
   "metadata": {},
   "outputs": [],
   "source": [
    "inputsig = pypdf.PdfFileReader('1-8.pdf')"
   ]
  },
  {
   "cell_type": "code",
   "execution_count": 2,
   "metadata": {},
   "outputs": [],
   "source": [
    "import tempfile\n",
    "from reportlab.pdfgen import canvas\n",
    "from reportlab.lib.units import mm"
   ]
  },
  {
   "cell_type": "code",
   "execution_count": 2,
   "metadata": {},
   "outputs": [],
   "source": [
    "pts_to_mm = 2.8346456693\n",
    "def pts_mm(size:tuple, mode=True):\n",
    "    if mode: #pts to mm\n",
    "        x = round(size[0]/pts_to_mm,2)\n",
    "        y = round(size[1]/pts_to_mm,2)\n",
    "        return (x,y)\n",
    "    else:   #mm to pts\n",
    "        x = round(size[0] * pts_to_mm, 2)\n",
    "        y = round(size[1] * pts_to_mm, 2)\n",
    "        return (x,y)"
   ]
  },
  {
   "cell_type": "code",
   "execution_count": 4,
   "metadata": {},
   "outputs": [
    {
     "name": "stdout",
     "output_type": "stream",
     "text": [
      "(595.28, 841.89)\n",
      "(595.2755905511812, 841.8897637795277)\n"
     ]
    }
   ],
   "source": [
    "a4 = (210,297) #mm\n",
    "print(pts_mm(a4, False))\n",
    "print((a4[0]*mm,a4[1]*mm))"
   ]
  },
  {
   "cell_type": "code",
   "execution_count": 7,
   "metadata": {},
   "outputs": [
    {
     "name": "stdout",
     "output_type": "stream",
     "text": [
      "(210.0, 297.0)\n"
     ]
    }
   ],
   "source": [
    "print(pts_mm((a4[0]*mm,a4[1]*mm)))"
   ]
  },
  {
   "cell_type": "code",
   "execution_count": 5,
   "metadata": {},
   "outputs": [
    {
     "name": "stdout",
     "output_type": "stream",
     "text": [
      "2.834645669291339\n"
     ]
    }
   ],
   "source": [
    "print(mm)"
   ]
  },
  {
   "cell_type": "code",
   "execution_count": 3,
   "metadata": {},
   "outputs": [],
   "source": [
    "fp = tempfile.TemporaryFile()\n",
    "can = canvas.Canvas(fp, pagesize=(2*595.27, 2*841.89))"
   ]
  },
  {
   "cell_type": "code",
   "execution_count": 5,
   "metadata": {},
   "outputs": [],
   "source": [
    "can.lines([((0,100, 100,100)), ((200,100, 400,100))])"
   ]
  },
  {
   "cell_type": "code",
   "execution_count": null,
   "metadata": {},
   "outputs": [],
   "source": []
  },
  {
   "cell_type": "code",
   "execution_count": 32,
   "metadata": {},
   "outputs": [],
   "source": [
    "can.drawString(100,100,\" Test Pages\")"
   ]
  },
  {
   "cell_type": "code",
   "execution_count": 34,
   "metadata": {},
   "outputs": [],
   "source": [
    "can.setStrokeColorRGB(0.2,0.5,0.3)\n",
    "can.setFillColorRGB(1,0,1)\n",
    "#an draw some lines\n",
    "can.line(0,0,0,1.7*inch)\n",
    "can.line(0,0,1*inch,0)\n",
    "#an draw a rectangle\n",
    "can.rect(0.2*inch,0.2*inch,1*inch,1.5*inch, fill=1)\n",
    "#an make text go straight up\n",
    "can.rotate(90)\n",
    "#an change color\n",
    "can.setFillColorRGB(0,0,0.77)\n",
    "#an say hello (note after rotate the y coord needs to be negative!)\n",
    "can.drawString(0.3*inch, -inch, \"Hello World\")"
   ]
  },
  {
   "cell_type": "code",
   "execution_count": 35,
   "metadata": {},
   "outputs": [],
   "source": [
    "can.save()"
   ]
  },
  {
   "cell_type": "code",
   "execution_count": 36,
   "metadata": {},
   "outputs": [],
   "source": [
    "twopdf = pypdf.PdfFileReader(fp)"
   ]
  },
  {
   "cell_type": "code",
   "execution_count": 37,
   "metadata": {},
   "outputs": [],
   "source": [
    "genpdf = pypdf.PdfFileWriter()"
   ]
  },
  {
   "cell_type": "code",
   "execution_count": 47,
   "metadata": {},
   "outputs": [],
   "source": [
    "inputpage = inputsig.getPage(1)\n",
    "inputpage.add_transformation(pypdf.Transformation().rotate(90).translate(tx=10))"
   ]
  },
  {
   "cell_type": "code",
   "execution_count": 49,
   "metadata": {},
   "outputs": [],
   "source": [
    "page = twopdf.getPage(0)\n",
    "page.merge_page(inputpage)"
   ]
  },
  {
   "cell_type": "code",
   "execution_count": 50,
   "metadata": {},
   "outputs": [],
   "source": [
    "genpdf.add_page(inputpage)\n",
    "with open(\"./test.pdf\", \"wb\") as f:\n",
    "    genpdf.write(f)"
   ]
  },
  {
   "cell_type": "code",
   "execution_count": null,
   "metadata": {},
   "outputs": [],
   "source": [
    "twopdf = pypdf.PdfFileReader(fp)"
   ]
  },
  {
   "cell_type": "code",
   "execution_count": 59,
   "metadata": {},
   "outputs": [],
   "source": [
    "inputsig = pypdf.PdfFileReader('1-8.pdf')\n",
    "inputpage = inputsig.getPage(0)\n",
    "op = pypdf.Transformation().rotate(0).translate(ty=700, tx=500)\n",
    "inputpage.addTransformation(op)\n",
    "pagetwo = twopdf.getPage(0)\n",
    "pagetwo.merge_page(inputpage)\n",
    "\n",
    "\n",
    "genpdf = pypdf.PdfFileWriter()\n",
    "genpdf.add_page(pagetwo)\n",
    "\n",
    "with open(\"./copy_1-8.pdf\", \"wb\") as f:\n",
    "    genpdf.write(f)"
   ]
  },
  {
   "cell_type": "code",
   "execution_count": null,
   "metadata": {},
   "outputs": [],
   "source": [
    "def generate_layout( #All dimensions are written in pts unit\n",
    "        pagesize:tuple, n:tuple, nd:int, d:int, \n",
    "        proof:bool, proofcode:str, \n",
    "        trim:bool, \n",
    "        registration:bool, \n",
    "        cmyk:bool\n",
    "    ):\n",
    "    #Paper Dimension\n",
    "    arrange = PDFsig.sig_layout(ns)\n",
    "    nx = arrange[0]\n",
    "    ny = arrange[1]\n",
    "    x = 2*nd + nx*pagesize[0] + (nx-1)*d    \n",
    "    y = 2*nd + ny*pagesize[1] + (ny-1)*d\n",
    "\n",
    "    #Signature composition\n",
    "    ni = n[0]\n",
    "    ns = n[1]\n",
    "\n",
    "    n_block = ni * ns\n",
    "\n",
    "    #Signature proof\n",
    "    if proof:\n",
    "        proof_height = pagesize[1]/n_block\n",
    "        proof_width = nd\n",
    "        cmyk_proof = convert(proofcode)\n",
    "        proof_position = (nd+pagesize[0], nd+ny*pagesize[1] + (ny-1)*d-proof_height)\n",
    "\n",
    "    #trim\n",
    "    if trim:\n",
    "        trim_l = nd*(3/4)\n",
    "        #horizontal line\n",
    "        x1 = nd/4\n",
    "        x2 = nd + nx*pagesize[0] + (nx-1)*d +x1\n",
    "        y1 = nd + ny*pagesize[1] + (ny-1)*d\n",
    "        y2 = nd\n",
    "        #vertical line\n",
    "        x3 = nd\n",
    "        x4 = x2 - x1\n",
    "        y3 = nd/4\n",
    "        y4 = y1 + y3\n",
    "        \n",
    "        trim_position = [\n",
    "            (x1,y1), # h, u l\n",
    "            (x1,y2), # h, d l\n",
    "            (x2,y1), # h, u r\n",
    "            (x2,y2), # h, d r\n",
    "            (x3,y4), # v, u l\n",
    "            (x3,y3), # v, d l\n",
    "            (x4,y4), # v, u r\n",
    "            (x4,y3)  # v, d r\n",
    "        ]\n",
    "    if registration:\n",
    "        pass\n",
    "\n",
    "    if cmyk:\n",
    "        pass\n",
    "\n",
    "    tem_pdf_byte = io.BytesIO()\n",
    "\n",
    "\n",
    "    layout = canvas.Canvas(tem_pdf_byte, pagesize = (x,y))\n",
    "\n",
    "\n",
    "    rd = 2\n",
    "\n",
    "    for i in range(0, n_block):\n",
    "\n",
    "        #fill basic layout components\n",
    "        if proof: # draw rectangle\n",
    "            layout.setFillColorCMYK(cmyk_proof[0], cmyk_proof[1] ,cmyk_proof[2], cmyk_proof[3])\n",
    "            layout.rect(x, y, w, h, fill=1)\n",
    "            \n",
    "            pass\n",
    "        if trim: # draw line\n",
    "            layout.setFillColorCMYK(color_black)\n",
    "\n",
    "            pass\n",
    "        if registration: # add image\n",
    "            pass\n",
    "        if cmyk: \n",
    "            layout.setFillColorCMYK(color_cyan)\n",
    "            layout.rect(x, y, w, h, fill=1)\n",
    "            x = x+dx\n",
    "            layout.setFillColorCMYK(color_magenta)\n",
    "            layout.rect(x, y, w, h, fill=1)\n",
    "            x = x+dx\n",
    "            layout.setFillColorCMYK(color_yellow)\n",
    "            layout.rect(x, y, w, h, fill=1)\n",
    "            x = x+dx\n",
    "            layout.setFillColorCMYK(color_black)\n",
    "            layout.rect(x, y, w, h, fill=1)\n",
    "            \n",
    "\n",
    "        layout.\n",
    "\n",
    "    #----------------------------\n",
    "    layout.save()\n",
    "    tem_pdf_byte.seek(0)\n",
    "    tem_pdf  = pypdf.PdfReader(tem_pdf_byte)\n",
    "    tem_pdf_byte.close()\n",
    "    return tem_pdf"
   ]
  },
  {
   "cell_type": "code",
   "execution_count": null,
   "metadata": {},
   "outputs": [],
   "source": [
    "from reportlab.lib.colors import CMYKColor\n",
    "\n",
    "color_black = CMYKColor(0, 0, 0, 1)\n",
    "color_cyan = CMYKColor(1, 0, 0, 0)\n",
    "color_magenta = CMYKColor(0, 1, 0, 0)\n",
    "color_yellow = CMYKColor(0, 0, 1, 0)\n"
   ]
  }
 ],
 "metadata": {
  "kernelspec": {
   "display_name": "Python 3.9.13 64-bit (windows store)",
   "language": "python",
   "name": "python3"
  },
  "language_info": {
   "codemirror_mode": {
    "name": "ipython",
    "version": 3
   },
   "file_extension": ".py",
   "mimetype": "text/x-python",
   "name": "python",
   "nbconvert_exporter": "python",
   "pygments_lexer": "ipython3",
   "version": "3.9.13"
  },
  "orig_nbformat": 4,
  "vscode": {
   "interpreter": {
    "hash": "9d464b7aebadcb9bae1cef1ad93ae1bea7480740daac4ec12858463c30f8bab2"
   }
  }
 },
 "nbformat": 4,
 "nbformat_minor": 2
}
