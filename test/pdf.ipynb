{
 "cells": [
  {
   "cell_type": "code",
   "execution_count": 1,
   "metadata": {},
   "outputs": [],
   "source": [
    "import PyPDF2 as pypdf\n",
    "import reportlab\n",
    "#paper sizes\n",
    "import reportlab.lib.pagesizes as pagesize\n",
    "import tempfile\n",
    "from reportlab.pdfgen import canvas\n",
    "from reportlab.lib.units import mm"
   ]
  },
  {
   "cell_type": "code",
   "execution_count": 4,
   "metadata": {},
   "outputs": [],
   "source": [
    "inputsig = pypdf.PdfFileReader('1-8.pdf')"
   ]
  },
  {
   "cell_type": "code",
   "execution_count": 2,
   "metadata": {},
   "outputs": [],
   "source": [
    "import tempfile\n",
    "from reportlab.pdfgen import canvas\n",
    "from reportlab.lib.units import mm"
   ]
  },
  {
   "cell_type": "code",
   "execution_count": 2,
   "metadata": {},
   "outputs": [],
   "source": [
    "pts_to_mm = 2.8346456693\n",
    "def pts_mm(size:tuple, mode=True):\n",
    "    if mode: #pts to mm\n",
    "        x = round(size[0]/pts_to_mm,2)\n",
    "        y = round(size[1]/pts_to_mm,2)\n",
    "        return (x,y)\n",
    "    else:   #mm to pts\n",
    "        x = round(size[0] * pts_to_mm, 2)\n",
    "        y = round(size[1] * pts_to_mm, 2)\n",
    "        return (x,y)"
   ]
  },
  {
   "cell_type": "code",
   "execution_count": 4,
   "metadata": {},
   "outputs": [
    {
     "name": "stdout",
     "output_type": "stream",
     "text": [
      "(595.28, 841.89)\n",
      "(595.2755905511812, 841.8897637795277)\n"
     ]
    }
   ],
   "source": [
    "a4 = (210,297) #mm\n",
    "print(pts_mm(a4, False))\n",
    "print((a4[0]*mm,a4[1]*mm))"
   ]
  },
  {
   "cell_type": "code",
   "execution_count": 7,
   "metadata": {},
   "outputs": [
    {
     "name": "stdout",
     "output_type": "stream",
     "text": [
      "(210.0, 297.0)\n"
     ]
    }
   ],
   "source": [
    "print(pts_mm((a4[0]*mm,a4[1]*mm)))"
   ]
  },
  {
   "cell_type": "code",
   "execution_count": 5,
   "metadata": {},
   "outputs": [
    {
     "name": "stdout",
     "output_type": "stream",
     "text": [
      "2.834645669291339\n"
     ]
    }
   ],
   "source": [
    "print(mm)"
   ]
  },
  {
   "cell_type": "code",
   "execution_count": 3,
   "metadata": {},
   "outputs": [],
   "source": [
    "fp = tempfile.TemporaryFile()\n",
    "can = canvas.Canvas(fp, pagesize=(2*595.27, 2*841.89))"
   ]
  },
  {
   "cell_type": "code",
   "execution_count": 5,
   "metadata": {},
   "outputs": [],
   "source": [
    "can.lines([((0,100, 100,100)), ((200,100, 400,100))])"
   ]
  },
  {
   "cell_type": "code",
   "execution_count": null,
   "metadata": {},
   "outputs": [],
   "source": []
  },
  {
   "cell_type": "code",
   "execution_count": 32,
   "metadata": {},
   "outputs": [],
   "source": [
    "can.drawString(100,100,\" Test Pages\")"
   ]
  },
  {
   "cell_type": "code",
   "execution_count": 34,
   "metadata": {},
   "outputs": [],
   "source": [
    "can.setStrokeColorRGB(0.2,0.5,0.3)\n",
    "can.setFillColorRGB(1,0,1)\n",
    "#an draw some lines\n",
    "can.line(0,0,0,1.7*inch)\n",
    "can.line(0,0,1*inch,0)\n",
    "#an draw a rectangle\n",
    "can.rect(0.2*inch,0.2*inch,1*inch,1.5*inch, fill=1)\n",
    "#an make text go straight up\n",
    "can.rotate(90)\n",
    "#an change color\n",
    "can.setFillColorRGB(0,0,0.77)\n",
    "#an say hello (note after rotate the y coord needs to be negative!)\n",
    "can.drawString(0.3*inch, -inch, \"Hello World\")"
   ]
  },
  {
   "cell_type": "code",
   "execution_count": 35,
   "metadata": {},
   "outputs": [],
   "source": [
    "can.save()"
   ]
  },
  {
   "cell_type": "code",
   "execution_count": 36,
   "metadata": {},
   "outputs": [],
   "source": [
    "twopdf = pypdf.PdfFileReader(fp)"
   ]
  },
  {
   "cell_type": "code",
   "execution_count": 37,
   "metadata": {},
   "outputs": [],
   "source": [
    "genpdf = pypdf.PdfFileWriter()"
   ]
  },
  {
   "cell_type": "code",
   "execution_count": 47,
   "metadata": {},
   "outputs": [],
   "source": [
    "inputpage = inputsig.getPage(1)\n",
    "inputpage.add_transformation(pypdf.Transformation().rotate(90).translate(tx=10))"
   ]
  },
  {
   "cell_type": "code",
   "execution_count": 49,
   "metadata": {},
   "outputs": [],
   "source": [
    "page = twopdf.getPage(0)\n",
    "page.merge_page(inputpage)"
   ]
  },
  {
   "cell_type": "code",
   "execution_count": 50,
   "metadata": {},
   "outputs": [],
   "source": [
    "genpdf.add_page(inputpage)\n",
    "with open(\"./test.pdf\", \"wb\") as f:\n",
    "    genpdf.write(f)"
   ]
  },
  {
   "cell_type": "code",
   "execution_count": null,
   "metadata": {},
   "outputs": [],
   "source": [
    "twopdf = pypdf.PdfFileReader(fp)"
   ]
  },
  {
   "cell_type": "code",
   "execution_count": 59,
   "metadata": {},
   "outputs": [],
   "source": [
    "inputsig = pypdf.PdfFileReader('1-8.pdf')\n",
    "inputpage = inputsig.getPage(0)\n",
    "op = pypdf.Transformation().rotate(0).translate(ty=700, tx=500)\n",
    "inputpage.addTransformation(op)\n",
    "pagetwo = twopdf.getPage(0)\n",
    "pagetwo.merge_page(inputpage)\n",
    "\n",
    "\n",
    "genpdf = pypdf.PdfFileWriter()\n",
    "genpdf.add_page(pagetwo)\n",
    "\n",
    "with open(\"./copy_1-8.pdf\", \"wb\") as f:\n",
    "    genpdf.write(f)"
   ]
  },
  {
   "cell_type": "code",
   "execution_count": 69,
   "metadata": {},
   "outputs": [],
   "source": [
    "import math,io\n",
    "import PyPDF2 as pypdf\n",
    "import reportlab\n",
    "#paper sizes\n",
    "import reportlab.lib.pagesizes as pagesize\n",
    "import tempfile\n",
    "from reportlab.pdfgen import canvas\n",
    "from reportlab.lib.units import mm\n",
    "\n",
    "def convert(hex:str)->tuple:\n",
    "    if \"#\" in hex:\n",
    "        hex= hex.replace(\"#\",\"\")\n",
    "    R, G, B  = int(hex[0:2],16), int(hex[2:4],16), int(hex[4:6],16)\n",
    "    \n",
    "    R = R/255\n",
    "    G = G/255\n",
    "    B = B/255\n",
    "\n",
    "    K = 1- max(R,G,B)\n",
    "    C = (1-R-K)/(1 - K)\n",
    "    M = (1-G-K)/(1 - K)\n",
    "    Y = (1-B-K)/(1 - K)\n",
    "    return C, M, Y, K\n",
    "\n",
    "def sig_layout(n:int) -> tuple:\n",
    "        if type(n) != int or n<4 or n%4 !=0:\n",
    "            raise ValueError(f\"n:{n} must be a positive integer that multiple of 4.\")\n",
    "\n",
    "        if n%3 ==0:\n",
    "            i = math.log2(n) - math.log2(3) -1\n",
    "            return(3, int(2**i))\n",
    "        else:\n",
    "            i = int(math.log2(n/4))\n",
    "            if i%2 :\n",
    "                k = kp = int((i+1)/2)\n",
    "            else:\n",
    "                k = int(i/2)\n",
    "                kp = k+1\n",
    "            return (int(2**k), int(2**kp))\n",
    "\n",
    "# e.g: generate_layout((,), (1,4), n=20, d=5, proof=True, proofcode=\"\", trim=True, registration=True, cmyk=True)\n",
    "def generate_layout(#All dimensions are written in pts unit\n",
    "        pagesize:tuple, \n",
    "        pagenum:int,\n",
    "        n:tuple, nd:int, d:int, \n",
    "        proof:bool, proofcode:str, \n",
    "        trim:bool, \n",
    "        registration:bool, \n",
    "        cmyk:bool\n",
    "    ):\n",
    "\n",
    "        #Signature composition\n",
    "        ni = n[0]\n",
    "        ns = n[1]\n",
    "\n",
    "        n_block = int(pagenum/(ni * ns))\n",
    "\n",
    "        \n",
    "        #Paper Dimension\n",
    "        arrange =sig_layout(ns)\n",
    "        ny = arrange[0]\n",
    "        nx = arrange[1]\n",
    "        x = 2*nd + nx*pagesize[0] + (nx-1)*d    \n",
    "        y = 2*nd + ny*pagesize[1] + (ny-1)*d\n",
    "\n",
    "        \n",
    "\n",
    "        #Signature proof\n",
    "        if proof:\n",
    "            proof_height = pagesize[1]/n_block\n",
    "            proof_width = d\n",
    "            cmyk_proof = convert(proofcode)\n",
    "            proof_position = [nd+pagesize[0], nd+ny*pagesize[1] + (ny-1)*d-proof_height]\n",
    "        #trim\n",
    "        if trim:\n",
    "            trim_l = nd*(1/2)\n",
    "            #horizontal line\n",
    "            x1 = nd/4\n",
    "            x2 = nd + nx*pagesize[0] + (nx-1)*d +x1\n",
    "            y1 = nd + ny*pagesize[1] + (ny-1)*d\n",
    "            y2 = nd\n",
    "            #vertical line\n",
    "            x3 = nd\n",
    "            x4 = x2 - x1\n",
    "            y3 = nd/4\n",
    "            y4 = y1 + y3\n",
    "\n",
    "            trim_lines = [\n",
    "                (x1,y1, x1 + trim_l, y1), # h, u l\n",
    "                (x1,y2, x1 + trim_l, y2), # h, d l\n",
    "                (x2,y1, x2 + trim_l, y1), # h, u r\n",
    "                (x2,y2, x2 + trim_l, y2), # h, d r\n",
    "                (x3,y4, x3, y4 + trim_l), # v, u l\n",
    "                (x3,y3, x3, y3 + trim_l), # v, d l\n",
    "                (x4,y4, x4, y4 + trim_l), # v, u r\n",
    "                (x4,y3, x4, y3 + trim_l)  # v, d r\n",
    "            ]\n",
    "        if registration:\n",
    "            reg_l = nd/2\n",
    "            pass\n",
    "        if cmyk:\n",
    "            rec_l = nd/2\n",
    "            rec_d = nd/8\n",
    "            cmyk_position = [nd/4, y1-rec_l*2]\n",
    "\n",
    "        tem_pdf_byte = io.BytesIO()\n",
    "\n",
    "        layout = canvas.Canvas(tem_pdf_byte, pagesize = (x,y))\n",
    "\n",
    "        for i in range(0, n_block):\n",
    "            for j in range(0, ni):\n",
    "\n",
    "                #fill basic layout components\n",
    "                if proof and j==0 : # draw rectangle\n",
    "                    layout.setLineWidth(0)\n",
    "                    layout.setFillColorCMYK(cmyk_proof[0], cmyk_proof[1] ,cmyk_proof[2], cmyk_proof[3])\n",
    "                    layout.rect(proof_position[0], proof_position[1], proof_width, proof_height, fill=1)\n",
    "\n",
    "                    proof_position[1] = proof_position[1] - proof_height\n",
    "                for k in range(0,2):  \n",
    "                    if trim: # draw line\n",
    "                        layout.setLineWidth(0.5*mm)\n",
    "                        layout.lines(trim_lines)\n",
    "                    if registration: # add image\n",
    "                        pass\n",
    "                    if cmyk: \n",
    "                        layout.setLineWidth(0)\n",
    "                        layout.setFillColor(color_cyan)\n",
    "                        layout.rect(cmyk_position[0], cmyk_position[1], rec_l, rec_l, fill=1)\n",
    "                        cmyk_position[1] -=(rec_d + rec_l)\n",
    "                        layout.setFillColor(color_magenta)\n",
    "                        layout.rect(cmyk_position[0], cmyk_position[1], rec_l, rec_l, fill=1)\n",
    "                        cmyk_position[1] -=(rec_d + rec_l)\n",
    "                        layout.setFillColor(color_yellow)\n",
    "                        layout.rect(cmyk_position[0], cmyk_position[1], rec_l, rec_l, fill=1)\n",
    "                        cmyk_position[1] -=(rec_d + rec_l)\n",
    "                        layout.setFillColor(color_black)\n",
    "                        layout.rect(cmyk_position[0], cmyk_position[1], rec_l, rec_l, fill=1)\n",
    "                        cmyk_position[1] = y1-rec_l*2\n",
    "\n",
    "\n",
    "                    layout.showPage()\n",
    "\n",
    "        #----------------------------\n",
    "        layout.save()\n",
    "        tem_pdf_byte.seek(0)\n",
    "        tem_pdf  = pypdf.PdfReader(tem_pdf_byte)\n",
    "        return tem_pdf, tem_pdf_byte"
   ]
  },
  {
   "cell_type": "code",
   "execution_count": 47,
   "metadata": {},
   "outputs": [],
   "source": [
    "from reportlab.lib.colors import CMYKColor\n",
    "\n",
    "color_black = CMYKColor(0, 0, 0, 1)\n",
    "color_cyan = CMYKColor(1, 0, 0, 0)\n",
    "color_magenta = CMYKColor(0, 1, 0, 0)\n",
    "color_yellow = CMYKColor(0, 0, 1, 0)\n"
   ]
  },
  {
   "cell_type": "code",
   "execution_count": 28,
   "metadata": {},
   "outputs": [
    {
     "name": "stdout",
     "output_type": "stream",
     "text": [
      "CMYKColor(1,0,0,0,alpha=1)\n"
     ]
    }
   ],
   "source": [
    "print(color_cyan)"
   ]
  },
  {
   "cell_type": "code",
   "execution_count": 77,
   "metadata": {},
   "outputs": [],
   "source": [
    "test, test_byte = generate_layout(\n",
    "    (595.28, 841.89), \n",
    "    48,\n",
    "    (1,12), \n",
    "    nd=20, \n",
    "    d=5, \n",
    "    proof=True, \n",
    "    proofcode=\"#ff5733\", \n",
    "    trim=True, \n",
    "    registration=True, \n",
    "    cmyk=True\n",
    "    )\n",
    "testwrite = pypdf.PdfFileWriter()\n",
    "for i in range(0, test.numPages):\n",
    "    testwrite.add_page(test.getPage(i))\n",
    "\n",
    "with open(\"layout.pdf\", \"wb\") as f:\n",
    "    testwrite.write(f)\n"
   ]
  },
  {
   "cell_type": "code",
   "execution_count": 40,
   "metadata": {},
   "outputs": [
    {
     "data": {
      "text/plain": [
       "4"
      ]
     },
     "execution_count": 40,
     "metadata": {},
     "output_type": "execute_result"
    }
   ],
   "source": [
    "test.numPages"
   ]
  },
  {
   "cell_type": "code",
   "execution_count": 76,
   "metadata": {},
   "outputs": [
    {
     "data": {
      "text/plain": [
       "(3, 4)"
      ]
     },
     "execution_count": 76,
     "metadata": {},
     "output_type": "execute_result"
    }
   ],
   "source": [
    "sig_layout(24)"
   ]
  },
  {
   "cell_type": "code",
   "execution_count": 50,
   "metadata": {},
   "outputs": [],
   "source": []
  },
  {
   "cell_type": "code",
   "execution_count": 15,
   "metadata": {},
   "outputs": [
    {
     "name": "stdout",
     "output_type": "stream",
     "text": [
      "ff5733\n"
     ]
    }
   ],
   "source": [
    "if '#' in '#ff5733':\n",
    "    print('#ff5733'.replace(\"#\",\"\"))"
   ]
  },
  {
   "cell_type": "code",
   "execution_count": 20,
   "metadata": {},
   "outputs": [
    {
     "data": {
      "text/plain": [
       "1"
      ]
     },
     "execution_count": 20,
     "metadata": {},
     "output_type": "execute_result"
    }
   ],
   "source": [
    "(1,2)[0]"
   ]
  },
  {
   "cell_type": "code",
   "execution_count": null,
   "metadata": {},
   "outputs": [],
   "source": []
  }
 ],
 "metadata": {
  "kernelspec": {
   "display_name": "Python 3.9.12 ('PDFtoolForPublish')",
   "language": "python",
   "name": "python3"
  },
  "language_info": {
   "codemirror_mode": {
    "name": "ipython",
    "version": 3
   },
   "file_extension": ".py",
   "mimetype": "text/x-python",
   "name": "python",
   "nbconvert_exporter": "python",
   "pygments_lexer": "ipython3",
   "version": "3.9.12"
  },
  "orig_nbformat": 4,
  "vscode": {
   "interpreter": {
    "hash": "4c952d005f581c21dc2275b570f3c1e9387ce4c06d0ed04b9167b13f3587ce32"
   }
  }
 },
 "nbformat": 4,
 "nbformat_minor": 2
}
