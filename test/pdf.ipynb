{
 "cells": [
  {
   "cell_type": "code",
   "execution_count": 1,
   "metadata": {},
   "outputs": [],
   "source": [
    "import PyPDF2 as pypdf\n",
    "import reportlab"
   ]
  },
  {
   "cell_type": "code",
   "execution_count": 20,
   "metadata": {},
   "outputs": [],
   "source": [
    "#paper sizes\n",
    "import reportlab.lib.pagesizes as pagesize"
   ]
  },
  {
   "cell_type": "code",
   "execution_count": 12,
   "metadata": {},
   "outputs": [],
   "source": [
    "inputsig = pypdf.PdfFileReader('1-8.pdf')"
   ]
  },
  {
   "cell_type": "code",
   "execution_count": 13,
   "metadata": {},
   "outputs": [
    {
     "data": {
      "text/plain": [
       "RectangleObject([0, 0, 595.27559, 841.88976])"
      ]
     },
     "execution_count": 13,
     "metadata": {},
     "output_type": "execute_result"
    }
   ],
   "source": [
    "inputsig.getPage(0)"
   ]
  },
  {
   "cell_type": "code",
   "execution_count": 33,
   "metadata": {},
   "outputs": [],
   "source": [
    "import tempfile\n",
    "from reportlab.pdfgen import canvas\n",
    "from reportlab.lib.units import inch"
   ]
  },
  {
   "cell_type": "code",
   "execution_count": 31,
   "metadata": {},
   "outputs": [],
   "source": [
    "fp = tempfile.TemporaryFile()\n",
    "can = canvas.Canvas(fp, pagesize=(2*595.27, 2*841.89))"
   ]
  },
  {
   "cell_type": "code",
   "execution_count": 32,
   "metadata": {},
   "outputs": [],
   "source": [
    "can.drawString(100,100,\" Test Pages\")"
   ]
  },
  {
   "cell_type": "code",
   "execution_count": 34,
   "metadata": {},
   "outputs": [],
   "source": [
    "can.setStrokeColorRGB(0.2,0.5,0.3)\n",
    "can.setFillColorRGB(1,0,1)\n",
    "#an draw some lines\n",
    "can.line(0,0,0,1.7*inch)\n",
    "can.line(0,0,1*inch,0)\n",
    "#an draw a rectangle\n",
    "can.rect(0.2*inch,0.2*inch,1*inch,1.5*inch, fill=1)\n",
    "#an make text go straight up\n",
    "can.rotate(90)\n",
    "#an change color\n",
    "can.setFillColorRGB(0,0,0.77)\n",
    "#an say hello (note after rotate the y coord needs to be negative!)\n",
    "can.drawString(0.3*inch, -inch, \"Hello World\")"
   ]
  },
  {
   "cell_type": "code",
   "execution_count": 35,
   "metadata": {},
   "outputs": [],
   "source": [
    "can.save()"
   ]
  },
  {
   "cell_type": "code",
   "execution_count": 36,
   "metadata": {},
   "outputs": [],
   "source": [
    "twopdf = pypdf.PdfFileReader(fp)"
   ]
  },
  {
   "cell_type": "code",
   "execution_count": 37,
   "metadata": {},
   "outputs": [],
   "source": [
    "genpdf = pypdf.PdfFileWriter()"
   ]
  },
  {
   "cell_type": "code",
   "execution_count": 47,
   "metadata": {},
   "outputs": [],
   "source": [
    "inputpage = inputsig.getPage(1)\n",
    "inputpage.add_transformation(pypdf.Transformation().rotate(90).translate(tx=10))"
   ]
  },
  {
   "cell_type": "code",
   "execution_count": 49,
   "metadata": {},
   "outputs": [],
   "source": [
    "page = twopdf.getPage(0)\n",
    "page.merge_page(inputpage)"
   ]
  },
  {
   "cell_type": "code",
   "execution_count": 50,
   "metadata": {},
   "outputs": [],
   "source": [
    "genpdf.add_page(inputpage)\n",
    "with open(\"./test.pdf\", \"wb\") as f:\n",
    "    genpdf.write(f)"
   ]
  },
  {
   "cell_type": "code",
   "execution_count": null,
   "metadata": {},
   "outputs": [],
   "source": [
    "twopdf = pypdf.PdfFileReader(fp)"
   ]
  },
  {
   "cell_type": "code",
   "execution_count": 59,
   "metadata": {},
   "outputs": [],
   "source": [
    "inputsig = pypdf.PdfFileReader('1-8.pdf')\n",
    "inputpage = inputsig.getPage(0)\n",
    "op = pypdf.Transformation().rotate(0).translate(ty=700, tx=500)\n",
    "inputpage.addTransformation(op)\n",
    "pagetwo = twopdf.getPage(0)\n",
    "pagetwo.merge_page(inputpage)\n",
    "\n",
    "\n",
    "genpdf = pypdf.PdfFileWriter()\n",
    "genpdf.add_page(pagetwo)\n",
    "\n",
    "with open(\"./copy_1-8.pdf\", \"wb\") as f:\n",
    "    genpdf.write(f)"
   ]
  },
  {
   "cell_type": "code",
   "execution_count": null,
   "metadata": {},
   "outputs": [],
   "source": []
  },
  {
   "cell_type": "code",
   "execution_count": null,
   "metadata": {},
   "outputs": [],
   "source": []
  }
 ],
 "metadata": {
  "kernelspec": {
   "display_name": "Python 3.9.13 64-bit (windows store)",
   "language": "python",
   "name": "python3"
  },
  "language_info": {
   "codemirror_mode": {
    "name": "ipython",
    "version": 3
   },
   "file_extension": ".py",
   "mimetype": "text/x-python",
   "name": "python",
   "nbconvert_exporter": "python",
   "pygments_lexer": "ipython3",
   "version": "3.9.13"
  },
  "orig_nbformat": 4,
  "vscode": {
   "interpreter": {
    "hash": "9d464b7aebadcb9bae1cef1ad93ae1bea7480740daac4ec12858463c30f8bab2"
   }
  }
 },
 "nbformat": 4,
 "nbformat_minor": 2
}
