{
 "cells": [
  {
   "cell_type": "code",
   "execution_count": 2,
   "metadata": {},
   "outputs": [],
   "source": [
    "import PyPDF2 as pypdf\n",
    "import reportlab"
   ]
  },
  {
   "cell_type": "code",
   "execution_count": 1,
   "metadata": {},
   "outputs": [
    {
     "ename": "ImportError",
     "evalue": "cannot import name 'pdfrw' from 'reportlab' (c:\\Users\\qwqwh\\anaconda3\\envs\\PDFtoolForPublish\\lib\\site-packages\\reportlab\\__init__.py)",
     "output_type": "error",
     "traceback": [
      "\u001b[1;31m---------------------------------------------------------------------------\u001b[0m",
      "\u001b[1;31mImportError\u001b[0m                               Traceback (most recent call last)",
      "\u001b[1;32mc:\\Users\\qwqwh\\Documents\\GitHub\\Booklet\\test\\pdf.ipynb Cell 2'\u001b[0m in \u001b[0;36m<cell line: 1>\u001b[1;34m()\u001b[0m\n\u001b[1;32m----> <a href='vscode-notebook-cell:/c%3A/Users/qwqwh/Documents/GitHub/Booklet/test/pdf.ipynb#ch0000017?line=0'>1</a>\u001b[0m \u001b[39mfrom\u001b[39;00m \u001b[39mreportlab\u001b[39;00m \u001b[39mimport\u001b[39;00m pdfrw\n",
      "\u001b[1;31mImportError\u001b[0m: cannot import name 'pdfrw' from 'reportlab' (c:\\Users\\qwqwh\\anaconda3\\envs\\PDFtoolForPublish\\lib\\site-packages\\reportlab\\__init__.py)"
     ]
    }
   ],
   "source": [
    "from reportlab import pdfrw"
   ]
  },
  {
   "cell_type": "code",
   "execution_count": 3,
   "metadata": {},
   "outputs": [],
   "source": [
    "#paper sizes\n",
    "import reportlab.lib.pagesizes as pagesize"
   ]
  },
  {
   "cell_type": "code",
   "execution_count": 4,
   "metadata": {},
   "outputs": [],
   "source": [
    "inputsig = pypdf.PdfFileReader('1-8.pdf')"
   ]
  },
  {
   "cell_type": "code",
   "execution_count": 33,
   "metadata": {},
   "outputs": [],
   "source": [
    "import tempfile\n",
    "from reportlab.pdfgen import canvas\n",
    "from reportlab.lib.units import inch"
   ]
  },
  {
   "cell_type": "code",
   "execution_count": 31,
   "metadata": {},
   "outputs": [],
   "source": [
    "fp = tempfile.TemporaryFile()\n",
    "can = canvas.Canvas(fp, pagesize=(2*595.27, 2*841.89))"
   ]
  },
  {
   "cell_type": "code",
   "execution_count": 32,
   "metadata": {},
   "outputs": [],
   "source": [
    "can.drawString(100,100,\" Test Pages\")"
   ]
  },
  {
   "cell_type": "code",
   "execution_count": 34,
   "metadata": {},
   "outputs": [],
   "source": [
    "can.setStrokeColorRGB(0.2,0.5,0.3)\n",
    "can.setFillColorRGB(1,0,1)\n",
    "#an draw some lines\n",
    "can.line(0,0,0,1.7*inch)\n",
    "can.line(0,0,1*inch,0)\n",
    "#an draw a rectangle\n",
    "can.rect(0.2*inch,0.2*inch,1*inch,1.5*inch, fill=1)\n",
    "#an make text go straight up\n",
    "can.rotate(90)\n",
    "#an change color\n",
    "can.setFillColorRGB(0,0,0.77)\n",
    "#an say hello (note after rotate the y coord needs to be negative!)\n",
    "can.drawString(0.3*inch, -inch, \"Hello World\")"
   ]
  },
  {
   "cell_type": "code",
   "execution_count": 35,
   "metadata": {},
   "outputs": [],
   "source": [
    "can.save()"
   ]
  },
  {
   "cell_type": "code",
   "execution_count": 36,
   "metadata": {},
   "outputs": [],
   "source": [
    "twopdf = pypdf.PdfFileReader(fp)"
   ]
  },
  {
   "cell_type": "code",
   "execution_count": 37,
   "metadata": {},
   "outputs": [],
   "source": [
    "genpdf = pypdf.PdfFileWriter()"
   ]
  },
  {
   "cell_type": "code",
   "execution_count": 47,
   "metadata": {},
   "outputs": [],
   "source": [
    "inputpage = inputsig.getPage(1)\n",
    "inputpage.add_transformation(pypdf.Transformation().rotate(90).translate(tx=10))"
   ]
  },
  {
   "cell_type": "code",
   "execution_count": 49,
   "metadata": {},
   "outputs": [],
   "source": [
    "page = twopdf.getPage(0)\n",
    "page.merge_page(inputpage)"
   ]
  },
  {
   "cell_type": "code",
   "execution_count": 50,
   "metadata": {},
   "outputs": [],
   "source": [
    "genpdf.add_page(inputpage)\n",
    "with open(\"./test.pdf\", \"wb\") as f:\n",
    "    genpdf.write(f)"
   ]
  },
  {
   "cell_type": "code",
   "execution_count": null,
   "metadata": {},
   "outputs": [],
   "source": [
    "twopdf = pypdf.PdfFileReader(fp)"
   ]
  },
  {
   "cell_type": "code",
   "execution_count": 59,
   "metadata": {},
   "outputs": [],
   "source": [
    "inputsig = pypdf.PdfFileReader('1-8.pdf')\n",
    "inputpage = inputsig.getPage(0)\n",
    "op = pypdf.Transformation().rotate(0).translate(ty=700, tx=500)\n",
    "inputpage.addTransformation(op)\n",
    "pagetwo = twopdf.getPage(0)\n",
    "pagetwo.merge_page(inputpage)\n",
    "\n",
    "\n",
    "genpdf = pypdf.PdfFileWriter()\n",
    "genpdf.add_page(pagetwo)\n",
    "\n",
    "with open(\"./copy_1-8.pdf\", \"wb\") as f:\n",
    "    genpdf.write(f)"
   ]
  },
  {
   "cell_type": "code",
   "execution_count": null,
   "metadata": {},
   "outputs": [],
   "source": [
    "import io\n",
    "\n",
    "def sig_layout():\n",
    "    pass\n",
    "\n",
    "def generate_layout(\n",
    "        pagesize:tuple, n:int, nd:int, d:int, \n",
    "        proof:bool, proofcode:str, \n",
    "        trim:bool, \n",
    "        registration:bool, \n",
    "        cmyk:bool\n",
    "    ):\n",
    "    tem_pdf_byte = io.BytesIO()\n",
    "\n",
    "    \n",
    "    arrange = PDFsig.sig_layout(n)\n",
    "\n",
    "    nx = arrange[0]\n",
    "    ny = arrange[1]\n",
    "\n",
    "    x = 2*nd + nx*pagesize[0] + (nx-1)*d    \n",
    "    y = 2*nd + ny*pagesize[1] + (ny-1)*d\n",
    "\n",
    "    layout = canvas.Canvas(tem_pdf_byte, pagesize = (x,y))\n",
    "    #fill basic layout components\n",
    "    if proof: # draw rectangle\n",
    "        pass\n",
    "    if trim: # draw line\n",
    "        pass\n",
    "    if registration: # add image\n",
    "        pass\n",
    "    if cmyk: #add image\n",
    "        pass\n",
    "\n",
    "    #----------------------------\n",
    "    layout.save()\n",
    "    tem_pdf_byte.seek(0)\n",
    "    tem_pdf  = pypdf.PdfReader(tem_pdf_byte)\n",
    "    tem_pdf_byte.close()\n",
    "    return tem_pdf"
   ]
  }
 ],
 "metadata": {
  "interpreter": {
   "hash": "4c952d005f581c21dc2275b570f3c1e9387ce4c06d0ed04b9167b13f3587ce32"
  },
  "kernelspec": {
   "display_name": "Python 3.9.12 ('PDFtoolForPublish')",
   "language": "python",
   "name": "python3"
  },
  "language_info": {
   "codemirror_mode": {
    "name": "ipython",
    "version": 3
   },
   "file_extension": ".py",
   "mimetype": "text/x-python",
   "name": "python",
   "nbconvert_exporter": "python",
   "pygments_lexer": "ipython3",
   "version": "3.9.12"
  },
  "orig_nbformat": 4,
  "vscode": {
   "interpreter": {
    "hash": "9d464b7aebadcb9bae1cef1ad93ae1bea7480740daac4ec12858463c30f8bab2"
   }
  }
 },
 "nbformat": 4,
 "nbformat_minor": 2
}
