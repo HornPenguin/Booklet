{
 "cells": [
  {
   "cell_type": "code",
   "execution_count": null,
   "metadata": {},
   "outputs": [],
   "source": [
    "import os, sys\n",
    "sys.path.insert(1, os.getcwd()) \n",
    "sys.path.append(\"..\")"
   ]
  },
  {
   "cell_type": "code",
   "execution_count": null,
   "metadata": {},
   "outputs": [],
   "source": [
    "from booklet.tem_1_0_0.signature import  *\n",
    "from booklet.tem_1_0_0.converters import  *\n",
    "from booklet.tem_1_0_0.templates import  *"
   ]
  },
  {
   "cell_type": "code",
   "execution_count": 8,
   "metadata": {},
   "outputs": [],
   "source": [
    "def test(hello=None, *args, **kwargs):\n",
    "    print(hello)\n",
    "    print(args, len(args))\n",
    "    print(kwargs, len(kwargs))"
   ]
  },
  {
   "cell_type": "code",
   "execution_count": 9,
   "metadata": {},
   "outputs": [
    {
     "name": "stdout",
     "output_type": "stream",
     "text": [
      "(1, 2, 3)\n",
      "() 0\n",
      "{} 0\n"
     ]
    }
   ],
   "source": [
    "test((1, 2, 3))"
   ]
  },
  {
   "cell_type": "code",
   "execution_count": 10,
   "metadata": {},
   "outputs": [
    {
     "name": "stdout",
     "output_type": "stream",
     "text": [
      "1\n",
      "(2, 3) 2\n",
      "{} 0\n"
     ]
    }
   ],
   "source": [
    "test(1, 2, 3)"
   ]
  },
  {
   "cell_type": "code",
   "execution_count": 11,
   "metadata": {},
   "outputs": [
    {
     "name": "stdout",
     "output_type": "stream",
     "text": [
      "None\n",
      "() 0\n",
      "{'r': 1, 'g': 2, 'b': 3} 3\n"
     ]
    }
   ],
   "source": [
    "test(r=1, g= 2, b =3)"
   ]
  },
  {
   "cell_type": "markdown",
   "metadata": {},
   "source": [
    "## Color Test"
   ]
  },
  {
   "cell_type": "code",
   "execution_count": 1,
   "metadata": {},
   "outputs": [],
   "source": [
    "from reportlab.lib.colors import CMYKColor"
   ]
  },
  {
   "cell_type": "code",
   "execution_count": 2,
   "metadata": {},
   "outputs": [],
   "source": [
    "black = CMYKColor(1,1,1,0)"
   ]
  },
  {
   "cell_type": "code",
   "execution_count": 5,
   "metadata": {},
   "outputs": [
    {
     "data": {
      "text/plain": [
       "'0x000000'"
      ]
     },
     "execution_count": 5,
     "metadata": {},
     "output_type": "execute_result"
    }
   ],
   "source": [
    "black.hexval()"
   ]
  },
  {
   "cell_type": "code",
   "execution_count": 6,
   "metadata": {},
   "outputs": [
    {
     "data": {
      "text/plain": [
       "(0.0, 0.0, 0.0)"
      ]
     },
     "execution_count": 6,
     "metadata": {},
     "output_type": "execute_result"
    }
   ],
   "source": [
    "black.rgb()"
   ]
  },
  {
   "cell_type": "code",
   "execution_count": 7,
   "metadata": {},
   "outputs": [
    {
     "data": {
      "text/plain": [
       "(1, 1, 1, 0)"
      ]
     },
     "execution_count": 7,
     "metadata": {},
     "output_type": "execute_result"
    }
   ],
   "source": [
    "black.cmyk()"
   ]
  },
  {
   "cell_type": "markdown",
   "metadata": {},
   "source": [
    "# Signature basic test"
   ]
  },
  {
   "cell_type": "code",
   "execution_count": null,
   "metadata": {},
   "outputs": [],
   "source": [
    "sig_4 = Signature(\"test.pdf\", \".\", page_range=None)\n",
    "print(\"page_range:\", sig_4.page_range)\n",
    "print(\"ouput_path:\", sig_4.output_path)\n",
    "print(\"ouput_file_name:\", sig_4.basic_output_file_name)\n",
    "print(\"file_name:\", sig_4.file_name)\n",
    "print(\"modifier infos:\", sig_4.modifier_infos)"
   ]
  },
  {
   "cell_type": "code",
   "execution_count": null,
   "metadata": {},
   "outputs": [],
   "source": [
    "print(os.listdir(sig_4.output_path))\n",
    "sig_4.save_to_file()\n",
    "print(os.listdir(sig_4.output_path))"
   ]
  },
  {
   "cell_type": "markdown",
   "metadata": {},
   "source": [
    "# SigComposition Test"
   ]
  },
  {
   "cell_type": "code",
   "execution_count": null,
   "metadata": {},
   "outputs": [],
   "source": [
    "from pprint import pprint"
   ]
  },
  {
   "cell_type": "code",
   "execution_count": null,
   "metadata": {},
   "outputs": [],
   "source": [
    "sig = SigComposition(128, 16)\n",
    "print(f\"{sig.leaves}: {sig.composition}\")\n",
    "print(\"Layout: \", sig.layout)\n",
    "pprint(sig.imposition[0])"
   ]
  },
  {
   "cell_type": "code",
   "execution_count": null,
   "metadata": {},
   "outputs": [],
   "source": [
    "pprint(sig.imposition[0])\n",
    "pprint(sig.imposition[1])"
   ]
  },
  {
   "cell_type": "markdown",
   "metadata": {},
   "source": [
    "# Converters and Templates"
   ]
  },
  {
   "cell_type": "code",
   "execution_count": 28,
   "metadata": {},
   "outputs": [
    {
     "ename": "ModuleNotFoundError",
     "evalue": "No module named 'booklet.tem_1_0_0'",
     "output_type": "error",
     "traceback": [
      "\u001b[1;31m---------------------------------------------------------------------------\u001b[0m",
      "\u001b[1;31mModuleNotFoundError\u001b[0m                       Traceback (most recent call last)",
      "\u001b[1;32mc:\\Users\\Hyunseong\\OneDrive - GIST\\Project\\Programming\\Booklet\\test\\release_test.ipynb 셀 11\u001b[0m in \u001b[0;36m<cell line: 4>\u001b[1;34m()\u001b[0m\n\u001b[0;32m      <a href='vscode-notebook-cell:/c%3A/Users/Hyunseong/OneDrive%20-%20GIST/Project/Programming/Booklet/test/release_test.ipynb#X13sZmlsZQ%3D%3D?line=1'>2</a>\u001b[0m sys\u001b[39m.\u001b[39mpath\u001b[39m.\u001b[39minsert(\u001b[39m1\u001b[39m, os\u001b[39m.\u001b[39mgetcwd()) \n\u001b[0;32m      <a href='vscode-notebook-cell:/c%3A/Users/Hyunseong/OneDrive%20-%20GIST/Project/Programming/Booklet/test/release_test.ipynb#X13sZmlsZQ%3D%3D?line=2'>3</a>\u001b[0m sys\u001b[39m.\u001b[39mpath\u001b[39m.\u001b[39mappend(\u001b[39m\"\u001b[39m\u001b[39m..\u001b[39m\u001b[39m\"\u001b[39m)\n\u001b[1;32m----> <a href='vscode-notebook-cell:/c%3A/Users/Hyunseong/OneDrive%20-%20GIST/Project/Programming/Booklet/test/release_test.ipynb#X13sZmlsZQ%3D%3D?line=3'>4</a>\u001b[0m \u001b[39mfrom\u001b[39;00m \u001b[39mbooklet\u001b[39;00m\u001b[39m.\u001b[39;00m\u001b[39mtem_1_0_0\u001b[39;00m\u001b[39m.\u001b[39;00m\u001b[39msignature\u001b[39;00m \u001b[39mimport\u001b[39;00m  Manuscript\n\u001b[0;32m      <a href='vscode-notebook-cell:/c%3A/Users/Hyunseong/OneDrive%20-%20GIST/Project/Programming/Booklet/test/release_test.ipynb#X13sZmlsZQ%3D%3D?line=4'>5</a>\u001b[0m \u001b[39mfrom\u001b[39;00m \u001b[39mbooklet\u001b[39;00m\u001b[39m.\u001b[39;00m\u001b[39mtem_1_0_0\u001b[39;00m\u001b[39m.\u001b[39;00m\u001b[39mconverters\u001b[39;00m \u001b[39mimport\u001b[39;00m  Signature, ToImage, SigComposition\n\u001b[0;32m      <a href='vscode-notebook-cell:/c%3A/Users/Hyunseong/OneDrive%20-%20GIST/Project/Programming/Booklet/test/release_test.ipynb#X13sZmlsZQ%3D%3D?line=5'>6</a>\u001b[0m \u001b[39mfrom\u001b[39;00m \u001b[39mbooklet\u001b[39;00m\u001b[39m.\u001b[39;00m\u001b[39mtem_1_0_0\u001b[39;00m\u001b[39m.\u001b[39;00m\u001b[39mtemplates\u001b[39;00m \u001b[39mimport\u001b[39;00m  Imposition, PrintingMark, Note\n",
      "\u001b[1;31mModuleNotFoundError\u001b[0m: No module named 'booklet.tem_1_0_0'"
     ]
    }
   ],
   "source": [
    "import os, sys\n",
    "sys.path.insert(1, os.getcwd()) \n",
    "sys.path.append(\"..\")\n",
    "from booklet.tem_1_0_0.signature import  Manuscript\n",
    "from booklet.tem_1_0_0.converters import  Signature, ToImage, SigComposition\n",
    "from booklet.tem_1_0_0.templates import  Imposition, PrintingMark, Note"
   ]
  },
  {
   "cell_type": "code",
   "execution_count": 6,
   "metadata": {},
   "outputs": [],
   "source": [
    "manuscript = Manuscript(\"test.pdf\", \".\", filename = None,page_range=None)\n",
    "sig_composition = SigComposition(4,1)\n",
    "#manuscript.modifier_register(ToImage(dpi=600))\n",
    "manuscript.modifier_register(Signature(sig_composition, blank_mode=\"both\", riffle = True, fold=True))\n",
    "#manuscript.modifier_register(Note())\n",
    "manuscript.modifier_register(Imposition(True, 30, True, (0.5,0.5,0.5,0.), 20, sig_composition))\n",
    "manuscript.modifier_register(PrintingMark(100,True, True, True))\n"
   ]
  },
  {
   "cell_type": "code",
   "execution_count": 7,
   "metadata": {},
   "outputs": [
    {
     "data": {
      "text/plain": [
       "[{'Signature': {'type': 'converter',\n",
       "   'description': 'basic routine for signature generation'}},\n",
       " {'Imposition': {'type': 'template', 'description': 'Imposition work'}},\n",
       " {'PrintingMark': {'type': 'template',\n",
       "   'description': 'Add printing marks to manuscript'}}]"
      ]
     },
     "execution_count": 7,
     "metadata": {},
     "output_type": "execute_result"
    }
   ],
   "source": [
    "manuscript.modifier_infos"
   ]
  },
  {
   "cell_type": "code",
   "execution_count": 8,
   "metadata": {},
   "outputs": [
    {
     "name": "stdout",
     "output_type": "stream",
     "text": [
      "False 2x10 [245.0, 15.0] [245.0, 557.69685] 35.0\n"
     ]
    },
    {
     "data": {
      "text/plain": [
       "'all'"
      ]
     },
     "execution_count": 8,
     "metadata": {},
     "output_type": "execute_result"
    }
   ],
   "source": [
    "manuscript.update(file_mode=\"safe\")"
   ]
  },
  {
   "cell_type": "code",
   "execution_count": 9,
   "metadata": {},
   "outputs": [
    {
     "data": {
      "text/plain": [
       "0"
      ]
     },
     "execution_count": 9,
     "metadata": {},
     "output_type": "execute_result"
    }
   ],
   "source": [
    "manuscript.save_to_file()"
   ]
  },
  {
   "cell_type": "code",
   "execution_count": 10,
   "metadata": {},
   "outputs": [],
   "source": [
    "printing_mark = manuscript.modifiers[2]"
   ]
  },
  {
   "cell_type": "code",
   "execution_count": 16,
   "metadata": {},
   "outputs": [
    {
     "data": {
      "text/plain": [
       "(512.5, 62.5)"
      ]
     },
     "execution_count": 16,
     "metadata": {},
     "output_type": "execute_result"
    }
   ],
   "source": [
    "pa = 0.25 * printing_mark.margin\n",
    "(printing_mark.margin + printing_mark.reg_l+pa , pa )"
   ]
  },
  {
   "cell_type": "code",
   "execution_count": 6,
   "metadata": {},
   "outputs": [
    {
     "name": "stdout",
     "output_type": "stream",
     "text": [
      "/Creator Draw <class 'str'>\n",
      "/Producer HornPenguin Booklet <class 'str'>\n",
      "/CreationDate D:20220617175511+09'00' <class 'str'>\n",
      "/signature 16 <class 'int'>\n",
      "/Imposition 2x4 <class 'str'>\n",
      "/ModDate D:20220913223211+09'00' <class 'str'>\n"
     ]
    }
   ],
   "source": [
    "for meta in manuscript.meta:\n",
    "    value = manuscript.meta[meta]\n",
    "    print(meta, manuscript.meta[meta], type(value))"
   ]
  },
  {
   "cell_type": "markdown",
   "metadata": {},
   "source": [
    "example\n",
    "\n",
    "D:20220617175511+09'00'\n",
    "\n",
    "D:{2022}{06}{17}{17}{55}{11}+09'00'\n",
    "\n",
    "D:{year}{month}{date}{time}{hour}{minute}{second}"
   ]
  },
  {
   "cell_type": "markdown",
   "metadata": {},
   "source": [
    "## Tempfile Test"
   ]
  },
  {
   "cell_type": "code",
   "execution_count": 34,
   "metadata": {},
   "outputs": [],
   "source": [
    "import os, sys\n",
    "sys.path.insert(1, os.getcwd()) \n",
    "sys.path.append(\"..\")\n",
    "import io, tempfile\n",
    "import PyPDF2\n",
    "from reportlab.pdfgen.canvas import Canvas"
   ]
  },
  {
   "cell_type": "code",
   "execution_count": 66,
   "metadata": {},
   "outputs": [],
   "source": [
    "temp_pdf_named = tempfile.NamedTemporaryFile(\n",
    "                mode= \"wb\",\n",
    "                prefix=f\"{0}_{__name__}_\",  \n",
    "                suffix=\".pdf\", \n",
    "                dir=tem_dir.name,\n",
    "                )"
   ]
  },
  {
   "cell_type": "code",
   "execution_count": 70,
   "metadata": {},
   "outputs": [
    {
     "data": {
      "text/plain": [
       "True"
      ]
     },
     "execution_count": 70,
     "metadata": {},
     "output_type": "execute_result"
    }
   ],
   "source": [
    "temp_pdf_named.delete"
   ]
  },
  {
   "cell_type": "code",
   "execution_count": null,
   "metadata": {},
   "outputs": [],
   "source": [
    "class NamedTempFile:\n",
    "    def __init__(self, tempfile:TempFile, mode:Union[None,str], delete:bool = False):\n",
    "        if tempfile.delete:\n",
    "            raise ValueError(\"Named Temporary File must be in non-delete mode.\")\n",
    "        self.path = Path(tempfile.name)\n",
    "        self.mode = tempfile.mode if mode ==None else mode\n",
    "        self.delete = delete if type(delete, bool) else False\n",
    "        tempfile.close()\n",
    "        os.unlink(self.path)\n",
    "        self.stream = open(self.path, tempfile.mode)\n",
    "    def __del__(self, *args):\n",
    "        self.close()\n",
    "        if self.delete:\n",
    "            os.remove(self.path)\n",
    "    def __exit__(self, *args):\n",
    "        self.close()\n",
    "        if self.delete:\n",
    "            os.remove(self.path)\n",
    "    @classmethod\n",
    "    def from_temp_setting(cls, *args, **kwargs):\n",
    "        kwargs[\"dir\"] = False\n",
    "        return cls(tempfile.NamedTemporaryFile(args, kwargs))\n",
    "    @property\n",
    "    def closed(self):\n",
    "        return self.stream.closed\n",
    "    def fileno(self):\n",
    "        return self.stream.fileno()\n",
    "    def truncate(self):\n",
    "        return self.stream.truncate()\n",
    "    def tell(self):\n",
    "        return self.stream.tell()\n",
    "    def isatty(self):\n",
    "        return self.stream.isatty()\n",
    "    def flush(self):\n",
    "        return self.stream.flush()\n",
    "    def seek(self, *args, **kwargs):\n",
    "        return self.stream.seek(args, kwargs)\n",
    "    def close(self):\n",
    "        return self.stream.close()\n",
    "    def readable(self):\n",
    "        return self.stream.readable()\n",
    "    def read(self, *args, **kwargs):\n",
    "        return self.stream.read(args, kwargs)\n",
    "    def readline(self, *args, **kwargs):\n",
    "        return self.stream.readline(args, kwargs)\n",
    "    def readlines(self, *args, **kwargs):\n",
    "        return self.stream.readlines(args, kwargs)\n",
    "    def writeable(self):\n",
    "        return self.stream.writable()\n",
    "    def write(self, *args, **kwargs):\n",
    "        return self.stream.write(args, kwargs)\n",
    "    def writeline(self, *args, **kwargs):\n",
    "        return self.stream.writeline(args, kwargs)\n",
    "    def writelines(self, *args, **kwargs):\n",
    "        return self.stream.writelines(args, kwargs)"
   ]
  },
  {
   "cell_type": "code",
   "execution_count": 67,
   "metadata": {},
   "outputs": [
    {
     "ename": "PermissionError",
     "evalue": "[Errno 13] Permission denied: 'C:\\\\Users\\\\HYUNSE~1\\\\AppData\\\\Local\\\\Temp\\\\tmpqdix4v0p\\\\0___main___4t8k6j19.pdf'",
     "output_type": "error",
     "traceback": [
      "\u001b[1;31m---------------------------------------------------------------------------\u001b[0m",
      "\u001b[1;31mPermissionError\u001b[0m                           Traceback (most recent call last)",
      "\u001b[1;32mc:\\Users\\Hyunseong\\OneDrive - GIST\\Project\\Programming\\Booklet\\test\\release_test.ipynb 셀 23\u001b[0m in \u001b[0;36m<cell line: 1>\u001b[1;34m()\u001b[0m\n\u001b[1;32m----> <a href='vscode-notebook-cell:/c%3A/Users/Hyunseong/OneDrive%20-%20GIST/Project/Programming/Booklet/test/release_test.ipynb#X53sZmlsZQ%3D%3D?line=0'>1</a>\u001b[0m \u001b[39mwith\u001b[39;00m \u001b[39mopen\u001b[39;49m(temp_pdf_named\u001b[39m.\u001b[39;49mname, \u001b[39m\"\u001b[39;49m\u001b[39mr\u001b[39;49m\u001b[39m\"\u001b[39;49m) \u001b[39mas\u001b[39;00m f:\n\u001b[0;32m      <a href='vscode-notebook-cell:/c%3A/Users/Hyunseong/OneDrive%20-%20GIST/Project/Programming/Booklet/test/release_test.ipynb#X53sZmlsZQ%3D%3D?line=1'>2</a>\u001b[0m     st \u001b[39m=\u001b[39mf\u001b[39m.\u001b[39mread()\n",
      "\u001b[1;31mPermissionError\u001b[0m: [Errno 13] Permission denied: 'C:\\\\Users\\\\HYUNSE~1\\\\AppData\\\\Local\\\\Temp\\\\tmpqdix4v0p\\\\0___main___4t8k6j19.pdf'"
     ]
    }
   ],
   "source": [
    "with open(temp_pdf_named.name, \"r\") as f:\n",
    "    st =f.read()"
   ]
  },
  {
   "cell_type": "code",
   "execution_count": 103,
   "metadata": {},
   "outputs": [],
   "source": [
    "from pathlib import Path\n",
    "class NamedTempFile:\n",
    "    def __init__(self, tempfile, mode=None, delete:bool = False):\n",
    "        if tempfile.delete:\n",
    "            raise ValueError(\"Named Temporary File must be in non-delete mode.\")\n",
    "        self.path = Path(tempfile.name)\n",
    "        self.mode = tempfile.mode if mode ==None else mode\n",
    "        self.delete = delete if type(delete) ==bool else False\n",
    "        tempfile.close()\n",
    "        #os.unlink(self.path)\n",
    "        self.stream = open(self.path, self.mode)\n",
    "    def __del__(self, *args):\n",
    "        self.close()\n",
    "        if self.delete:\n",
    "            os.remove(self.path)\n",
    "    def __exit__(self, *args):\n",
    "        self.close()\n",
    "        if self.delete:\n",
    "            os.remove(self.path)\n",
    "    @classmethod\n",
    "    def from_temp_setting(cls, *args, **kwargs):\n",
    "        kwargs[\"delete\"] = False\n",
    "        return cls(tempfile.NamedTemporaryFile(*args, **kwargs))\n",
    "    @property\n",
    "    def closed(self):\n",
    "        return self.stream.closed\n",
    "    def fileno(self):\n",
    "        return self.stream.fileno()\n",
    "    def truncate(self):\n",
    "        return self.stream.truncate()\n",
    "    def tell(self):\n",
    "        return self.stream.tell()\n",
    "    def isatty(self):\n",
    "        return self.stream.isatty()\n",
    "    def flush(self):\n",
    "        return self.stream.flush()\n",
    "    def seek(self, *args, **kwargs):\n",
    "        return self.stream.seek(*args, **kwargs)\n",
    "    def close(self):\n",
    "        return self.stream.close()\n",
    "    def readable(self):\n",
    "        return self.stream.readable()\n",
    "    def read(self, *args, **kwargs):\n",
    "        return self.stream.read(*args, **kwargs)\n",
    "    def readline(self, *args, **kwargs):\n",
    "        return self.stream.readline(*args, **kwargs)\n",
    "    def readlines(self, *args, **kwargs):\n",
    "        return self.stream.readlines(*args, **kwargs)\n",
    "    def writeable(self):\n",
    "        return self.stream.writable()\n",
    "    def write(self, *args, **kwargs):\n",
    "        return self.stream.write(*args, **kwargs)\n",
    "    def writeline(self, *args, **kwargs):\n",
    "        return self.stream.writeline(*args, **kwargs)\n",
    "    def writelines(self, *args, **kwargs):\n",
    "        return self.stream.writelines(*args, **kwargs)"
   ]
  },
  {
   "cell_type": "code",
   "execution_count": 113,
   "metadata": {},
   "outputs": [],
   "source": [
    "from tempfile import NamedTemporaryFile\n",
    "\n",
    "tem_dir = tempfile.TemporaryDirectory()\n",
    "byte_pdf = io.BytesIO()\n",
    "test_pdf = NamedTempFile.from_temp_setting(\n",
    "        mode= \"rb+\",\n",
    "        prefix=f\"{0}_{__name__}_\", \n",
    "        suffix=\".pdf\", \n",
    "        dir=tem_dir.name,\n",
    "        delete = False\n",
    ")"
   ]
  },
  {
   "cell_type": "code",
   "execution_count": 114,
   "metadata": {},
   "outputs": [],
   "source": [
    "pdf = PyPDF2.PdfFileReader(\"./test.pdf\")"
   ]
  },
  {
   "cell_type": "code",
   "execution_count": 115,
   "metadata": {},
   "outputs": [],
   "source": [
    "newpdf = PyPDF2.PdfFileWriter()\n",
    "newpdf.append_pages_from_reader(pdf)"
   ]
  },
  {
   "cell_type": "code",
   "execution_count": 116,
   "metadata": {},
   "outputs": [],
   "source": [
    "temp_named_pdf_can = Canvas(test_pdf, pagesize = (100,100))"
   ]
  },
  {
   "cell_type": "code",
   "execution_count": 117,
   "metadata": {},
   "outputs": [],
   "source": [
    "temp_named_pdf_can.rect(0,0,50,50,fill=1)"
   ]
  },
  {
   "cell_type": "code",
   "execution_count": 118,
   "metadata": {},
   "outputs": [],
   "source": [
    "temp_named_pdf_can.showPage()"
   ]
  },
  {
   "cell_type": "code",
   "execution_count": 119,
   "metadata": {},
   "outputs": [],
   "source": [
    "temp_named_pdf_can.save()"
   ]
  },
  {
   "cell_type": "code",
   "execution_count": 121,
   "metadata": {},
   "outputs": [],
   "source": [
    "new3 =  PyPDF2.PdfFileReader(test_pdf)"
   ]
  },
  {
   "cell_type": "code",
   "execution_count": 122,
   "metadata": {},
   "outputs": [
    {
     "data": {
      "text/plain": [
       "11"
      ]
     },
     "execution_count": 122,
     "metadata": {},
     "output_type": "execute_result"
    }
   ],
   "source": [
    "temp_pdf_named.fileno()"
   ]
  },
  {
   "cell_type": "code",
   "execution_count": 123,
   "metadata": {},
   "outputs": [
    {
     "data": {
      "text/plain": [
       "True"
      ]
     },
     "execution_count": 123,
     "metadata": {},
     "output_type": "execute_result"
    }
   ],
   "source": [
    "isinstance(byte_pdf, io.BytesIO)"
   ]
  },
  {
   "cell_type": "code",
   "execution_count": null,
   "metadata": {},
   "outputs": [],
   "source": []
  }
 ],
 "metadata": {
  "kernelspec": {
   "display_name": "Python 3.10.4 ('booklet')",
   "language": "python",
   "name": "python3"
  },
  "language_info": {
   "codemirror_mode": {
    "name": "ipython",
    "version": 3
   },
   "file_extension": ".py",
   "mimetype": "text/x-python",
   "name": "python",
   "nbconvert_exporter": "python",
   "pygments_lexer": "ipython3",
   "version": "3.10.4"
  },
  "orig_nbformat": 4,
  "vscode": {
   "interpreter": {
    "hash": "7a0064eb676495ab0294ef1746325145c23123edd6ffac423098a0856c3eb930"
   }
  }
 },
 "nbformat": 4,
 "nbformat_minor": 2
}
